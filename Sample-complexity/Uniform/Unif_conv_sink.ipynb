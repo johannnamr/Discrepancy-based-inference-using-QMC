{
  "nbformat": 4,
  "nbformat_minor": 0,
  "metadata": {
    "colab": {
      "name": "Unif_conv_sink.ipynb",
      "provenance": [],
      "collapsed_sections": [],
      "machine_shape": "hm",
      "authorship_tag": "ABX9TyNXxMK2+N+HQGk7UFQmxD3T",
      "include_colab_link": true
    },
    "kernelspec": {
      "name": "python3",
      "display_name": "Python 3"
    },
    "accelerator": "GPU"
  },
  "cells": [
    {
      "cell_type": "markdown",
      "metadata": {
        "id": "view-in-github",
        "colab_type": "text"
      },
      "source": [
        "<a href=\"https://colab.research.google.com/github/johannnamr/Discrepancy-based-inference-using-QMC/blob/main/Sample-complexity/Uniform/Unif_conv_sink.ipynb\" target=\"_parent\"><img src=\"https://colab.research.google.com/assets/colab-badge.svg\" alt=\"Open In Colab\"/></a>"
      ]
    },
    {
      "cell_type": "markdown",
      "metadata": {
        "id": "eAgqDlxLZjVG"
      },
      "source": [
        "# Uniform distribution\n",
        "\n",
        "Notebook for convergence of the Sinkhorn divergence"
      ]
    },
    {
      "cell_type": "markdown",
      "metadata": {
        "id": "l9gFgq4hwYgD"
      },
      "source": [
        "### Mount Drive"
      ]
    },
    {
      "cell_type": "code",
      "metadata": {
        "id": "rD-DsqPqbigO",
        "colab": {
          "base_uri": "https://localhost:8080/"
        },
        "outputId": "8fde62d9-cf15-4570-c9db-10beedd646f0"
      },
      "source": [
        "# mount my drive\n",
        "from google.colab import drive\n",
        "drive.mount(\"/content/drive\")"
      ],
      "execution_count": null,
      "outputs": [
        {
          "output_type": "stream",
          "text": [
            "Drive already mounted at /content/drive; to attempt to forcibly remount, call drive.mount(\"/content/drive\", force_remount=True).\n"
          ],
          "name": "stdout"
        }
      ]
    },
    {
      "cell_type": "markdown",
      "metadata": {
        "id": "9BYKBIZb_qUU"
      },
      "source": [
        "The following path has to be adjusted if necessary:"
      ]
    },
    {
      "cell_type": "code",
      "metadata": {
        "id": "W48gIUnqA4K4",
        "colab": {
          "base_uri": "https://localhost:8080/"
        },
        "outputId": "88909229-3075-4eca-a291-4ebbb6bca4df"
      },
      "source": [
        "%run \"/content/drive/My Drive/Colab Notebooks/Utils.ipynb\"\n",
        "%run \"/content/drive/My Drive/Colab Notebooks/Plot_fcts.ipynb\""
      ],
      "execution_count": null,
      "outputs": [
        {
          "output_type": "stream",
          "text": [
            "Requirement already satisfied: pip in /usr/local/lib/python3.7/dist-packages (21.0.1)\n"
          ],
          "name": "stdout"
        }
      ]
    },
    {
      "cell_type": "markdown",
      "metadata": {
        "id": "EHVUjvNHdCLA"
      },
      "source": [
        "Set saving path (adjust if necessary):"
      ]
    },
    {
      "cell_type": "code",
      "metadata": {
        "id": "EAPzO15kdEUz"
      },
      "source": [
        "path = '/content/drive/My Drive/Colab Notebooks/Paper/Sample Complexity/'"
      ],
      "execution_count": null,
      "outputs": []
    },
    {
      "cell_type": "markdown",
      "metadata": {
        "id": "H_APd5qRZ3e7"
      },
      "source": [
        "### Imports"
      ]
    },
    {
      "cell_type": "code",
      "metadata": {
        "id": "SFT0Q7VmwdFW"
      },
      "source": [
        "import numpy as np"
      ],
      "execution_count": null,
      "outputs": []
    },
    {
      "cell_type": "markdown",
      "metadata": {
        "id": "QJ27l7qq76LI"
      },
      "source": [
        "### Sinkhorn divergence convergence"
      ]
    },
    {
      "cell_type": "markdown",
      "metadata": {
        "id": "CyOOgth5Z85-"
      },
      "source": [
        "Calculate Sinkhorn divergence for fixed $d=1$ and varying $n$:"
      ]
    },
    {
      "cell_type": "code",
      "metadata": {
        "id": "9l-c34P160eQ"
      },
      "source": [
        "np.random.seed(111)"
      ],
      "execution_count": null,
      "outputs": []
    },
    {
      "cell_type": "markdown",
      "metadata": {
        "id": "h8NS5lkg64lx"
      },
      "source": [
        "Set parameters:"
      ]
    },
    {
      "cell_type": "code",
      "metadata": {
        "id": "62mV95-_63ov"
      },
      "source": [
        "n = [ 2**j for j in range(3,15) ]       # number of simulated samples - powers of 2\n",
        "num = 25                                # numbers of repetitions for MC and RQMC\n",
        "d = 1                                   # dimensions of data\n",
        "e = 2                                   # parameter for Sinkhorn divergence\n",
        "method = 'sinkhorn_stabilized'          # 'sinkhorn' or 'sinkhorn_stabilized' or 'sinkhorn_epsilon_scaling'\n",
        "cost = 'sqeuclidean'                    # distance used for ground cost ('euclidean', 'sqeuclidean',‘minkowski’ or ‘cityblock’)\n",
        "sobol = True                            # 'True': Sobol points, 'False': Halton sequence"
      ],
      "execution_count": null,
      "outputs": []
    },
    {
      "cell_type": "markdown",
      "metadata": {
        "id": "981kzzXW_ial"
      },
      "source": [
        "Define the QMC sequence:"
      ]
    },
    {
      "cell_type": "code",
      "metadata": {
        "id": "PlbLuNMm_frv"
      },
      "source": [
        "if sobol:\n",
        "  qmc = qmcpy.Sobol(d)\n",
        "else:\n",
        "  qmc = qmcpy.Halton(d)"
      ],
      "execution_count": null,
      "outputs": []
    },
    {
      "cell_type": "markdown",
      "metadata": {
        "id": "Kt4rY5gj8NcW"
      },
      "source": [
        "Calculate Sinkhorn divergence for varying $n$:"
      ]
    },
    {
      "cell_type": "code",
      "metadata": {
        "id": "JZEo0ov48AJm"
      },
      "source": [
        "sink_mc,sink_qmc,sink_rqmc,sink_min_mc,sink_max_mc,sink_min_rqmc,sink_max_rqmc = sink_conv('unif',n,num,d,e,method=method,cost=cost,sobol=sobol)"
      ],
      "execution_count": null,
      "outputs": []
    },
    {
      "cell_type": "markdown",
      "metadata": {
        "id": "u_4KSvZw8UYi"
      },
      "source": [
        "Plot the Sinkhorn divergence against $n$:"
      ]
    },
    {
      "cell_type": "code",
      "metadata": {
        "id": "QPxnORlu8Y56"
      },
      "source": [
        "plot_sink_conv(n,(16,8),sink_mc,sink_qmc,sink_rqmc,'MC','QMC','RQMC',sink_min_mc,sink_max_mc,sink_min_rqmc,sink_max_rqmc)"
      ],
      "execution_count": null,
      "outputs": []
    },
    {
      "cell_type": "code",
      "metadata": {
        "id": "en42NFzwYtJg"
      },
      "source": [
        "if sobol:\n",
        "  np.savez(path+\"unif_sink_n_d=1_e=%s_sobol.npz\" %e, sink_mc=sink_mc,sink_min_mc=sink_min_mc,sink_max_mc=sink_max_mc,sink_rqmc=sink_rqmc,sink_min_rqmc=sink_min_rqmc,sink_max_rqmc=sink_max_rqmc,sink_qmc=sink_qmc)\n",
        "else:\n",
        "  np.savez(path+\"unif_sink_n_d=1_e=%s.npz\" %e, sink_mc=sink_mc,sink_min_mc=sink_min_mc,sink_max_mc=sink_max_mc,sink_rqmc=sink_rqmc,sink_min_rqmc=sink_min_rqmc,sink_max_rqmc=sink_max_rqmc,sink_qmc=sink_qmc)"
      ],
      "execution_count": null,
      "outputs": []
    },
    {
      "cell_type": "markdown",
      "metadata": {
        "id": "GacmgTh4h-sN"
      },
      "source": [
        "Calculate Sinkhorn divergence for fixed $n=m$ and varying $d$:"
      ]
    },
    {
      "cell_type": "code",
      "metadata": {
        "id": "Ec9ncOQvh-sP"
      },
      "source": [
        "np.random.seed(111)"
      ],
      "execution_count": null,
      "outputs": []
    },
    {
      "cell_type": "markdown",
      "metadata": {
        "id": "rKeEzqRjh-sR"
      },
      "source": [
        "Set parameters:"
      ]
    },
    {
      "cell_type": "code",
      "metadata": {
        "id": "tcp-zRGbh-sS"
      },
      "source": [
        "n = 2**13                                     # number of simulated samples - powers of 2\n",
        "num = 25                                      # numbers of repetitions for MC and RQMC\n",
        "d = [1,5,10,15,20,25,50,75,100,150,200,300]   # dimensions of data\n",
        "e = 2                                         # parameter for Sinkhorn divergence\n",
        "eadapt = True                                 # True: e is proportional to d^{1/2}\n",
        "method = 'sinkhorn_stabilized'                # 'sinkhorn' or 'sinkhorn_stabilized' or 'sinkhorn_epsilon_scaling'\n",
        "cost = 'sqeuclidean'                          # distance used for ground cost ('euclidean', 'sqeuclidean',‘minkowski’ or ‘cityblock’)\n",
        "sobol = True                                  # 'True': Sobol points, 'False': Halton sequence"
      ],
      "execution_count": null,
      "outputs": []
    },
    {
      "cell_type": "markdown",
      "metadata": {
        "id": "b1a9ZZTwh-sS"
      },
      "source": [
        "Define the QMC sequence:"
      ]
    },
    {
      "cell_type": "code",
      "metadata": {
        "id": "JP0gWG3Dh-sT"
      },
      "source": [
        "if sobol:\n",
        "  qmc = qmcpy.Sobol(np.max(d))\n",
        "else:\n",
        "  qmc = qmcpy.Halton(np.max(d))"
      ],
      "execution_count": null,
      "outputs": []
    },
    {
      "cell_type": "markdown",
      "metadata": {
        "id": "fatrc33ch-sT"
      },
      "source": [
        "Calculate Sinkhorn divergence for varying $d$:"
      ]
    },
    {
      "cell_type": "code",
      "metadata": {
        "id": "nluR8l7kh-sU"
      },
      "source": [
        "sink_mc,sink_qmc,sink_rqmc,sink_min_mc,sink_max_mc,sink_min_rqmc,sink_max_rqmc = sink_conv_d('unif',n,num,d,e,eadapt=eadapt,method=method,cost=cost,sobol=sobol)"
      ],
      "execution_count": null,
      "outputs": []
    },
    {
      "cell_type": "markdown",
      "metadata": {
        "id": "PNYV3GmDh-sV"
      },
      "source": [
        "Plot the Sinkhorn divergence against $d$:"
      ]
    },
    {
      "cell_type": "code",
      "metadata": {
        "id": "Yf7eZpyXh-sV"
      },
      "source": [
        "plot_sink_conv_d(d,(16,8),sink_mc,sink_qmc,sink_rqmc,'MC','QMC','RQMC',sink_min_mc,sink_max_mc,sink_min_rqmc,sink_max_rqmc)"
      ],
      "execution_count": null,
      "outputs": []
    },
    {
      "cell_type": "code",
      "metadata": {
        "id": "PdlH5q3Ph-sW"
      },
      "source": [
        "if sobol:\n",
        "  np.savez(path+\"unif_sink_d_n=8192_e=%sd_sobol.npz\" %e, sink_mc=sink_mc,sink_min_mc=sink_min_mc,sink_max_mc=sink_max_mc,sink_rqmc=sink_rqmc,sink_min_rqmc=sink_min_rqmc,sink_max_rqmc=sink_max_rqmc,sink_qmc=sink_qmc)\n",
        "else:\n",
        "  np.savez(path+\"unif_sink_d_n=8192_e=%sd.npz\" %e, sink_mc=sink_mc,sink_min_mc=sink_min_mc,sink_max_mc=sink_max_mc,sink_rqmc=sink_rqmc,sink_min_rqmc=sink_min_rqmc,sink_max_rqmc=sink_max_rqmc,sink_qmc=sink_qmc)"
      ],
      "execution_count": null,
      "outputs": []
    }
  ]
}