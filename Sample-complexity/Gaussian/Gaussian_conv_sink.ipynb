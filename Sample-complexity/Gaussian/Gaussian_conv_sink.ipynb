{
  "nbformat": 4,
  "nbformat_minor": 0,
  "metadata": {
    "accelerator": "GPU",
    "colab": {
      "name": "Gaussian_conv_sink.ipynb",
      "provenance": [],
      "collapsed_sections": [],
      "machine_shape": "hm",
      "authorship_tag": "ABX9TyOpkeLj6kepiNa8ZK63X+KU",
      "include_colab_link": true
    },
    "kernelspec": {
      "display_name": "Python 3",
      "name": "python3"
    }
  },
  "cells": [
    {
      "cell_type": "markdown",
      "metadata": {
        "id": "view-in-github",
        "colab_type": "text"
      },
      "source": [
        "<a href=\"https://colab.research.google.com/github/johannnamr/Discrepancy-based-inference-using-QMC/blob/main/Sample-complexity/Gaussian/Gaussian_conv_sink.ipynb\" target=\"_parent\"><img src=\"https://colab.research.google.com/assets/colab-badge.svg\" alt=\"Open In Colab\"/></a>"
      ]
    },
    {
      "cell_type": "markdown",
      "metadata": {
        "id": "eAgqDlxLZjVG"
      },
      "source": [
        "# Gaussian distribution\n",
        "\n",
        "Notebook for convergence of the Sinkhorn divergence"
      ]
    },
    {
      "cell_type": "markdown",
      "metadata": {
        "id": "l9gFgq4hwYgD"
      },
      "source": [
        "### Mount Drive"
      ]
    },
    {
      "cell_type": "code",
      "metadata": {
        "colab": {
          "base_uri": "https://localhost:8080/"
        },
        "id": "rD-DsqPqbigO",
        "outputId": "da4ae074-bfc7-4657-9eca-7783b1a48de9"
      },
      "source": [
        "# mount my drive\n",
        "from google.colab import drive\n",
        "drive.mount(\"/content/drive\")"
      ],
      "execution_count": null,
      "outputs": [
        {
          "output_type": "stream",
          "text": [
            "Drive already mounted at /content/drive; to attempt to forcibly remount, call drive.mount(\"/content/drive\", force_remount=True).\n"
          ],
          "name": "stdout"
        }
      ]
    },
    {
      "cell_type": "markdown",
      "metadata": {
        "id": "9BYKBIZb_qUU"
      },
      "source": [
        "The following path has to be adjusted if necessary:"
      ]
    },
    {
      "cell_type": "code",
      "metadata": {
        "colab": {
          "base_uri": "https://localhost:8080/"
        },
        "id": "W48gIUnqA4K4",
        "outputId": "f98ad66e-cecc-4dc9-b906-79ec1503c147"
      },
      "source": [
        "%run \"/content/drive/My Drive/Colab Notebooks/Utils.ipynb\"\n",
        "%run \"/content/drive/My Drive/Colab Notebooks/Plot_fcts.ipynb\""
      ],
      "execution_count": null,
      "outputs": [
        {
          "output_type": "stream",
          "text": [
            "Requirement already satisfied: pip in /usr/local/lib/python3.7/dist-packages (21.0.1)\n"
          ],
          "name": "stdout"
        }
      ]
    },
    {
      "cell_type": "markdown",
      "metadata": {
        "id": "EHVUjvNHdCLA"
      },
      "source": [
        "Set saving path (adjust if necessary):"
      ]
    },
    {
      "cell_type": "code",
      "metadata": {
        "id": "EAPzO15kdEUz"
      },
      "source": [
        "path = '/content/drive/My Drive/Colab Notebooks/Paper/Sample Complexity/'"
      ],
      "execution_count": null,
      "outputs": []
    },
    {
      "cell_type": "markdown",
      "metadata": {
        "id": "H_APd5qRZ3e7"
      },
      "source": [
        "### Imports"
      ]
    },
    {
      "cell_type": "code",
      "metadata": {
        "id": "SFT0Q7VmwdFW"
      },
      "source": [
        "import numpy as np"
      ],
      "execution_count": null,
      "outputs": []
    },
    {
      "cell_type": "markdown",
      "metadata": {
        "id": "QJ27l7qq76LI"
      },
      "source": [
        "### Sinkhorn divergence convergence"
      ]
    },
    {
      "cell_type": "markdown",
      "metadata": {
        "id": "GtgoodN0j1Xv"
      },
      "source": [
        "Calculate Sinkhorn divergence for fixed $d=1$ and varying $n$:"
      ]
    },
    {
      "cell_type": "code",
      "metadata": {
        "id": "9l-c34P160eQ"
      },
      "source": [
        "np.random.seed(111)"
      ],
      "execution_count": null,
      "outputs": []
    },
    {
      "cell_type": "markdown",
      "metadata": {
        "id": "h8NS5lkg64lx"
      },
      "source": [
        "Set parameters:"
      ]
    },
    {
      "cell_type": "code",
      "metadata": {
        "id": "62mV95-_63ov"
      },
      "source": [
        "n = [ 2**j for j in range(3,15) ]       # number of simulated samples - powers of 2\n",
        "num = 25                                # numbers of repetitions for MC and RQMC\n",
        "theta = np.ones(1)                      # true theta\n",
        "d = len(theta)                          # dimensions of data\n",
        "s = 2                                   # standard deviation of the model\n",
        "e = 2                                   # parameter for Sinkhorn divergence\n",
        "inv = True                              # True: use inverse transform, False: use Box-Muller transform\n",
        "method = 'sinkhorn_stabilized'          # 'sinkhorn' or 'sinkhorn_stabilized' or 'sinkhorn_epsilon_scaling'\n",
        "cost = 'sqeuclidean'                    # distance used for ground cost ('euclidean', 'sqeuclidean',‘minkowski’ or ‘cityblock’)\n",
        "sobol = True                            # 'True': Sobol points, 'False': Halton sequence"
      ],
      "execution_count": null,
      "outputs": []
    },
    {
      "cell_type": "markdown",
      "metadata": {
        "id": "981kzzXW_ial"
      },
      "source": [
        "Define the QMC sequence:"
      ]
    },
    {
      "cell_type": "code",
      "metadata": {
        "id": "PlbLuNMm_frv"
      },
      "source": [
        "if sobol:\n",
        "  qmc = qmcpy.Sobol(d)\n",
        "  qmc_1 = qmcpy.Sobol(d+1) # for odd numbers of parameters\n",
        "else:\n",
        "  qmc = qmcpy.Halton(d)\n",
        "  qmc_1 = qmcpy.Halton(d+1) # for odd numbers of parameters"
      ],
      "execution_count": null,
      "outputs": []
    },
    {
      "cell_type": "markdown",
      "metadata": {
        "id": "Kt4rY5gj8NcW"
      },
      "source": [
        "Calculate Sinkhorn divergence for varying $n$:"
      ]
    },
    {
      "cell_type": "code",
      "metadata": {
        "colab": {
          "background_save": true,
          "base_uri": "https://localhost:8080/"
        },
        "id": "JZEo0ov48AJm",
        "outputId": "ad4a7da1-3173-43b9-8494-17d0288384ad"
      },
      "source": [
        "if inv:\n",
        "  sink_mc,sink_qmc,sink_rqmc,sink_min_mc,sink_max_mc,sink_min_rqmc,sink_max_rqmc = sink_conv_inv('gaussian',n,num,d,e,theta,s=2, method=method,cost=cost,sobol=sobol)\n",
        "else:\n",
        "  sink_mc,sink_qmc,sink_rqmc,sink_min_mc,sink_max_mc,sink_min_rqmc,sink_max_rqmc = sink_conv('gaussian',n,num,d,e,theta,s=2, method=method,cost=cost,sobol=sobol)"
      ],
      "execution_count": null,
      "outputs": [
        {
          "output_type": "stream",
          "text": [
            "sample size:  8\n",
            "sample size:  16\n",
            "sample size:  32\n",
            "sample size:  64\n",
            "sample size:  128\n",
            "sample size:  256\n",
            "sample size:  512\n",
            "sample size:  1024\n",
            "sample size:  2048\n",
            "sample size:  4096\n",
            "sample size:  8192\n",
            "sample size:  16384\n"
          ],
          "name": "stdout"
        }
      ]
    },
    {
      "cell_type": "markdown",
      "metadata": {
        "id": "u_4KSvZw8UYi"
      },
      "source": [
        "Plot the Sinkhorn divergence against $n$:"
      ]
    },
    {
      "cell_type": "code",
      "metadata": {
        "colab": {
          "background_save": true
        },
        "id": "QPxnORlu8Y56",
        "outputId": "587d5ac3-8fd7-4785-d2d4-8554c055e926"
      },
      "source": [
        "plot_sink_conv(d,(16,8),sink_mc,sink_qmc,sink_rqmc,'MC','QMC','RQMC',sink_min_mc,sink_max_mc,sink_min_rqmc,sink_max_rqmc)"
      ],
      "execution_count": null,
      "outputs": [
        {
          "output_type": "display_data",
          "data": {
            "image/png": "[encoded data removed]",
            "text/plain": [
              "<Figure size 1152x576 with 1 Axes>"
            ]
          },
          "metadata": {
            "tags": []
          }
        }
      ]
    },
    {
      "cell_type": "code",
      "metadata": {
        "colab": {
          "background_save": true
        },
        "id": "bAqKgJaaZOxA"
      },
      "source": [
        "if sobol:\n",
        "  np.savez(path+\"gaussian_sink_n_d=1_e=%s_sobol.npz\" %e, sink_mc=sink_mc,sink_min_mc=sink_min_mc,sink_max_mc=sink_max_mc,sink_rqmc=sink_rqmc,sink_min_rqmc=sink_min_rqmc,sink_max_rqmc=sink_max_rqmc,sink_qmc=sink_qmc)\n",
        "else:\n",
        "  np.savez(path+\"gaussian_sink_n_d=1_e=%s.npz\" %e, sink_mc=sink_mc,sink_min_mc=sink_min_mc,sink_max_mc=sink_max_mc,sink_rqmc=sink_rqmc,sink_min_rqmc=sink_min_rqmc,sink_max_rqmc=sink_max_rqmc,sink_qmc=sink_qmc)"
      ],
      "execution_count": null,
      "outputs": []
    },
    {
      "cell_type": "markdown",
      "metadata": {
        "id": "Vdc9F5kGj4_-"
      },
      "source": [
        "Calculate Sinkhorn divergence for fixed $n=m$ and varying $d$:"
      ]
    },
    {
      "cell_type": "code",
      "metadata": {
        "id": "S8sHoZl8j5AA"
      },
      "source": [
        "np.random.seed(111)"
      ],
      "execution_count": null,
      "outputs": []
    },
    {
      "cell_type": "markdown",
      "metadata": {
        "id": "Pfj1agHkj5AA"
      },
      "source": [
        "Set parameters:"
      ]
    },
    {
      "cell_type": "code",
      "metadata": {
        "id": "k3q5ZdIAj5AB"
      },
      "source": [
        "n = 2**13                                     # number of simulated samples - powers of 2\n",
        "#n = 2**6                                     # number of simulated samples - powers of 2\n",
        "num = 25                                      # numbers of repetitions for MC and RQMC\n",
        "#d = [1,2,4,6,8,10,15,20,25,30]               # dimensions of data\n",
        "d = [1,5,10,15,20,25,50,75,100,150,200,300]   # dimensions of data\n",
        "theta = np.ones(np.max(d))                    # true theta\n",
        "s = 2                                         # standard deviation of the model\n",
        "e = 2                                         # parameter for Sinkhorn divergence\n",
        "inv = True                                    # True: use inverse transform, False: use Box-Muller transform\n",
        "eadapt = True                                 # True: e is proportional to d^{1/2}\n",
        "method = 'sinkhorn_stabilized'                # 'sinkhorn' or 'sinkhorn_stabilized' or 'sinkhorn_epsilon_scaling'\n",
        "cost = 'sqeuclidean'                        # distance used for ground cost ('euclidean', 'sqeuclidean',‘minkowski’ or ‘cityblock’)\n",
        "sobol = True                            # 'True': Sobol points, 'False': Halton sequence"
      ],
      "execution_count": null,
      "outputs": []
    },
    {
      "cell_type": "markdown",
      "metadata": {
        "id": "NRUpmT9Cj5AD"
      },
      "source": [
        "Define the QMC sequence:"
      ]
    },
    {
      "cell_type": "code",
      "metadata": {
        "id": "p-WlnKyMj5AD"
      },
      "source": [
        "if sobol:\n",
        "  qmc = qmcpy.Sobol(np.max(d))\n",
        "  qmc_1 = qmcpy.Sobol(np.max(d)+1) # for odd numbers of parameters\n",
        "else:\n",
        "  qmc = qmcpy.Halton(np.max(d))\n",
        "  qmc_1 = qmcpy.Halton(np.max(d)+1) # for odd numbers of parameters"
      ],
      "execution_count": null,
      "outputs": []
    },
    {
      "cell_type": "markdown",
      "metadata": {
        "id": "iZUqR5NQj5AE"
      },
      "source": [
        "Calculate Sinkhorn divergence for varying $d$:"
      ]
    },
    {
      "cell_type": "code",
      "metadata": {
        "id": "xVvQecTrj5AE"
      },
      "source": [
        "if inv:\n",
        "  sink_mc,sink_qmc,sink_rqmc,sink_min_mc,sink_max_mc,sink_min_rqmc,sink_max_rqmc = sink_conv_inv_d('gaussian',n,num,d,e,theta,s=2,eadapt=eadapt,method=method,cost=cost,sobol=sobol)\n",
        "else:\n",
        "  sink_mc,sink_qmc,sink_rqmc,sink_min_mc,sink_max_mc,sink_min_rqmc,sink_max_rqmc = sink_conv_d('gaussian',n,num,d,e,theta,s=2,eadapt=eadapt,method=method,cost=cost,sobol=sobol)"
      ],
      "execution_count": null,
      "outputs": []
    },
    {
      "cell_type": "markdown",
      "metadata": {
        "id": "5zCwq4OIj5AG"
      },
      "source": [
        "Plot the Sinkhorn divergence against $n$:"
      ]
    },
    {
      "cell_type": "code",
      "metadata": {
        "id": "9JSDoNdZj5AG"
      },
      "source": [
        "plot_sink_conv_d(d,(16,8),sink_mc,sink_qmc,sink_rqmc,'MC','QMC','RQMC',sink_min_mc,sink_max_mc,sink_min_rqmc,sink_max_rqmc)"
      ],
      "execution_count": null,
      "outputs": []
    },
    {
      "cell_type": "code",
      "metadata": {
        "id": "gEoEBJauj5AI"
      },
      "source": [
        "if sobol:\n",
        "  np.savez(path+\"gaussian_sink_d_n=8192_e=%sd_sobol.npz\" %e, sink_mc=sink_mc,sink_min_mc=sink_min_mc,sink_max_mc=sink_max_mc,sink_rqmc=sink_rqmc,sink_min_rqmc=sink_min_rqmc,sink_max_rqmc=sink_max_rqmc,sink_qmc=sink_qmc)\n",
        "else:\n",
        "  np.savez(path+\"gaussian_sink_d_n=8192_e=%sd.npz\" %e, sink_mc=sink_mc,sink_min_mc=sink_min_mc,sink_max_mc=sink_max_mc,sink_rqmc=sink_rqmc,sink_min_rqmc=sink_min_rqmc,sink_max_rqmc=sink_max_rqmc,sink_qmc=sink_qmc)"
      ],
      "execution_count": null,
      "outputs": []
    }
  ]
}