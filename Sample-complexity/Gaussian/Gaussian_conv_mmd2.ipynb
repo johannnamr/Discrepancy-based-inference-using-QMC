{
  "nbformat": 4,
  "nbformat_minor": 0,
  "metadata": {
    "colab": {
      "name": "Gaussian_conv.ipynb",
      "provenance": [],
      "collapsed_sections": [],
      "machine_shape": "hm",
      "authorship_tag": "ABX9TyMAB9bbWEa7ppgFfTpJlD4K",
      "include_colab_link": true
    },
    "kernelspec": {
      "name": "python3",
      "display_name": "Python 3"
    },
    "accelerator": "GPU"
  },
  "cells": [
    {
      "cell_type": "markdown",
      "metadata": {
        "id": "view-in-github",
        "colab_type": "text"
      },
      "source": [
        "<a href=\"https://colab.research.google.com/github/johannnamr/Discrepancy-based-inference-using-QMC/blob/main/Sample-complexity/Gaussian/Gaussian_conv_mmd2.ipynb\" target=\"_parent\"><img src=\"https://colab.research.google.com/assets/colab-badge.svg\" alt=\"Open In Colab\"/></a>"
      ]
    },
    {
      "cell_type": "markdown",
      "metadata": {
        "id": "eAgqDlxLZjVG"
      },
      "source": [
        "# Gaussian distribution\n",
        "\n",
        "Notebook for the convergence of the MMD$^2$ approximation"
      ]
    },
    {
      "cell_type": "markdown",
      "metadata": {
        "id": "l9gFgq4hwYgD"
      },
      "source": [
        "### Mount Drive"
      ]
    },
    {
      "cell_type": "code",
      "metadata": {
        "id": "rD-DsqPqbigO",
        "colab": {
          "base_uri": "https://localhost:8080/"
        },
        "outputId": "3453f1a6-cea7-4c58-cd7f-e1a9e812c6a4"
      },
      "source": [
        "# mount my drive\n",
        "from google.colab import drive\n",
        "drive.mount(\"/content/drive\")"
      ],
      "execution_count": null,
      "outputs": [
        {
          "output_type": "stream",
          "text": [
            "Drive already mounted at /content/drive; to attempt to forcibly remount, call drive.mount(\"/content/drive\", force_remount=True).\n"
          ],
          "name": "stdout"
        }
      ]
    },
    {
      "cell_type": "markdown",
      "metadata": {
        "id": "9BYKBIZb_qUU"
      },
      "source": [
        "The following path has to be adjusted if necessary:"
      ]
    },
    {
      "cell_type": "code",
      "metadata": {
        "id": "o9Rix2jWAT_B",
        "colab": {
          "base_uri": "https://localhost:8080/"
        },
        "outputId": "266648e8-06e4-429a-89fd-0f756ce8d92b"
      },
      "source": [
        "%run \"/content/drive/My Drive/Colab Notebooks/Utils.ipynb\"\n",
        "%run \"/content/drive/My Drive/Colab Notebooks/Plot_fcts.ipynb\""
      ],
      "execution_count": null,
      "outputs": [
        {
          "output_type": "stream",
          "text": [
            "Requirement already satisfied: pip in /usr/local/lib/python3.7/dist-packages (21.0.1)\n"
          ],
          "name": "stdout"
        }
      ]
    },
    {
      "cell_type": "markdown",
      "metadata": {
        "id": "6chFhy6D0opG"
      },
      "source": [
        "Set saving path (adjust if necessary):"
      ]
    },
    {
      "cell_type": "code",
      "metadata": {
        "id": "wI_Uf_3D0q0l"
      },
      "source": [
        "path = '/content/drive/My Drive/Colab Notebooks/Paper/Sample Complexity/'"
      ],
      "execution_count": null,
      "outputs": []
    },
    {
      "cell_type": "markdown",
      "metadata": {
        "id": "QaGd57BvfVGd"
      },
      "source": [
        "The following path for the generating vectors has to be adjusted if necessary:"
      ]
    },
    {
      "cell_type": "code",
      "metadata": {
        "id": "Fmwc-_grfUX3"
      },
      "source": [
        "z_path = '/content/drive/My Drive/Colab Notebooks/Paper/Generating Vecs and Mats/'"
      ],
      "execution_count": null,
      "outputs": []
    },
    {
      "cell_type": "markdown",
      "metadata": {
        "id": "H_APd5qRZ3e7"
      },
      "source": [
        "### Imports"
      ]
    },
    {
      "cell_type": "code",
      "metadata": {
        "id": "SFT0Q7VmwdFW"
      },
      "source": [
        "import numpy as np"
      ],
      "execution_count": null,
      "outputs": []
    },
    {
      "cell_type": "markdown",
      "metadata": {
        "id": "e7-2gUpaS-Xi"
      },
      "source": [
        "### MMD$^2$ convergence"
      ]
    },
    {
      "cell_type": "markdown",
      "metadata": {
        "id": "amZYobSgcTg9"
      },
      "source": [
        "Calculate MMD$^2$ approximation for fixed $d=1$ and varying $n$:"
      ]
    },
    {
      "cell_type": "code",
      "metadata": {
        "id": "9l-c34P160eQ"
      },
      "source": [
        "np.random.seed(11)"
      ],
      "execution_count": null,
      "outputs": []
    },
    {
      "cell_type": "markdown",
      "metadata": {
        "id": "h8NS5lkg64lx"
      },
      "source": [
        "Set parameters:"
      ]
    },
    {
      "cell_type": "code",
      "metadata": {
        "id": "62mV95-_63ov"
      },
      "source": [
        "n = [ 2**j for j in range(3,15) ]       # number of simulated samples - powers of 2\n",
        "num = 25                                # numbers of repetitions for MC and RQMC\n",
        "theta = np.ones(1)                      # true theta\n",
        "d = len(theta)                          # dimensions of data\n",
        "s = 2                                   # standard deviation of the model\n",
        "kernel = 'gaussian'                     # 'gaussian' or 'imq' or 'matern'\n",
        "l = 1.5                                 # lengthscale for Gaussian kernel (l=-1 for median heuristic)\n",
        "c = 1                                   # parameter c for IMQ kernel\n",
        "b = -0.5                                # parameter beta for IMQ kernel\n",
        "nu = 7/2                                # parameter nu for Matern kernel\n",
        "inv = True                              # True: use inverse transform, False: use Box-Muller transform\n",
        "mc_all = False                          # True: also output all MC draws; False: only output min, max and mean\n",
        "stat_type = 'v'                         # 'v' for V-statistic, 'u' for U-statistic\n",
        "lattice = False                         # True: lattice, False: Halton\n",
        "order = 1                               # 1: order-1 lattice, 2: order-2 lattice, 8: order-8 lattice\n",
        "sobol = True                            # 'True': Sobol points, 'False': Halton sequence"
      ],
      "execution_count": null,
      "outputs": []
    },
    {
      "cell_type": "markdown",
      "metadata": {
        "id": "t312sw-lKp51"
      },
      "source": [
        "Define QMC sequence:"
      ]
    },
    {
      "cell_type": "code",
      "metadata": {
        "id": "kcYkpegjKpeZ"
      },
      "source": [
        "if lattice:\n",
        "  if order==1:\n",
        "    qmc = qmcpy.Lattice(d)\n",
        "    qmc_1 = qmcpy.Lattice(d+1)\n",
        "  if order==2:\n",
        "    qmc = qmcpy.Lattice(d,z_path=z_path+'lattice_vec.600.20.npy')\n",
        "    qmc_1 = qmcpy.Lattice(d+1,z_path=z_path+'lattice_vec.600.20.npy')\n",
        "  if order==8:\n",
        "    qmc = qmcpy.Lattice(d,z_path=z_path+'lattice_vec.600.13.npy')\n",
        "    qmc_1 = qmcpy.Lattice(d+1,z_path=z_path+'lattice_vec.600.13.npy')\n",
        "else:\n",
        "  if sobol:\n",
        "    qmc = qmcpy.Sobol(d)\n",
        "    qmc_1 = qmcpy.Sobol(d+1) # for odd numbers of parameters\n",
        "  else:\n",
        "    qmc = qmcpy.Halton(d)\n",
        "    qmc_1 = qmcpy.Halton(d+1) # for odd numbers of parameters"
      ],
      "execution_count": null,
      "outputs": []
    },
    {
      "cell_type": "markdown",
      "metadata": {
        "id": "Kt4rY5gj8NcW"
      },
      "source": [
        "Calculate MMD$^2$ approximation for varying $n$:"
      ]
    },
    {
      "cell_type": "code",
      "metadata": {
        "id": "JZEo0ov48AJm",
        "colab": {
          "base_uri": "https://localhost:8080/"
        },
        "outputId": "b2f6228e-bc2e-4ddc-e881-ff7347cedbba"
      },
      "source": [
        "if inv:\n",
        "  if mc_all:\n",
        "    mmd_mc,mmd_qmc,mmd_rqmc,mmd_min_mc,mmd_max_mc,mmd_min_rqmc,mmd_max_rqmc,mmd_all_mc = mmd_conv_inv('gaussian',n,num,d,l,c,b,nu,kernel,stat_type,theta,s,mc_all=mc_all,lattice=lattice,order=order,z_path=z_path)\n",
        "  else:\n",
        "    mmd_mc,mmd_qmc,mmd_rqmc,mmd_min_mc,mmd_max_mc,mmd_min_rqmc,mmd_max_rqmc = mmd_conv_inv('gaussian',n,num,d,l,c,b,nu,kernel,stat_type,theta,s,lattice=lattice,order=order,z_path=z_path)\n",
        "else:\n",
        "  if mc_all:\n",
        "    mmd_mc,mmd_qmc,mmd_rqmc,mmd_min_mc,mmd_max_mc,mmd_min_rqmc,mmd_max_rqmc,mmd_all_mc = mmd_conv('gaussian',n,num,d,l,c,b,nu,kernel,stat_type,theta,s,mc_all=mc_all,lattice=lattice,order=order,z_path=z_path)\n",
        "  else:\n",
        "    mmd_mc,mmd_qmc,mmd_rqmc,mmd_min_mc,mmd_max_mc,mmd_min_rqmc,mmd_max_rqmc = mmd_conv('gaussian',n,num,d,l,c,b,nu,kernel,stat_type,theta,s,lattice=lattice,order=order,z_path=z_path)"
      ],
      "execution_count": null,
      "outputs": [
        {
          "output_type": "stream",
          "text": [
            "sample size:  8\n",
            "sample size:  16\n",
            "sample size:  32\n",
            "sample size:  64\n",
            "sample size:  128\n",
            "sample size:  256\n",
            "sample size:  512\n",
            "sample size:  1024\n",
            "sample size:  2048\n",
            "sample size:  4096\n",
            "sample size:  8192\n",
            "sample size:  16384\n"
          ],
          "name": "stdout"
        }
      ]
    },
    {
      "cell_type": "markdown",
      "metadata": {
        "id": "u_4KSvZw8UYi"
      },
      "source": [
        "Plot the MMD$^2$ approximation against $n$:"
      ]
    },
    {
      "cell_type": "code",
      "metadata": {
        "id": "QPxnORlu8Y56",
        "colab": {
          "base_uri": "https://localhost:8080/",
          "height": 522
        },
        "outputId": "78f63b4f-f566-4f43-b1ce-f016c415d0f1"
      },
      "source": [
        "if mc_all:\n",
        "  plot_mmd_conv(d,(16,8),mmd_mc,mmd_qmc,mmd_rqmc,'MC','QMC','RQMC',mmd_min_mc,mmd_max_mc,mmd_min_rqmc,mmd_max_rqmc,'gaussian',stat_type,mmd_all_mc,15)\n",
        "else:\n",
        "  plot_mmd_conv(d,(16,8),mmd_mc,mmd_qmc,mmd_rqmc,'MC','QMC','RQMC',mmd_min_mc,mmd_max_mc,mmd_min_rqmc,mmd_max_rqmc,'gaussian',stat_type)"
      ],
      "execution_count": null,
      "outputs": [
        {
          "output_type": "display_data",
          "data": {
            "image/png": "[encoded data removed]",
            "text/plain": [
              "<Figure size 1152x576 with 1 Axes>"
            ]
          },
          "metadata": {
            "tags": [],
            "needs_background": "light"
          }
        }
      ]
    },
    {
      "cell_type": "code",
      "metadata": {
        "id": "U7eeOn0KmBVy"
      },
      "source": [
        "if lattice:\n",
        "  np.savez(path+\"gaussian_mmd2_n_d=1_%sstat_k%s_latticeorder%s.npz\" %(stat_type,kernel,order), mmd_mc=mmd_mc,mmd_min_mc=mmd_min_mc,mmd_max_mc=mmd_max_mc,mmd_rqmc=mmd_rqmc,mmd_min_rqmc=mmd_min_rqmc,mmd_max_rqmc=mmd_max_rqmc,mmd_qmc=mmd_qmc)\n",
        "else:\n",
        "  np.savez(path+\"gaussian_mmd2_n_d=1_%sstat_k%s.npz\" %(stat_type,kernel), mmd_mc=mmd_mc,mmd_min_mc=mmd_min_mc,mmd_max_mc=mmd_max_mc,mmd_rqmc=mmd_rqmc,mmd_min_rqmc=mmd_min_rqmc,mmd_max_rqmc=mmd_max_rqmc,mmd_qmc=mmd_qmc)"
      ],
      "execution_count": null,
      "outputs": []
    },
    {
      "cell_type": "markdown",
      "metadata": {
        "id": "n8SRgcjzSG2J"
      },
      "source": [
        "Calculate MMD$^2$ approximation for fixed $n$ and varying $d$:"
      ]
    },
    {
      "cell_type": "code",
      "metadata": {
        "id": "xAbA1IE1Topq"
      },
      "source": [
        "np.random.seed(11)"
      ],
      "execution_count": null,
      "outputs": []
    },
    {
      "cell_type": "code",
      "metadata": {
        "id": "SePJ8c46TL7P"
      },
      "source": [
        "n = 2**13                                       # number of simulated samples\n",
        "d = [1,5,10,15,20,25,50,75,100,150,200,300]           # dimensions of data\n",
        "num = 25                                        # numbers of repetitions for MC and RQMC\n",
        "theta = np.ones(np.max(d))                      # true theta\n",
        "s = 2                                           # standard deviation of the model\n",
        "kernel = 'gaussian'                               # 'gaussian' or 'imq' or 'matern'\n",
        "l = 1.5                                         # lengthscale for Gaussian kernel (l=-1 for median heuristic)\n",
        "c = 1                                           # parameter c for IMQ kernel\n",
        "b = -0.5                                        # parameter beta for IMQ kernel\n",
        "nu = 7/2                                        # parameter nu for Matern kernel\n",
        "inv = True                                      # True: use inverse transform, False: use Box-Muller transform\n",
        "mc_all = False                                  # True: also output all MC draws; False: only output min, max and mean\n",
        "stat_type = 'v'                                 # 'v' for V-statistic, 'u' for U-statistic\n",
        "ladapt = True                                   # True: lengthscale proportional to d**(1/2)\n",
        "lattice = False                                  # True: lattice, False: Halton\n",
        "order = 1                                       # 1: order-1 lattice, 2: order-2 lattice, 8: order-8 lattice\n",
        "sobol = True                                    # 'True': Sobol points, 'False': Halton sequence"
      ],
      "execution_count": null,
      "outputs": []
    },
    {
      "cell_type": "code",
      "metadata": {
        "id": "J5mkJbuKVsIE"
      },
      "source": [
        "if lattice:\n",
        "  if order==1:\n",
        "    qmc = qmcpy.Lattice(np.max(d))\n",
        "    qmc_1 = qmcpy.Lattice(np.max(d)+1)\n",
        "  if order==2:\n",
        "    qmc = qmcpy.Lattice(np.max(d),z_path=z_path+'lattice_vec.600.20.npy')\n",
        "    qmc_1 = qmcpy.Lattice(np.max(d)+1,z_path=z_path+'lattice_vec.600.20.npy')\n",
        "  if order==8:\n",
        "    qmc = qmcpy.Lattice(np.max(d),z_path=z_path+'lattice_vec.600.13.npy')\n",
        "    qmc_1 = qmcpy.Lattice(np.max(d)+1,z_path=z_path+'lattice_vec.600.13.npy')\n",
        "else:\n",
        "  if sobol:\n",
        "    qmc = qmcpy.Sobol(np.max(d))\n",
        "    qmc_1 = qmcpy.Sobol(np.max(d)+1) # for odd numbers of parameters\n",
        "  else:\n",
        "    qmc = qmcpy.Halton(np.max(d))\n",
        "    qmc_1 = qmcpy.Halton(np.max(d)+1) # for odd numbers of parameters"
      ],
      "execution_count": null,
      "outputs": []
    },
    {
      "cell_type": "code",
      "metadata": {
        "colab": {
          "base_uri": "https://localhost:8080/"
        },
        "id": "Ei1H4wR9SG2W",
        "outputId": "352b2b7b-660a-4e8c-f00a-efa1942e8aad"
      },
      "source": [
        "if mc_all:\n",
        "  mmd_mc,mmd_qmc,mmd_rqmc,mmd_min_mc,mmd_max_mc,mmd_min_rqmc,mmd_max_rqmc,mmd_all_mc = mmd_conv_d('gaussian',n,num,d,l,c,b,nu,kernel,stat_type,theta,s,mc_all=mc_all,ladapt=ladapt,lattice=lattice,order=order,sobol=sobol,z_path=z_path)\n",
        "else:\n",
        "  mmd_mc,mmd_qmc,mmd_rqmc,mmd_min_mc,mmd_max_mc,mmd_min_rqmc,mmd_max_rqmc = mmd_conv_inv_d('gaussian',n,num,d,l,c,b,nu,kernel,stat_type,theta,s,ladapt=ladapt,lattice=lattice,order=order,sobol=sobol,z_path=z_path)"
      ],
      "execution_count": null,
      "outputs": [
        {
          "output_type": "stream",
          "text": [
            "number of dimensions:  1\n",
            "number of dimensions:  5\n",
            "number of dimensions:  10\n",
            "number of dimensions:  15\n",
            "number of dimensions:  20\n",
            "number of dimensions:  25\n",
            "number of dimensions:  50\n",
            "number of dimensions:  75\n",
            "number of dimensions:  100\n",
            "number of dimensions:  150\n",
            "number of dimensions:  200\n",
            "number of dimensions:  300\n"
          ],
          "name": "stdout"
        }
      ]
    },
    {
      "cell_type": "markdown",
      "metadata": {
        "id": "ZFbhWWZ3Tlqi"
      },
      "source": [
        "Plot the MMD$^2$ approximation against $n$:"
      ]
    },
    {
      "cell_type": "code",
      "metadata": {
        "id": "6Ira_BBhTh--",
        "colab": {
          "base_uri": "https://localhost:8080/",
          "height": 517
        },
        "outputId": "b72ccf6c-75cd-4de7-ebce-30792a600ec3"
      },
      "source": [
        "if mc_all:\n",
        "  plot_mmd_conv_d(d,(16,8),mmd_mc,mmd_qmc,mmd_rqmc,'MC','QMC','RQMC',mmd_min_mc,mmd_max_mc,mmd_min_rqmc,mmd_max_rqmc,'gaussian',stat_type_mmd_all_mc,15)\n",
        "else:\n",
        "  plot_mmd_conv_d(d,(16,8),mmd_mc,mmd_qmc,mmd_rqmc,'MC','QMC','RQMC',mmd_min_mc,mmd_max_mc,mmd_min_rqmc,mmd_max_rqmc,'gaussian',stat_type)"
      ],
      "execution_count": null,
      "outputs": [
        {
          "output_type": "display_data",
          "data": {
            "image/png": "[encoded data removed]",
            "text/plain": [
              "<Figure size 1152x576 with 1 Axes>"
            ]
          },
          "metadata": {
            "tags": [],
            "needs_background": "light"
          }
        }
      ]
    },
    {
      "cell_type": "code",
      "metadata": {
        "id": "4a939347SKWc"
      },
      "source": [
        "if lattice:\n",
        "  if ladapt:\n",
        "    np.savez(path+\"gaussian_mmd2_d_n=8192_%sstat_k%s_ladapt_latticeorder%s.npz\" %(stat_type,kernel,order), mmd_mc=mmd_mc,mmd_min_mc=mmd_min_mc,mmd_max_mc=mmd_max_mc,mmd_rqmc=mmd_rqmc,mmd_min_rqmc=mmd_min_rqmc,mmd_max_rqmc=mmd_max_rqmc,mmd_qmc=mmd_qmc)\n",
        "  else:\n",
        "    np.savez(path+\"gaussian_mmd2_d_n=8192_%sstat_k%s_latticeorder%s.npz\" %(stat_type,kernel,order), mmd_mc=mmd_mc,mmd_min_mc=mmd_min_mc,mmd_max_mc=mmd_max_mc,mmd_rqmc=mmd_rqmc,mmd_min_rqmc=mmd_min_rqmc,mmd_max_rqmc=mmd_max_rqmc,mmd_qmc=mmd_qmc)\n",
        "else:\n",
        "  if ladapt:\n",
        "    np.savez(path+\"gaussian_mmd2_d_n=8192_%sstat_k%s_ladapt.npz\" %(stat_type,kernel), mmd_mc=mmd_mc,mmd_min_mc=mmd_min_mc,mmd_max_mc=mmd_max_mc,mmd_rqmc=mmd_rqmc,mmd_min_rqmc=mmd_min_rqmc,mmd_max_rqmc=mmd_max_rqmc,mmd_qmc=mmd_qmc)\n",
        "  else:\n",
        "    np.savez(path+\"gaussian_mmd2_d_n=8192_%sstat_k%s.npz\" %(stat_type,kernel), mmd_mc=mmd_mc,mmd_min_mc=mmd_min_mc,mmd_max_mc=mmd_max_mc,mmd_rqmc=mmd_rqmc,mmd_min_rqmc=mmd_min_rqmc,mmd_max_rqmc=mmd_max_rqmc,mmd_qmc=mmd_qmc)"
      ],
      "execution_count": null,
      "outputs": []
    }
  ]
}