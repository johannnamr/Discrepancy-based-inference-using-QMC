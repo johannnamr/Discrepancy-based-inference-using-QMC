{
  "nbformat": 4,
  "nbformat_minor": 0,
  "metadata": {
    "colab": {
      "name": "ot_slicedW.ipynb",
      "provenance": [],
      "collapsed_sections": [],
      "authorship_tag": "ABX9TyNuerfQJop3aEfDMIoN5cFT",
      "include_colab_link": true
    },
    "kernelspec": {
      "name": "python3",
      "display_name": "Python 3"
    },
    "language_info": {
      "name": "python"
    }
  },
  "cells": [
    {
      "cell_type": "markdown",
      "metadata": {
        "id": "view-in-github",
        "colab_type": "text"
      },
      "source": [
        "<a href=\"https://colab.research.google.com/github/johannnamr/Discrepancy-based-inference-using-QMC/blob/main/Helper-functions/ot_slicedW.ipynb\" target=\"_parent\"><img src=\"https://colab.research.google.com/assets/colab-badge.svg\" alt=\"Open In Colab\"/></a>"
      ]
    },
    {
      "cell_type": "markdown",
      "metadata": {
        "id": "HINmoNLpl2e2"
      },
      "source": [
        "# Source code from the OT library for the 2-sliced Wasserstein distance\n",
        "\n",
        "https://pythonot.github.io/_modules/ot/sliced.html#sliced_wasserstein_distance"
      ]
    },
    {
      "cell_type": "code",
      "metadata": {
        "id": "jUVz9XRSpJG1"
      },
      "source": [
        "#! pip install POT --quiet"
      ],
      "execution_count": null,
      "outputs": []
    },
    {
      "cell_type": "code",
      "metadata": {
        "id": "YfuQ8XBopLxj"
      },
      "source": [
        "#import ot"
      ],
      "execution_count": null,
      "outputs": []
    },
    {
      "cell_type": "code",
      "metadata": {
        "id": "HEZwOw3Mly-m"
      },
      "source": [
        "\"\"\"\n",
        "Sliced Wasserstein Distance.\n",
        "\n",
        "\"\"\"\n",
        "\n",
        "# Author: Adrien Corenflos <adrien.corenflos@aalto.fi>\n",
        "#\n",
        "# License: MIT License\n",
        "\n",
        "\n",
        "import numpy as np\n",
        "\n",
        "def get_random_projections(n_projections, d, seed=None):\n",
        "    r\"\"\"\n",
        "    Generates n_projections samples from the uniform on the unit sphere of dimension d-1: :math:`\\mathcal{U}(\\mathcal{S}^{d-1})`\n",
        "\n",
        "    Parameters\n",
        "    ----------\n",
        "    n_projections : int\n",
        "        number of samples requested\n",
        "    d : int\n",
        "        dimension of the space\n",
        "    seed: int or RandomState, optional\n",
        "        Seed used for numpy random number generator\n",
        "\n",
        "    Returns\n",
        "    -------\n",
        "    out: ndarray, shape (n_projections, d)\n",
        "        The uniform unit vectors on the sphere\n",
        "\n",
        "    Examples\n",
        "    --------\n",
        "    >>> n_projections = 100\n",
        "    >>> d = 5\n",
        "    >>> projs = get_random_projections(n_projections, d)\n",
        "    >>> np.allclose(np.sum(np.square(projs), 1), 1.)  # doctest: +NORMALIZE_WHITESPACE\n",
        "    True\n",
        "\n",
        "    \"\"\"\n",
        "\n",
        "    if not isinstance(seed, np.random.RandomState):\n",
        "        random_state = np.random.RandomState(seed)\n",
        "    else:\n",
        "        random_state = seed\n",
        "\n",
        "    projections = random_state.normal(0., 1., [n_projections, d])\n",
        "    norm = np.linalg.norm(projections, ord=2, axis=1, keepdims=True)\n",
        "    projections = projections / norm\n",
        "    return projections\n",
        "\n",
        "\n",
        "\n",
        "def sliced_wasserstein_distance(X_s, X_t, metric, a=None, b=None, n_projections=50, seed=None, log=False):\n",
        "    r\"\"\"\n",
        "    Computes a Monte-Carlo approximation of the 2-Sliced Wasserstein distance\n",
        "\n",
        "    .. math::\n",
        "        \\mathcal{SWD}_2(\\mu, \\nu) = \\underset{\\theta \\sim \\mathcal{U}(\\mathbb{S}^{d-1})}{\\mathbb{E}}[\\mathcal{W}_2^2(\\theta_\\# \\mu, \\theta_\\# \\nu)]^{\\frac{1}{2}}\n",
        "\n",
        "    where :\n",
        "\n",
        "    - :math:`\\theta_\\# \\mu` stands for the pushforwars of the projection :math:`\\mathbb{R}^d \\ni X \\mapsto \\langle \\theta, X \\rangle`\n",
        "\n",
        "\n",
        "    Parameters\n",
        "    ----------\n",
        "    X_s : ndarray, shape (n_samples_a, dim)\n",
        "        samples in the source domain\n",
        "    X_t : ndarray, shape (n_samples_b, dim)\n",
        "        samples in the target domain\n",
        "    a : ndarray, shape (n_samples_a,), optional\n",
        "        samples weights in the source domain\n",
        "    b : ndarray, shape (n_samples_b,), optional\n",
        "        samples weights in the target domain\n",
        "    n_projections : int, optional\n",
        "        Number of projections used for the Monte-Carlo approximation\n",
        "    seed: int or RandomState or None, optional\n",
        "        Seed used for numpy random number generator\n",
        "    log: bool, optional\n",
        "        if True, sliced_wasserstein_distance returns the projections used and their associated EMD.\n",
        "\n",
        "    Returns\n",
        "    -------\n",
        "    cost: float\n",
        "        Sliced Wasserstein Cost\n",
        "    log : dict, optional\n",
        "        log dictionary return only if log==True in parameters\n",
        "\n",
        "    Examples\n",
        "    --------\n",
        "\n",
        "    >>> n_samples_a = 20\n",
        "    >>> reg = 0.1\n",
        "    >>> X = np.random.normal(0., 1., (n_samples_a, 5))\n",
        "    >>> sliced_wasserstein_distance(X, X, seed=0)  # doctest: +NORMALIZE_WHITESPACE\n",
        "    0.0\n",
        "\n",
        "    References\n",
        "    ----------\n",
        "\n",
        "    .. [31] Bonneel, Nicolas, et al. \"Sliced and radon wasserstein barycenters of measures.\" Journal of Mathematical Imaging and Vision 51.1 (2015): 22-45\n",
        "    \"\"\"\n",
        "    from ot.lp import emd2_1d\n",
        "\n",
        "    X_s = np.asanyarray(X_s)\n",
        "    X_t = np.asanyarray(X_t)\n",
        "\n",
        "    n = X_s.shape[0]\n",
        "    m = X_t.shape[0]\n",
        "\n",
        "    if X_s.shape[1] != X_t.shape[1]:\n",
        "        raise ValueError(\n",
        "            \"X_s and X_t must have the same number of dimensions {} and {} respectively given\".format(X_s.shape[1],\n",
        "                                                                                                      X_t.shape[1]))\n",
        "\n",
        "    if a is None:\n",
        "        a = np.full(n, 1 / n)\n",
        "    if b is None:\n",
        "        b = np.full(m, 1 / m)\n",
        "\n",
        "    d = X_s.shape[1]\n",
        "\n",
        "    projections = get_random_projections(n_projections, d, seed)\n",
        "\n",
        "    X_s_projections = np.dot(projections, X_s.T)\n",
        "    X_t_projections = np.dot(projections, X_t.T)\n",
        "\n",
        "    if log:\n",
        "        projected_emd = np.empty(n_projections)\n",
        "    else:\n",
        "        projected_emd = None\n",
        "\n",
        "    res = 0.\n",
        "\n",
        "    for i, (X_s_proj, X_t_proj) in enumerate(zip(X_s_projections, X_t_projections)):\n",
        "        emd = emd2_1d(X_s_proj, X_t_proj, a, b, metric=metric, log=False, dense=False)\n",
        "        if projected_emd is not None:\n",
        "            projected_emd[i] = emd\n",
        "        res += emd\n",
        "\n",
        "    res = (res / n_projections) ** 0.5\n",
        "    if log:\n",
        "        return res, {\"projections\": projections, \"projected_emds\": projected_emd}\n",
        "    return res"
      ],
      "execution_count": null,
      "outputs": []
    }
  ]
}