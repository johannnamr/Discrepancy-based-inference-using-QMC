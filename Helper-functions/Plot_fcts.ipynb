{
  "nbformat": 4,
  "nbformat_minor": 0,
  "metadata": {
    "colab": {
      "name": "Plot_fcts.ipynb",
      "provenance": [],
      "collapsed_sections": [],
      "authorship_tag": "ABX9TyO4G5AtdRg56cc4xR3Ejyi+",
      "include_colab_link": true
    },
    "kernelspec": {
      "name": "python3",
      "display_name": "Python 3"
    }
  },
  "cells": [
    {
      "cell_type": "markdown",
      "metadata": {
        "id": "view-in-github",
        "colab_type": "text"
      },
      "source": [
        "<a href=\"https://colab.research.google.com/github/johannnamr/Discrepancy-based-inference-using-QMC/blob/main/Helper-functions/Plot_fcts.ipynb\" target=\"_parent\"><img src=\"https://colab.research.google.com/assets/colab-badge.svg\" alt=\"Open In Colab\"/></a>"
      ]
    },
    {
      "cell_type": "markdown",
      "metadata": {
        "id": "1FNEjQQwUico"
      },
      "source": [
        "# Plot functions"
      ]
    },
    {
      "cell_type": "markdown",
      "metadata": {
        "id": "wgbIwRYCa3aF"
      },
      "source": [
        "Imports:"
      ]
    },
    {
      "cell_type": "code",
      "metadata": {
        "id": "WLiSlYjHUePC"
      },
      "source": [
        "#import numpy as np\n",
        "import matplotlib as mpl\n",
        "import matplotlib.pyplot as plt\n",
        "#import scipy.stats as stats"
      ],
      "execution_count": null,
      "outputs": []
    },
    {
      "cell_type": "markdown",
      "metadata": {
        "id": "H2iS8eAEIDav"
      },
      "source": [
        "Set size for plot labels:"
      ]
    },
    {
      "cell_type": "code",
      "metadata": {
        "id": "ugmuoM9IH1BO"
      },
      "source": [
        "SMALL_SIZE = 20\n",
        "MEDIUM_SIZE = 22\n",
        "BIGGER_SIZE = 26\n",
        "\n",
        "plt.rc('font', size=MEDIUM_SIZE)          # controls default text sizes\n",
        "plt.rc('axes', titlesize=MEDIUM_SIZE)     # fontsize of the axes title\n",
        "plt.rc('axes', labelsize=MEDIUM_SIZE)    # fontsize of the x and y labels\n",
        "plt.rc('xtick', labelsize=MEDIUM_SIZE)    # fontsize of the tick labels\n",
        "plt.rc('ytick', labelsize=MEDIUM_SIZE)    # fontsize of the tick labels\n",
        "plt.rc('legend', fontsize=MEDIUM_SIZE)    # legend fontsize\n",
        "plt.rc('figure', titlesize=BIGGER_SIZE)  # fontsize of the figure title"
      ],
      "execution_count": null,
      "outputs": []
    },
    {
      "cell_type": "markdown",
      "metadata": {
        "id": "co8SRynhxPcq"
      },
      "source": [
        "## Plot samples"
      ]
    },
    {
      "cell_type": "markdown",
      "metadata": {
        "id": "R1AJrIwglQIr"
      },
      "source": [
        "Plot samples of the **uniform distribution**:"
      ]
    },
    {
      "cell_type": "code",
      "metadata": {
        "id": "U6qqtbdPlQIu"
      },
      "source": [
        "def plot_unif(y,d,cols,fig_size):\n",
        "  # check distribution\n",
        "  print('mean: ',[np.round(np.mean(y[:,j]),4) for j in range(d)])\n",
        "  print('min: ',[np.round(np.min(y[:,j]),4) for j in range(d)])\n",
        "  print('max: ',[np.round(np.max(y[:,j]),4) for j in range(d)])\n",
        "\n",
        "  # number of rows required\n",
        "  rows = d // cols \n",
        "  rows += d % cols\n",
        "\n",
        "  # position index\n",
        "  position = range(1,d + 1)\n",
        "\n",
        "  # main figure\n",
        "  fig = plt.figure(figsize=fig_size)\n",
        "\n",
        "  # add subplots\n",
        "  for j in range(d):\n",
        "    ax = fig.add_subplot(rows,cols,position[j])\n",
        "    ax.hist(y[:,j], bins=np.linspace(np.min(y[:,j]), np.max(y[:,j]),100), density=True)\n",
        "    rng = np.arange(0, 1, 0.001)\n",
        "    ax.set_ylim((0,1.6))\n",
        "    ax.set_ylabel('density')\n",
        "    ax.set_xlabel('y')\n",
        "    ax.set_title('Dimension ' + str(j+1))\n",
        "    ax.plot(rng,np.ones(len(rng)))\n",
        "\n",
        "  plt.tight_layout()\n",
        "  plt.savefig('Histogram.pdf')\n",
        "  plt.show()"
      ],
      "execution_count": null,
      "outputs": []
    },
    {
      "cell_type": "markdown",
      "metadata": {
        "id": "2qnhDG9mxT-D"
      },
      "source": [
        "Plot samples of the **Gaussian location model**:"
      ]
    },
    {
      "cell_type": "code",
      "metadata": {
        "id": "mTSDykOpxYCn"
      },
      "source": [
        "def plot_gaussian(y,theta,d,s,cols,fig_size):\n",
        "  # check distribution\n",
        "  print('mean: ',[np.round(np.mean(y[:,j]),4) for j in range(d)])\n",
        "  print('sd:   ',[np.round(np.std(y[:,j]),4) for j in range(d)])\n",
        "\n",
        "  # number of rows required\n",
        "  rows = d // cols \n",
        "  rows += d % cols\n",
        "\n",
        "  # position index\n",
        "  position = range(1,d + 1)\n",
        "\n",
        "  # main figure\n",
        "  fig = plt.figure(figsize=fig_size)\n",
        "\n",
        "  # add subplots\n",
        "  for j in range(d):\n",
        "    ax = fig.add_subplot(rows,cols,position[j])\n",
        "    ax.hist(y[:,j], bins=np.linspace(np.min(y[:,j]), np.max(y[:,j]),100), density=True)\n",
        "    rng = np.arange(theta[j]-10, theta[j]+10, 0.001)\n",
        "    pdf = stats.norm.pdf(rng,theta[j],s)\n",
        "    ax.set_ylim((0,0.3))\n",
        "    ax.set_xlim((theta[j]-10, theta[j]+10))\n",
        "    ax.set_ylabel('density')\n",
        "    ax.set_xlabel('y')\n",
        "    ax.set_title('Dimension ' + str(j+1))\n",
        "    ax.plot(rng,pdf)\n",
        "\n",
        "  plt.tight_layout()\n",
        "  plt.savefig('Histogram.pdf')\n",
        "  plt.show()"
      ],
      "execution_count": null,
      "outputs": []
    },
    {
      "cell_type": "markdown",
      "metadata": {
        "id": "21OZirP3qu_s"
      },
      "source": [
        "Plot samples from **beta distribution**:"
      ]
    },
    {
      "cell_type": "code",
      "metadata": {
        "id": "3dyWLiI9qyu_"
      },
      "source": [
        "def plot_beta(y,fig_size,theta):\n",
        "\n",
        "  # plot histogram with true density\n",
        "  fig = plt.figure(figsize=fig_size)\n",
        "  plt.hist(y, bins=np.linspace(np.min(y), np.max(y),100), density=True)\n",
        "  rng = np.arange(-0.05, 1.05, 0.001)\n",
        "  pdf = stats.beta.pdf(rng,theta[0],theta[1])\n",
        "  plt.ylabel('density')\n",
        "  plt.xlabel('y')\n",
        "  plt.title('Histogram')\n",
        "  plt.plot(rng,pdf)\n",
        "\n",
        "  plt.savefig('beta_hist.pdf')\n",
        "  plt.show()"
      ],
      "execution_count": null,
      "outputs": []
    },
    {
      "cell_type": "markdown",
      "metadata": {
        "id": "o0RNI2PWYM4c"
      },
      "source": [
        "Plot samples from **g-and-k distribution**:"
      ]
    },
    {
      "cell_type": "code",
      "metadata": {
        "id": "8uSizsy5YVPv"
      },
      "source": [
        "def plot_gandk(y,fig_size,theta):\n",
        "\n",
        "  # check generator\n",
        "  rng = np.arange(0.01,1,0.01)\n",
        "  z_rng = stats.norm.ppf(rng, loc=0, scale=1)\n",
        "  plt.figure(figsize=fig_size)\n",
        "  plt.plot(rng,gen_gandk(z_rng,theta))\n",
        "  plt.title('Quantile function')\n",
        "  plt.xlabel(r'$u$')\n",
        "  plt.ylabel(r'$G_\\theta(u)$')\n",
        "  plt.savefig('generator.pdf')\n",
        "  plt.show()\n",
        "\n",
        "  # plot histogram\n",
        "  plt.figure(figsize=fig_size)\n",
        "  plt.hist(y, bins=np.linspace(np.min(y), np.max(y),100), density=True)\n",
        "  plt.title('Histogram')\n",
        "  plt.xlabel('y')\n",
        "  plt.ylabel('density')\n",
        "  plt.savefig('histogram.pdf')\n",
        "  plt.show()"
      ],
      "execution_count": null,
      "outputs": []
    },
    {
      "cell_type": "markdown",
      "metadata": {
        "id": "ohMy_N3UUzOx"
      },
      "source": [
        "Plot samples from **multivariate g-and-k distribution**:"
      ]
    },
    {
      "cell_type": "code",
      "metadata": {
        "id": "znAaljJZUzOy"
      },
      "source": [
        "def plot_mvgandk(y,dim,fig_size,theta):\n",
        "\n",
        "  # check generator\n",
        "  rng = np.arange(0.01,0.99,0.01)\n",
        "  z_rng = stats.norm.ppf(rng, loc=0, scale=1)\n",
        "  z_rng = np.squeeze(np.dstack([z_rng]*y.shape[1]))\n",
        "  plt.figure(figsize=fig_size)\n",
        "  plt.plot(rng,gen_mvgandk(z_rng,theta)[:,dim])\n",
        "  plt.title('Quantile function')\n",
        "  plt.xlabel(r'$u$')\n",
        "  plt.ylabel(r'$G_\\theta(u)$')\n",
        "  plt.savefig('generator.pdf')\n",
        "  plt.show()\n",
        "\n",
        "  # plot histogram\n",
        "  plt.figure(figsize=fig_size)\n",
        "  plt.hist(y[:,dim], bins=np.linspace(np.min(y), np.max(y),100), density=True)\n",
        "  plt.title('Histogram')\n",
        "  plt.xlabel('y')\n",
        "  plt.ylabel('density')\n",
        "  plt.savefig('histogram.pdf')\n",
        "  plt.show()"
      ],
      "execution_count": null,
      "outputs": []
    },
    {
      "cell_type": "markdown",
      "metadata": {
        "id": "5KGUubyb0slY"
      },
      "source": [
        "Plot samples from **SV model**:"
      ]
    },
    {
      "cell_type": "code",
      "metadata": {
        "id": "Orqv4lUA0yLf"
      },
      "source": [
        "def plot_sv(y,fig_size):\n",
        "\n",
        "  # define color map\n",
        "  c = np.arange(1, 11)\n",
        "  norm = mpl.colors.Normalize(vmin=c.min(), vmax=c.max())\n",
        "  cmap = mpl.cm.ScalarMappable(norm=norm, cmap=mpl.cm.Blues)\n",
        "  cmap.set_array([])\n",
        "\n",
        "  # plot 10 realisations\n",
        "  plt.figure(figsize=fig_size)\n",
        "  for j in range(10):\n",
        "    plt.plot(y[j+10,:], c=cmap.to_rgba(j + 1), label=r'$y_{'+str(j+1)+'}$')\n",
        "  plt.title('Stochastic Volatility Model')\n",
        "  plt.ylabel(r'$y$')\n",
        "  plt.xlabel('t')\n",
        "  plt.legend(bbox_to_anchor=(1.05, 0.92),fancybox=True)\n",
        "  plt.savefig('stochastic_vol.pdf', bbox_inches=\"tight\")\n",
        "  plt.show()"
      ],
      "execution_count": null,
      "outputs": []
    },
    {
      "cell_type": "markdown",
      "metadata": {
        "id": "dvex9ARsq0cT"
      },
      "source": [
        "Plot samples from **banana-shaped distribution**:"
      ]
    },
    {
      "cell_type": "code",
      "metadata": {
        "id": "IKk1YY32q5of"
      },
      "source": [
        "def plot_banana(y,fig_size):\n",
        "  plt.figure(figsize=fig_size)\n",
        "  plt.scatter(y[:,0],y[:,1])\n",
        "  plt.title('Scatterplot')\n",
        "  plt.xlabel(r'$x$')\n",
        "  plt.ylabel(r'$x^2+y$')\n",
        "  plt.savefig('scatter.pdf')\n",
        "  plt.show"
      ],
      "execution_count": null,
      "outputs": []
    },
    {
      "cell_type": "markdown",
      "metadata": {
        "id": "nSV3kScmVRIl"
      },
      "source": [
        "## Plot optimisation results"
      ]
    },
    {
      "cell_type": "markdown",
      "metadata": {
        "id": "-6daPIGaV_-6"
      },
      "source": [
        "Plot MMD$^2$ for MC, QMC and RQMC in one plot:"
      ]
    },
    {
      "cell_type": "code",
      "metadata": {
        "id": "ct62OAkmVVZQ"
      },
      "source": [
        "def plot_loss(it,d,fig_size,loss,label):\n",
        "  fig = plt.figure(figsize=fig_size)\n",
        "  cmap = plt.get_cmap(\"tab10\")\n",
        "  plt.plot(np.abs(loss[:it]),label=label)\n",
        "  plt.ylim(1e-7,1)\n",
        "  plt.yscale('log', basey=10)\n",
        "  plt.xlabel('Descent steps (t)')\n",
        "  plt.ylabel(r'$| \\widehat{MMD}^2 |$')\n",
        "  plt.title('MMD'+r'$^2$'+' loss')\n",
        "  plt.legend(loc='lower right')\n",
        "  plt.savefig('MMD_loss_d='+str(d)+'.pdf')\n",
        "  plt.show()"
      ],
      "execution_count": null,
      "outputs": []
    },
    {
      "cell_type": "markdown",
      "metadata": {
        "id": "R6eAHsqNXHtw"
      },
      "source": [
        "Plot estimates against iterations for MC, QMC and RQMC in one plot:"
      ]
    },
    {
      "cell_type": "code",
      "metadata": {
        "id": "cX4axVZPXMTB"
      },
      "source": [
        "def plot_estimates(cols,p,d,fig_size,max_it,theta,theta_star,label):\n",
        "\n",
        "  # number of rows required\n",
        "  rows = p // cols \n",
        "  rows += p % cols\n",
        "\n",
        "  # position index\n",
        "  position = range(1,p + 1)\n",
        "\n",
        "  # main figure\n",
        "  fig = plt.figure(figsize=fig_size)\n",
        "  cmap = plt.get_cmap(\"tab10\")\n",
        "\n",
        "  # add subplots\n",
        "  for j in range(p):\n",
        "    ax = fig.add_subplot(rows,cols,position[j])\n",
        "    ax.plot(range(max_it+1),theta[:,j], label=label, color=cmap(0))\n",
        "    ax.plot(range(max_it+1),theta_star[j]*np.ones(max_it+1),linestyle='--', color='grey')\n",
        "    ax.set_xlabel('Descent steps (t)')\n",
        "    ax.set_ylabel(r'$\\hat{\\theta}_{'+str(j+1)+'}$')\n",
        "    ax.set_title('Estimate for '+ r'$\\theta_{'+str(j+1)+'}$')\n",
        "    ax.legend(loc='lower right')\n",
        "    plt.savefig('Estimates_d='+str(d)+'.pdf')\n",
        "\n",
        "  plt.tight_layout()\n",
        "  plt.show()"
      ],
      "execution_count": null,
      "outputs": []
    },
    {
      "cell_type": "markdown",
      "metadata": {
        "id": "EMw_M6SHX-7R"
      },
      "source": [
        "Plot of MSE against iterations for MC, QMC and RQMC in one plot:"
      ]
    },
    {
      "cell_type": "code",
      "metadata": {
        "id": "JCs1qGolYDgF"
      },
      "source": [
        "def plot_mse(cols,p,d,fig_size,max_it,mse1,mse3,label1,label3,model):\n",
        "\n",
        "  # number of rows required\n",
        "  rows = p // cols \n",
        "  rows += p % cols\n",
        "\n",
        "  # position index\n",
        "  position = range(1,p + 1)\n",
        "\n",
        "  # main figure\n",
        "  fig = plt.figure(figsize=fig_size)\n",
        "  cmap = plt.get_cmap(\"tab10\")\n",
        "\n",
        "  # add subplots\n",
        "  for j in range(p):\n",
        "    ax = fig.add_subplot(rows,cols,position[j])\n",
        "    ax.plot(range(max_it-1),mse1[:,j], label=label1, color=cmap(0))\n",
        "    ax.plot(range(max_it-1),mse3[:,j], label=label3, color=cmap(2))\n",
        "    if model == 'gaussian':\n",
        "      ax.set_ylim(1e-3,1)\n",
        "    if model == 'gandk':\n",
        "      ax.set_ylim(1e-2,6.7)\n",
        "    plt.yscale('log', basey=10)\n",
        "    ax.set_xlabel('Descent steps (t)')\n",
        "    ax.set_ylabel('MSE')\n",
        "    ax.set_title('MSE for '+ r'$\\theta_{'+str(j+1)+'}$')\n",
        "    ax.legend()\n",
        "    plt.savefig('MSE_d='+str(d)+'.pdf')\n",
        "\n",
        "  plt.tight_layout()\n",
        "  plt.show()"
      ],
      "execution_count": null,
      "outputs": []
    },
    {
      "cell_type": "markdown",
      "metadata": {
        "id": "S5IDxx3qbyCC"
      },
      "source": [
        "## Convergence of MMD$^2$"
      ]
    },
    {
      "cell_type": "markdown",
      "metadata": {
        "id": "kaew6wHiyLgf"
      },
      "source": [
        "Plot MMD$^2$ against $n$ with closed form expressions for Gaussian location model and uniform distribution:"
      ]
    },
    {
      "cell_type": "code",
      "metadata": {
        "id": "bYKAJRHeyKZg"
      },
      "source": [
        "def plot_mmd_conv_closedform(d,fig_size,mmd1,mmd2,mmd3,label1,label2,label3,mmd1_min,mmd1_max,mmd3_min,mmd3_max,model,mmd_all_mc=None,maxall=15):\n",
        "\n",
        "  plt.figure(figsize=fig_size)\n",
        "  cmap = plt.get_cmap(\"tab10\")\n",
        "  plt.plot(n, np.abs(mmd1), linewidth=2, label=label1)\n",
        "  plt.plot(n, np.abs(mmd2), linewidth=2, label=label2)\n",
        "  plt.plot(n, np.abs(mmd3), linewidth=2, label=label3)\n",
        "  plt.errorbar(n, np.abs(mmd1), yerr=[np.array(np.abs(mmd1))-np.array(mmd1_min),np.array(mmd1_max)-np.array(np.abs(mmd1))], fmt='.', color=cmap(0), capsize=10, elinewidth=1.5)\n",
        "  plt.errorbar(n, np.abs(mmd3), yerr=[np.array(np.abs(mmd3))-np.array(mmd3_min),np.array(mmd3_max)-np.array(np.abs(mmd3))], fmt='.', color=cmap(2), capsize=10, elinewidth=1.5)\n",
        "  if mmd_all_mc is not None:\n",
        "    if maxall<len(mmd_all_mc[0]):\n",
        "      num = maxall\n",
        "    else:\n",
        "      num = len(mmd_all_mc[0])\n",
        "    for i in range(num):\n",
        "      plt.plot(n, np.abs(np.array(mmd_all_mc)[:,i]),color=cmap(0),alpha=0.3)\n",
        "  if model == 'unif':\n",
        "    plt.ylim(1e-12,0.45)\n",
        "  if model == 'gaussian':\n",
        "    plt.ylim(1e-12,0.45)\n",
        "  plt.xscale('log', basex=2)\n",
        "  plt.yscale('log', basey=10)\n",
        "  plt.xlabel('n')\n",
        "  plt.ylabel(r'$|\\widehat{MMD}^2(P||P^n)|$')\n",
        "  #plt.title(r'$\\widehat{MMD}^2$'+' against number of samples used')\n",
        "  plt.legend()\n",
        "  if mmd_all_mc is not None:\n",
        "    plt.savefig('MMD_against_n_d='+str(d)+'_allmc.pdf')\n",
        "  else:\n",
        "    plt.savefig('MMD_against_n_d='+str(d)+'.pdf')\n",
        "  plt.show() "
      ],
      "execution_count": null,
      "outputs": []
    },
    {
      "cell_type": "markdown",
      "metadata": {
        "id": "EFCP3M2gTVIc"
      },
      "source": [
        "Plot MMD$^2$ against $d$ with closed form expressions for Gaussian location model and uniform distribution:"
      ]
    },
    {
      "cell_type": "code",
      "metadata": {
        "id": "qI6MK5CNTRxr"
      },
      "source": [
        "def plot_mmd_conv_closedform_d(d,fig_size,mmd1,mmd2,mmd3,label1,label2,label3,mmd1_min,mmd1_max,mmd3_min,mmd3_max,model,mmd_all_mc=None,maxall=15):\n",
        "\n",
        "  plt.figure(figsize=fig_size)\n",
        "  cmap = plt.get_cmap(\"tab10\")\n",
        "  plt.plot(d, np.abs(mmd1), linewidth=2, label=label1)\n",
        "  plt.plot(d, np.abs(mmd2), linewidth=2, label=label2)\n",
        "  plt.plot(d, np.abs(mmd3), linewidth=2, label=label3)\n",
        "  plt.errorbar(d, np.abs(mmd1), yerr=[np.array(np.abs(mmd1))-np.array(mmd1_min),np.array(mmd1_max)-np.array(np.abs(mmd1))], fmt='.', color=cmap(0), capsize=10, elinewidth=1.5)\n",
        "  plt.errorbar(d, np.abs(mmd3), yerr=[np.array(np.abs(mmd3))-np.array(mmd3_min),np.array(mmd3_max)-np.array(np.abs(mmd3))], fmt='.', color=cmap(2), capsize=10, elinewidth=1.5)\n",
        "  if mmd_all_mc is not None:\n",
        "    if maxall<len(mmd_all_mc[0]):\n",
        "      num = maxall\n",
        "    else:\n",
        "      num = len(mmd_all_mc[0])\n",
        "    for i in range(num):\n",
        "      plt.plot(d, np.abs(np.array(mmd_all_mc)[:,i]),color=cmap(0),alpha=0.3)\n",
        "  if model == 'unif':\n",
        "    plt.ylim(1e-12,0.45)\n",
        "  if model == 'gaussian':\n",
        "    plt.ylim(1e-12,0.45)\n",
        "  #plt.xscale('log', basex=2)\n",
        "  plt.yscale('log', basey=10)\n",
        "  plt.xlabel('d')\n",
        "  plt.ylabel(r'$|\\widehat{MMD}^2(P||P^n)|$')\n",
        "  #plt.title(r'$\\widehat{MMD}^2$'+' against number of samples used')\n",
        "  plt.legend()\n",
        "  if mmd_all_mc is not None:\n",
        "    plt.savefig('MMD_against_n_d='+str(d)+'_allmc.pdf')\n",
        "  else:\n",
        "    plt.savefig('MMD_against_n_d='+str(d)+'.pdf')\n",
        "  plt.show() "
      ],
      "execution_count": null,
      "outputs": []
    },
    {
      "cell_type": "markdown",
      "metadata": {
        "id": "qTuwEhdtb-RF"
      },
      "source": [
        "Plot MMD$^2$ against n for MC, QMC and RQMC:"
      ]
    },
    {
      "cell_type": "code",
      "metadata": {
        "id": "IK-8OYZhb2Sc"
      },
      "source": [
        "def plot_mmd_conv(d,fig_size,mmd1,mmd2,mmd3,label1,label2,label3,mmd1_min,mmd1_max,mmd3_min,mmd3_max,model,stat_type,mmd_all_mc=None,maxall=15):\n",
        "\n",
        "  plt.figure(figsize=fig_size)\n",
        "  cmap = plt.get_cmap(\"tab10\")\n",
        "  plt.plot(n, np.abs(mmd1), linewidth=2, label=label1)\n",
        "  #plt.plot(n, np.abs(mmd2), linewidth=2, label=label2)\n",
        "  plt.plot(n, np.abs(mmd3), linewidth=2, label=label3, color=cmap(2))\n",
        "  plt.errorbar(n, np.abs(mmd1), yerr=[np.array(np.abs(mmd1))-np.array(mmd1_min),np.array(mmd1_max)-np.array(np.abs(mmd1))], fmt='.', color=cmap(0), capsize=10, elinewidth=1.5)\n",
        "  plt.errorbar(n, np.abs(mmd3), yerr=[np.array(np.abs(mmd3))-np.array(mmd3_min),np.array(mmd3_max)-np.array(np.abs(mmd3))], fmt='.', color=cmap(2), capsize=10, elinewidth=1.5)\n",
        "  if mmd_all_mc is not None:\n",
        "    if maxall<len(mmd_all_mc[0]):\n",
        "      num = maxall\n",
        "    else:\n",
        "      num = len(mmd_all_mc[0])\n",
        "    for i in range(num):\n",
        "      plt.plot(n, np.abs(np.array(mmd_all_mc)[:,i]),color=cmap(0),alpha=0.3)\n",
        "  if model == 'unif':\n",
        "    plt.ylim(1e-12,0.8)\n",
        "  if model == 'gaussian':\n",
        "    plt.ylim(1e-12,0.8)\n",
        "  if model == 'beta':\n",
        "    #plt.ylim(1e-9,1e-3)\n",
        "    plt.ylim(1e-8,0.3)\n",
        "  if model == 'mvgandk':\n",
        "    plt.ylim(1e-12,0.8)\n",
        "  if model == 'gandk':\n",
        "    plt.ylim(1e-7,0.25)\n",
        "  if model == 'bibeta':\n",
        "    plt.ylim(1e-12,0.3)\n",
        "  if model == 'banana':\n",
        "    plt.ylim(1e-8,0.25)\n",
        "  plt.xscale('log', basex=2)\n",
        "  plt.yscale('log', basey=10)\n",
        "  plt.xlabel('n=m')\n",
        "  plt.ylabel(r'$|\\widehat{MMD}^2_V(P^n||P^m)|$')\n",
        "  #plt.title(r'$\\widehat{MMD}^2$'+' against number of samples used')\n",
        "  plt.legend()\n",
        "  if mmd_all_mc is not None:\n",
        "    plt.savefig('MMD_against_n_d='+str(d)+'_'+stat_type+'stat_allmc.pdf')\n",
        "  else:\n",
        "    plt.savefig('MMD_against_n_d='+str(d)+'_'+stat_type+'stat.pdf')\n",
        "  plt.show() "
      ],
      "execution_count": null,
      "outputs": []
    },
    {
      "cell_type": "markdown",
      "metadata": {
        "id": "QBOOLTMrzkAH"
      },
      "source": [
        "Plot MMD$^2$ against d for MC, QMC and RQMC:"
      ]
    },
    {
      "cell_type": "code",
      "metadata": {
        "id": "lsVRUXU6zkbu"
      },
      "source": [
        "def plot_mmd_conv_d(d,fig_size,mmd1,mmd2,mmd3,label1,label2,label3,mmd1_min,mmd1_max,mmd3_min,mmd3_max,model,stat_type,mmd_all_mc=None,maxall=15):\n",
        "\n",
        "  plt.figure(figsize=fig_size)\n",
        "  cmap = plt.get_cmap(\"tab10\")\n",
        "  plt.plot(d, np.abs(mmd1), linewidth=2, label=label1)\n",
        "  plt.plot(d, np.abs(mmd2), linewidth=2, label=label2)\n",
        "  plt.plot(d, np.abs(mmd3), linewidth=2, label=label3)\n",
        "  plt.errorbar(d, np.abs(mmd1), yerr=[np.array(np.abs(mmd1))-np.array(mmd1_min),np.array(mmd1_max)-np.array(np.abs(mmd1))], fmt='.', color=cmap(0), capsize=10, elinewidth=1.5)\n",
        "  plt.errorbar(d, np.abs(mmd3), yerr=[np.array(np.abs(mmd3))-np.array(mmd3_min),np.array(mmd3_max)-np.array(np.abs(mmd3))], fmt='.', color=cmap(2), capsize=10, elinewidth=1.5)\n",
        "  if mmd_all_mc is not None:\n",
        "    if maxall<len(mmd_all_mc[0]):\n",
        "      num = maxall\n",
        "    else:\n",
        "      num = len(mmd_all_mc[0])\n",
        "    for i in range(num):\n",
        "      plt.plot(d, np.abs(np.array(mmd_all_mc)[:,i]),color=cmap(0),alpha=0.3)\n",
        "  if model == 'unif':\n",
        "    plt.ylim(1e-12,0.45)\n",
        "  if model == 'gaussian':\n",
        "    plt.ylim(1e-12,0.45)\n",
        "  if model == 'mvgandk':\n",
        "    plt.ylim(1e-8,1e-3)\n",
        "  #plt.xscale('log', basex=2)\n",
        "  plt.yscale('log', basey=10)\n",
        "  plt.xlabel('d')\n",
        "  plt.ylabel(r'$|\\widehat{MMD}^2(P^n||P^m)|$')\n",
        "  #plt.title(r'$\\widehat{MMD}^2$'+' against number of samples used')\n",
        "  plt.legend()\n",
        "  if mmd_all_mc is not None:\n",
        "    plt.savefig('MMD_against_d_n=8192'+'_'+stat_type+'stat_allmc.pdf')\n",
        "  else:\n",
        "    plt.savefig('MMD_against_d'+'_'+stat_type+'stat_n=8192.pdf')\n",
        "  plt.show() "
      ],
      "execution_count": null,
      "outputs": []
    },
    {
      "cell_type": "markdown",
      "metadata": {
        "id": "BxoZSj5mCLSa"
      },
      "source": [
        "### Convergence of Wasserstein distance"
      ]
    },
    {
      "cell_type": "markdown",
      "metadata": {
        "id": "mnYHQXwCCLS1"
      },
      "source": [
        "Plot Wasserstein distance against n for MC, QMC and RQMC:"
      ]
    },
    {
      "cell_type": "code",
      "metadata": {
        "id": "RwAxQFwWCLS5"
      },
      "source": [
        "def plot_W_conv(d,fig_size,W1,W2,W3,label1,label2,label3,W1_min,W1_max,W3_min,W3_max):\n",
        "\n",
        "  plt.figure(figsize=fig_size)\n",
        "  cmap = plt.get_cmap(\"tab10\")\n",
        "  plt.plot(n, np.abs(W1), linewidth=2, label=label1)\n",
        "  plt.plot(n, np.abs(W2), linewidth=2, label=label2)\n",
        "  plt.plot(n, np.abs(W3), linewidth=2, label=label3)\n",
        "  plt.errorbar(n, np.abs(W1), yerr=[np.array(np.abs(W1))-np.array(W1_min),np.array(W1_max)-np.array(np.abs(W1))], fmt='.', color=cmap(0), capsize=10, elinewidth=1.5)\n",
        "  plt.errorbar(n, np.abs(W3), yerr=[np.array(np.abs(W3))-np.array(W3_min),np.array(W3_max)-np.array(np.abs(W3))], fmt='.', color=cmap(2), capsize=10, elinewidth=1.5)\n",
        "  #if d==1:\n",
        "  #  plt.ylim(1e-3,0.35)\n",
        "  #if d==5:\n",
        "  #  plt.ylim(0.05,0.35)\n",
        "  plt.xscale('log', basex=2)\n",
        "  plt.yscale('log', basey=10)\n",
        "  plt.xlabel('n')\n",
        "  plt.ylabel(r'$|W_c(P,P^n)|$')\n",
        "  plt.title('Wasserstein distance against the number of samples used - '+r'$c(x,y)=||x-y||$')\n",
        "  plt.legend()\n",
        "  plt.savefig('W_against_n_d='+str(d)+'.pdf')\n",
        "  plt.show() "
      ],
      "execution_count": null,
      "outputs": []
    },
    {
      "cell_type": "code",
      "metadata": {
        "id": "PKgXksAEjdoV"
      },
      "source": [
        "def plot_W_conv_d(d,fig_size,W1,W2,W3,label1,label2,label3,W1_min,W1_max,W3_min,W3_max):\n",
        "\n",
        "  plt.figure(figsize=fig_size)\n",
        "  cmap = plt.get_cmap(\"tab10\")\n",
        "  plt.plot(d, np.abs(W1), linewidth=2, label=label1)\n",
        "  plt.plot(d, np.abs(W2), linewidth=2, label=label2)\n",
        "  plt.plot(d, np.abs(W3), linewidth=2, label=label3)\n",
        "  plt.errorbar(d, np.abs(W1), yerr=[np.array(np.abs(W1))-np.array(W1_min),np.array(W1_max)-np.array(np.abs(W1))], fmt='.', color=cmap(0), capsize=10, elinewidth=1.5)\n",
        "  plt.errorbar(d, np.abs(W3), yerr=[np.array(np.abs(W3))-np.array(W3_min),np.array(W3_max)-np.array(np.abs(W3))], fmt='.', color=cmap(2), capsize=10, elinewidth=1.5)\n",
        "  #if d==1:\n",
        "  #  plt.ylim(1e-3,0.35)\n",
        "  #if d==5:\n",
        "  #  plt.ylim(0.05,0.35)\n",
        "  plt.yscale('log', basey=10)\n",
        "  plt.xlabel('d')\n",
        "  plt.ylabel(r'$|W_c(P^n,P^m)|$')\n",
        "  plt.title('Wasserstein distance against the number of samples used - '+r'$c(x,y)=||x-y||$')\n",
        "  plt.legend()\n",
        "  plt.savefig('W_against_d_n=8192.pdf')\n",
        "  plt.show()"
      ],
      "execution_count": null,
      "outputs": []
    },
    {
      "cell_type": "markdown",
      "metadata": {
        "id": "baxcMSokDay3"
      },
      "source": [
        "### Convergence of Sinkhorn loss"
      ]
    },
    {
      "cell_type": "markdown",
      "metadata": {
        "id": "wBb3xJWTDay-"
      },
      "source": [
        "Plot Sinkhorn loss against n for MC, QMC and RQMC:"
      ]
    },
    {
      "cell_type": "code",
      "metadata": {
        "id": "uw1d-mqiDazB"
      },
      "source": [
        "def plot_sink_conv(d,fig_size,sink1,sink2,sink3,label1,label2,label3,sink1_min,sink1_max,sink3_min,sink3_max):\n",
        "\n",
        "  plt.figure(figsize=fig_size)\n",
        "  cmap = plt.get_cmap(\"tab10\")\n",
        "  plt.plot(n, np.abs(sink1), linewidth=2, label=label1)\n",
        "  plt.plot(n, np.abs(sink2), linewidth=2, label=label2)\n",
        "  plt.plot(n, np.abs(sink3), linewidth=2, label=label3)\n",
        "  plt.errorbar(n, np.abs(sink1), yerr=[np.squeeze(np.array(np.abs(sink1)))-np.squeeze(np.array(sink1_min)),np.squeeze(np.array(sink1_max))-np.squeeze(np.array(np.abs(sink1)))], fmt='.', color=cmap(0), capsize=10, elinewidth=1.5)\n",
        "  plt.errorbar(n, np.abs(sink3), yerr=[np.squeeze(np.array(np.abs(sink3)))-np.squeeze(np.array(sink3_min)),np.squeeze(np.array(sink3_max))-np.squeeze(np.array(np.abs(sink3)))], fmt='.', color=cmap(2), capsize=10, elinewidth=1.5)\n",
        "  #if d==1:\n",
        "  #  plt.ylim(0.000005,0.25)\n",
        "  #if d==5:\n",
        "  #  plt.ylim(0.005,0.25)\n",
        "  plt.xscale('log', basex=2)\n",
        "  plt.yscale('log', basey=10)\n",
        "  plt.xlabel('n')\n",
        "  plt.ylabel(r'$|\\overline{W}_{c,\\epsilon}(P,P^n)|$')\n",
        "  plt.title('Sinkhorn loss against the number of samples used - '+r'$c(x,y)=||x-y||^2$')\n",
        "  plt.legend()\n",
        "  plt.savefig('sink_against_n_d='+str(d)+'.pdf')\n",
        "  plt.show() "
      ],
      "execution_count": null,
      "outputs": []
    },
    {
      "cell_type": "code",
      "metadata": {
        "id": "O1XTUox5lnFD"
      },
      "source": [
        "def plot_sink_conv_d(d,fig_size,sink1,sink2,sink3,label1,label2,label3,sink1_min,sink1_max,sink3_min,sink3_max):\n",
        "\n",
        "  plt.figure(figsize=fig_size)\n",
        "  cmap = plt.get_cmap(\"tab10\")\n",
        "  plt.plot(d, np.abs(sink1), linewidth=2, label=label1)\n",
        "  plt.plot(d, np.abs(sink2), linewidth=2, label=label2)\n",
        "  plt.plot(d, np.abs(sink3), linewidth=2, label=label3)\n",
        "  plt.errorbar(d, np.abs(sink1), yerr=[np.squeeze(np.array(np.abs(sink1)))-np.squeeze(np.array(sink1_min)),np.squeeze(np.array(sink1_max))-np.squeeze(np.array(np.abs(sink1)))], fmt='.', color=cmap(0), capsize=10, elinewidth=1.5)\n",
        "  plt.errorbar(d, np.abs(sink3), yerr=[np.squeeze(np.array(np.abs(sink3)))-np.squeeze(np.array(sink3_min)),np.squeeze(np.array(sink3_max))-np.squeeze(np.array(np.abs(sink3)))], fmt='.', color=cmap(2), capsize=10, elinewidth=1.5)\n",
        "  #if d==1:\n",
        "  #  plt.ylim(0.000005,0.25)\n",
        "  #if d==5:\n",
        "  #  plt.ylim(0.005,0.25)\n",
        "  plt.yscale('log', basey=10)\n",
        "  plt.xlabel('d')\n",
        "  plt.ylabel(r'$|\\overline{W}_{c,\\epsilon}(P,P^n)|$')\n",
        "  plt.title('Sinkhorn loss against the number of samples used - '+r'$c(x,y)=||x-y||^2$')\n",
        "  plt.legend()\n",
        "  plt.savefig('sink_against_n_d='+str(d)+'.pdf')\n",
        "  plt.show() "
      ],
      "execution_count": null,
      "outputs": []
    },
    {
      "cell_type": "markdown",
      "metadata": {
        "id": "FsxAHveZhLjq"
      },
      "source": [
        "### Convergence of sliced Wasserstein distance"
      ]
    },
    {
      "cell_type": "markdown",
      "metadata": {
        "id": "XA9p6xnkhLjz"
      },
      "source": [
        "Plot sliced Wasserstein distance against n for MC, QMC and RQMC:"
      ]
    },
    {
      "cell_type": "code",
      "metadata": {
        "id": "bB_C9ax8hLj1"
      },
      "source": [
        "def plot_slicedW_conv(d,fig_size,W1,W2,W3,label1,label2,label3,W1_min,W1_max,W3_min,W3_max):\n",
        "\n",
        "  plt.figure(figsize=fig_size)\n",
        "  cmap = plt.get_cmap(\"tab10\")\n",
        "  plt.plot(n, np.abs(W1), linewidth=2, label=label1)\n",
        "  plt.plot(n, np.abs(W2), linewidth=2, label=label2)\n",
        "  plt.plot(n, np.abs(W3), linewidth=2, label=label3)\n",
        "  plt.errorbar(n, np.abs(W1), yerr=[np.array(np.abs(W1))-np.array(W1_min),np.array(W1_max)-np.array(np.abs(W1))], fmt='.', color=cmap(0), capsize=10, elinewidth=1.5)\n",
        "  plt.errorbar(n, np.abs(W3), yerr=[np.array(np.abs(W3))-np.array(W3_min),np.array(W3_max)-np.array(np.abs(W3))], fmt='.', color=cmap(2), capsize=10, elinewidth=1.5)\n",
        "  #if d==1:\n",
        "  #  plt.ylim(1e-3,0.35)\n",
        "  #if d==5:\n",
        "  #  plt.ylim(0.05,0.35)\n",
        "  plt.xscale('log', basex=2)\n",
        "  plt.yscale('log', basey=10)\n",
        "  plt.xlabel('n')\n",
        "  plt.ylabel(r'$|W_c^p(P,P^n)|$')\n",
        "  plt.title('Sliced Wasserstein distance against n')\n",
        "  plt.legend()\n",
        "  plt.savefig('slicedW_against_n_d='+str(d)+'.pdf')\n",
        "  plt.show() "
      ],
      "execution_count": null,
      "outputs": []
    },
    {
      "cell_type": "code",
      "metadata": {
        "id": "M7pTFDP5hLj4"
      },
      "source": [
        "def plot_slicedW_conv_d(d,fig_size,W1,W2,W3,label1,label2,label3,W1_min,W1_max,W3_min,W3_max):\n",
        "\n",
        "  plt.figure(figsize=fig_size)\n",
        "  cmap = plt.get_cmap(\"tab10\")\n",
        "  plt.plot(d, np.abs(W1), linewidth=2, label=label1)\n",
        "  plt.plot(d, np.abs(W2), linewidth=2, label=label2)\n",
        "  plt.plot(d, np.abs(W3), linewidth=2, label=label3)\n",
        "  plt.errorbar(d, np.abs(W1), yerr=[np.array(np.abs(W1))-np.array(W1_min),np.array(W1_max)-np.array(np.abs(W1))], fmt='.', color=cmap(0), capsize=10, elinewidth=1.5)\n",
        "  plt.errorbar(d, np.abs(W3), yerr=[np.array(np.abs(W3))-np.array(W3_min),np.array(W3_max)-np.array(np.abs(W3))], fmt='.', color=cmap(2), capsize=10, elinewidth=1.5)\n",
        "  #if d==1:\n",
        "  #  plt.ylim(1e-3,0.35)\n",
        "  #if d==5:\n",
        "  #  plt.ylim(0.05,0.35)\n",
        "  plt.yscale('log', basey=10)\n",
        "  plt.xlabel('d')\n",
        "  plt.ylabel(r'$|W_c^p(P^n,P^m)|$')\n",
        "  plt.title('Sliced Wasserstein distance against d')\n",
        "  plt.legend()\n",
        "  plt.savefig('slicedW_against_d_n=8192.pdf')\n",
        "  plt.show()"
      ],
      "execution_count": null,
      "outputs": []
    }
  ]
}