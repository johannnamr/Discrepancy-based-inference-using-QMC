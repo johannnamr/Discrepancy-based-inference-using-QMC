{
  "nbformat": 4,
  "nbformat_minor": 0,
  "metadata": {
    "colab": {
      "name": "mvgandk_conv.ipynb",
      "provenance": [],
      "collapsed_sections": [],
      "machine_shape": "hm",
      "authorship_tag": "ABX9TyPo0boLb8SDrGk+i3UjIEff",
      "include_colab_link": true
    },
    "kernelspec": {
      "name": "python3",
      "display_name": "Python 3"
    }
  },
  "cells": [
    {
      "cell_type": "markdown",
      "metadata": {
        "id": "view-in-github",
        "colab_type": "text"
      },
      "source": [
        "<a href=\"https://colab.research.google.com/github/johannnamr/Discrepancy-based-inference-using-QMC/blob/main/Inference/Mv-g-and-k-distribution/mvgandk_conv_mmd2.ipynb\" target=\"_parent\"><img src=\"https://colab.research.google.com/assets/colab-badge.svg\" alt=\"Open In Colab\"/></a>"
      ]
    },
    {
      "cell_type": "markdown",
      "metadata": {
        "id": "eAgqDlxLZjVG"
      },
      "source": [
        "# Multivariate g-and-k distribution\n",
        "\n",
        "Notebook for the convergence of the MMD$^2$ approximation"
      ]
    },
    {
      "cell_type": "markdown",
      "metadata": {
        "id": "l9gFgq4hwYgD"
      },
      "source": [
        "### Mount Drive"
      ]
    },
    {
      "cell_type": "code",
      "metadata": {
        "id": "rD-DsqPqbigO",
        "colab": {
          "base_uri": "https://localhost:8080/"
        },
        "outputId": "bc82b412-077d-47f5-c78c-9be099f3c912"
      },
      "source": [
        "# mount my drive\n",
        "from google.colab import drive\n",
        "drive.mount(\"/content/drive\")"
      ],
      "execution_count": null,
      "outputs": [
        {
          "output_type": "stream",
          "text": [
            "Drive already mounted at /content/drive; to attempt to forcibly remount, call drive.mount(\"/content/drive\", force_remount=True).\n"
          ],
          "name": "stdout"
        }
      ]
    },
    {
      "cell_type": "markdown",
      "metadata": {
        "id": "9BYKBIZb_qUU"
      },
      "source": [
        "The following path has to be adjusted if necessary:"
      ]
    },
    {
      "cell_type": "code",
      "metadata": {
        "id": "NXk43y1vEpn7",
        "colab": {
          "base_uri": "https://localhost:8080/"
        },
        "outputId": "5db94f36-ff25-4b2e-84a1-6c4aaafa66f8"
      },
      "source": [
        "%run \"/content/drive/My Drive/Colab Notebooks/Utils.ipynb\"\n",
        "%run \"/content/drive/My Drive/Colab Notebooks/Plot_fcts.ipynb\""
      ],
      "execution_count": null,
      "outputs": [
        {
          "output_type": "stream",
          "text": [
            "Requirement already satisfied: pip in /usr/local/lib/python3.7/dist-packages (21.0.1)\n"
          ],
          "name": "stdout"
        }
      ]
    },
    {
      "cell_type": "markdown",
      "metadata": {
        "id": "BnrYr27imebu"
      },
      "source": [
        "Set path for saving the results (adjust if necessary):"
      ]
    },
    {
      "cell_type": "code",
      "metadata": {
        "id": "1jAap2wimiYe"
      },
      "source": [
        "path = '/content/drive/My Drive/Colab Notebooks/Paper/Inference/'"
      ],
      "execution_count": null,
      "outputs": []
    },
    {
      "cell_type": "code",
      "metadata": {
        "id": "9l-c34P160eQ"
      },
      "source": [
        "np.random.seed(11)"
      ],
      "execution_count": null,
      "outputs": []
    },
    {
      "cell_type": "markdown",
      "metadata": {
        "id": "QJ27l7qq76LI"
      },
      "source": [
        "## MMD$^2$ convergence for varying $n$"
      ]
    },
    {
      "cell_type": "markdown",
      "metadata": {
        "id": "h8NS5lkg64lx"
      },
      "source": [
        "Set parameters:"
      ]
    },
    {
      "cell_type": "code",
      "metadata": {
        "id": "62mV95-_63ov"
      },
      "source": [
        "n = [ 2**j for j in range(3,15) ]          # number of simulated samples - powers of 2\n",
        "m = 2**15                                  # number of true samples\n",
        "num = 25                                   # numbers of repetitions for MC and RQMC\n",
        "theta = np.array([3,1,1,-np.log(2),0.1])   # true theta\n",
        "d = 50                                      # dimensions of data\n",
        "p = theta.shape[0]                         # dimensions of parameter space\n",
        "kernel = 'gaussian'                        # 'gaussian' or 'imq'\n",
        "l = 1.5*d**(1/2)                           # lengthscale for Gaussian kernel (l=-1 for median heuristic)\n",
        "c = 1                                      # parameter c for IMQ kernel\n",
        "b = -0.5                                   # parameter beta for IMQ kernel\n",
        "nu = 0                                     # parameter for Matern kernel \n",
        "inv = True                                 # True: use inverse transform, False: use Box-Muller transform\n",
        "mc_all = False                             # True: also output all MC draws; False: only output min, max and mean\n",
        "stat_type = 'v'                            # 'v' for V-statistic, 'u' for U-statistic"
      ],
      "execution_count": null,
      "outputs": []
    },
    {
      "cell_type": "markdown",
      "metadata": {
        "id": "981kzzXW_ial"
      },
      "source": [
        "Define the QMC sequence:"
      ]
    },
    {
      "cell_type": "code",
      "metadata": {
        "id": "PlbLuNMm_frv"
      },
      "source": [
        "if inv:\n",
        "  qmc = qmcpy.Halton(d)\n",
        "else:  \n",
        "  qmc = qmcpy.Halton(d+1)"
      ],
      "execution_count": null,
      "outputs": []
    },
    {
      "cell_type": "markdown",
      "metadata": {
        "id": "Kt4rY5gj8NcW"
      },
      "source": [
        "Calculate MMD$^2$ approximation for varying $n$:"
      ]
    },
    {
      "cell_type": "code",
      "metadata": {
        "id": "JZEo0ov48AJm",
        "colab": {
          "base_uri": "https://localhost:8080/"
        },
        "outputId": "65e41f26-2a93-470e-a6f8-45eb78f6a292"
      },
      "source": [
        "if inv:\n",
        "  if mc_all:\n",
        "    mmd_mc,mmd_qmc,mmd_rqmc,mmd_min_mc,mmd_max_mc,mmd_min_rqmc,mmd_max_rqmc,mmd_all_mc = mmd_conv_inv('mvgandk',n,num,d,l,c,b,nu,kernel,stat_type,theta,mc_all=mc_all)\n",
        "  else:\n",
        "    mmd_mc,mmd_qmc,mmd_rqmc,mmd_min_mc,mmd_max_mc,mmd_min_rqmc,mmd_max_rqmc = mmd_conv_inv('mvgandk',n,num,d,l,c,b,nu,kernel,stat_type,theta)\n",
        "else:\n",
        "  if mc_all:\n",
        "    mmd_mc,mmd_qmc,mmd_rqmc,mmd_min_mc,mmd_max_mc,mmd_min_rqmc,mmd_max_rqmc,mmd_all_mc = mmd_conv('mvgandk',n,num,d,l,c,b,nu,kernel,stat_type,theta,mc_all=mc_all)\n",
        "  else:\n",
        "    mmd_mc,mmd_qmc,mmd_rqmc,mmd_min_mc,mmd_max_mc,mmd_min_rqmc,mmd_max_rqmc = mmd_conv('mvgandk',n,num,d,l,c,b,nu,kernel,stat_type,theta)"
      ],
      "execution_count": null,
      "outputs": [
        {
          "output_type": "stream",
          "text": [
            "WARNING:absl:No GPU/TPU found, falling back to CPU. (Set TF_CPP_MIN_LOG_LEVEL=0 and rerun for more info.)\n"
          ],
          "name": "stderr"
        },
        {
          "output_type": "stream",
          "text": [
            "sample size:  8\n",
            "sample size:  16\n",
            "sample size:  32\n",
            "sample size:  64\n",
            "sample size:  128\n",
            "sample size:  256\n",
            "sample size:  512\n",
            "sample size:  1024\n",
            "sample size:  2048\n",
            "sample size:  4096\n",
            "sample size:  8192\n",
            "sample size:  16384\n"
          ],
          "name": "stdout"
        }
      ]
    },
    {
      "cell_type": "markdown",
      "metadata": {
        "id": "u_4KSvZw8UYi"
      },
      "source": [
        "Plot the MMD$^2$ approximation against $n$:"
      ]
    },
    {
      "cell_type": "code",
      "metadata": {
        "id": "QPxnORlu8Y56",
        "colab": {
          "base_uri": "https://localhost:8080/",
          "height": 522
        },
        "outputId": "d2dbf5a4-0c2e-4412-d8ed-2aaa307ad35c"
      },
      "source": [
        "if mc_all:\n",
        "  plot_mmd_conv(d,(16,8),mmd_mc,mmd_qmc,mmd_rqmc,'MC','QMC','RQMC',mmd_min_mc,mmd_max_mc,mmd_min_rqmc,mmd_max_rqmc,'mvgandk',stat_type,mmd_all_mc,15)\n",
        "else:\n",
        "  plot_mmd_conv(d,(16,8),mmd_mc,mmd_qmc,mmd_rqmc,'MC','QMC','RQMC',mmd_min_mc,mmd_max_mc,mmd_min_rqmc,mmd_max_rqmc,'mvgandk',stat_type)"
      ],
      "execution_count": null,
      "outputs": [
        {
          "output_type": "display_data",
          "data": {
            "image/png": "[encoded data removed]",
            "text/plain": [
              "<Figure size 1152x576 with 1 Axes>"
            ]
          },
          "metadata": {
            "tags": [],
            "needs_background": "light"
          }
        }
      ]
    },
    {
      "cell_type": "code",
      "metadata": {
        "id": "7JC4KSXTmf1b"
      },
      "source": [
        "np.savez(path + \"mvgandk_mmd2_n_d=%s_%sstat_k%s.npz\" %(d,stat_type,kernel), mmd_mc=mmd_mc,mmd_min_mc=mmd_min_mc,mmd_max_mc=mmd_max_mc,mmd_rqmc=mmd_rqmc,mmd_min_rqmc=mmd_min_rqmc,mmd_max_rqmc=mmd_max_rqmc,mmd_qmc=mmd_qmc)"
      ],
      "execution_count": null,
      "outputs": []
    },
    {
      "cell_type": "markdown",
      "metadata": {
        "id": "YWLQ7CseoIwf"
      },
      "source": [
        "## MMD$^2$ convergence for varying $d$"
      ]
    },
    {
      "cell_type": "markdown",
      "metadata": {
        "id": "spbypZwHm7xO"
      },
      "source": [
        "Calculate MMD$^2$ approximation for varying $d$:"
      ]
    },
    {
      "cell_type": "code",
      "metadata": {
        "id": "7JIjVacTnE6w"
      },
      "source": [
        "np.random.seed(11)"
      ],
      "execution_count": null,
      "outputs": []
    },
    {
      "cell_type": "code",
      "metadata": {
        "id": "JddDt093nI45"
      },
      "source": [
        "n = 2**13                                  # number of simulated samples\n",
        "d = [1,5,10,15,20,25,50,75,100,150,200,300]      # dimensions of data\n",
        "num = 25                                   # numbers of repetitions for MC and RQMC\n",
        "theta = np.array([3,1,1,-np.log(2),0.1])   # true theta\n",
        "p = theta.shape[0]                         # dimensions of parameter space\n",
        "kernel = 'gaussian'                        # 'gaussian' or 'imq'\n",
        "l = 1.5                                    # lengthscale for Gaussian kernel\n",
        "c = 1                                      # parameter c for IMQ kernel\n",
        "b = -0.5                                   # parameter beta for IMQ kernel\n",
        "nu = 0\n",
        "inv = True                                 # True: use inverse transform, False: use Box-Muller transform\n",
        "mc_all = False                             # True: also output all MC draws; False: only output min, max and mean\n",
        "stat_type = 'v'                            # 'v' for V-statistic, 'u' for U-statistic\n",
        "ladapt = True                              # True: lengthscal proportional to d**(1/2)"
      ],
      "execution_count": null,
      "outputs": []
    },
    {
      "cell_type": "markdown",
      "metadata": {
        "id": "VGLTyb3nn6a0"
      },
      "source": [
        "Define the QMC sequence:"
      ]
    },
    {
      "cell_type": "code",
      "metadata": {
        "id": "ZVGHlL9bn6bG"
      },
      "source": [
        "if inv:\n",
        "  qmc = qmcpy.Halton(np.max(d))\n",
        "else:  \n",
        "  qmc = qmcpy.Halton(np.max(d)+1)"
      ],
      "execution_count": null,
      "outputs": []
    },
    {
      "cell_type": "markdown",
      "metadata": {
        "id": "kA5ZLlYYoCqZ"
      },
      "source": [
        "Calculate MMD$^2$ approximation for varying $d$:"
      ]
    },
    {
      "cell_type": "code",
      "metadata": {
        "colab": {
          "base_uri": "https://localhost:8080/"
        },
        "id": "xtwq5ac8oHDR",
        "outputId": "882c83e0-41ed-4901-905b-4cb6425a4fc4"
      },
      "source": [
        "if mc_all:\n",
        "  mmd_mc,mmd_qmc,mmd_rqmc,mmd_min_mc,mmd_max_mc,mmd_min_rqmc,mmd_max_rqmc,mmd_all_mc = mmd_conv_d('mvgandk',n,num,d,l,c,b,nu,kernel,stat_type,theta,mc_all=mc_all,ladapt=ladapt)\n",
        "else:\n",
        "  mmd_mc,mmd_qmc,mmd_rqmc,mmd_min_mc,mmd_max_mc,mmd_min_rqmc,mmd_max_rqmc = mmd_conv_inv_d('mvgandk',n,num,d,l,c,b,nu,kernel,stat_type,theta,ladapt=ladapt)"
      ],
      "execution_count": null,
      "outputs": [
        {
          "output_type": "stream",
          "text": [
            "number of dimensions:  1\n",
            "number of dimensions:  5\n",
            "number of dimensions:  10\n",
            "number of dimensions:  15\n",
            "number of dimensions:  20\n",
            "number of dimensions:  25\n",
            "number of dimensions:  50\n",
            "number of dimensions:  75\n",
            "number of dimensions:  100\n",
            "number of dimensions:  150\n",
            "number of dimensions:  200\n",
            "number of dimensions:  300\n"
          ],
          "name": "stdout"
        }
      ]
    },
    {
      "cell_type": "markdown",
      "metadata": {
        "id": "lwEeCtKeoN4u"
      },
      "source": [
        "Plot MMD$^2$ approximation for varying $d$:"
      ]
    },
    {
      "cell_type": "code",
      "metadata": {
        "colab": {
          "base_uri": "https://localhost:8080/",
          "height": 527
        },
        "id": "A0nWCd8poLZl",
        "outputId": "3385d36e-0e88-4aaa-e4be-95ec93057355"
      },
      "source": [
        "if mc_all:\n",
        "  plot_mmd_conv_d(d,(16,8),mmd_mc,mmd_qmc,mmd_rqmc,'MC','QMC','RQMC',mmd_min_mc,mmd_max_mc,mmd_min_rqmc,mmd_max_rqmc,'mvgandk',stat_type_mmd_all_mc,15)\n",
        "else:\n",
        "  plot_mmd_conv_d(d,(16,8),mmd_mc,mmd_qmc,mmd_rqmc,'MC','QMC','RQMC',mmd_min_mc,mmd_max_mc,mmd_min_rqmc,mmd_max_rqmc,'mvgandk',stat_type)"
      ],
      "execution_count": null,
      "outputs": [
        {
          "output_type": "display_data",
          "data": {
            "image/png": "[encoded data removed]",
            "text/plain": [
              "<Figure size 1152x576 with 1 Axes>"
            ]
          },
          "metadata": {
            "tags": [],
            "needs_background": "light"
          }
        }
      ]
    },
    {
      "cell_type": "code",
      "metadata": {
        "id": "5mqITXO9oca2"
      },
      "source": [
        "np.savez(path + \"mvgandk_mmd2_d_n=8192_%sstat_k%s.npz\" %(stat_type,kernel), mmd_mc=mmd_mc,mmd_min_mc=mmd_min_mc,mmd_max_mc=mmd_max_mc,mmd_rqmc=mmd_rqmc,mmd_min_rqmc=mmd_min_rqmc,mmd_max_rqmc=mmd_max_rqmc,mmd_qmc=mmd_qmc)"
      ],
      "execution_count": null,
      "outputs": []
    }
  ]
}