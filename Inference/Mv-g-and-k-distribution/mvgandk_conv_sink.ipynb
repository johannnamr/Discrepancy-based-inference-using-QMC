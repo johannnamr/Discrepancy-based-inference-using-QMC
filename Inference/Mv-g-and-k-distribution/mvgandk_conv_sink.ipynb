{
  "nbformat": 4,
  "nbformat_minor": 0,
  "metadata": {
    "colab": {
      "name": "mvgandk_conv_sink.ipynb",
      "provenance": [],
      "collapsed_sections": [],
      "machine_shape": "hm",
      "authorship_tag": "ABX9TyNpb0tZhlsxRy3TFs6uelFj",
      "include_colab_link": true
    },
    "kernelspec": {
      "display_name": "Python 3",
      "name": "python3"
    }
  },
  "cells": [
    {
      "cell_type": "markdown",
      "metadata": {
        "id": "view-in-github",
        "colab_type": "text"
      },
      "source": [
        "<a href=\"https://colab.research.google.com/github/johannnamr/Discrepancy-based-inference-using-QMC/blob/main/Inference/Mv-g-and-k-distribution/mvgandk_conv_sink.ipynb\" target=\"_parent\"><img src=\"https://colab.research.google.com/assets/colab-badge.svg\" alt=\"Open In Colab\"/></a>"
      ]
    },
    {
      "cell_type": "markdown",
      "metadata": {
        "id": "eAgqDlxLZjVG"
      },
      "source": [
        "# Multivariate g-and-k distribution\n",
        "\n",
        "Notebook for the convergence of the Sinkhorn divergence"
      ]
    },
    {
      "cell_type": "markdown",
      "metadata": {
        "id": "l9gFgq4hwYgD"
      },
      "source": [
        "### Mount Drive"
      ]
    },
    {
      "cell_type": "code",
      "metadata": {
        "colab": {
          "base_uri": "https://localhost:8080/"
        },
        "id": "rD-DsqPqbigO",
        "outputId": "8893d2e5-39cd-4e46-a051-dee302f11582"
      },
      "source": [
        "# mount my drive\n",
        "from google.colab import drive\n",
        "drive.mount(\"/content/drive\")"
      ],
      "execution_count": null,
      "outputs": [
        {
          "output_type": "stream",
          "text": [
            "Mounted at /content/drive\n"
          ],
          "name": "stdout"
        }
      ]
    },
    {
      "cell_type": "markdown",
      "metadata": {
        "id": "9BYKBIZb_qUU"
      },
      "source": [
        "The following path has to be adjusted if necessary:"
      ]
    },
    {
      "cell_type": "code",
      "metadata": {
        "colab": {
          "base_uri": "https://localhost:8080/"
        },
        "id": "NXk43y1vEpn7",
        "outputId": "304a7ef9-5d95-4bd9-f35b-14c6b25e35e4"
      },
      "source": [
        "%run \"/content/drive/My Drive/Colab Notebooks/Utils.ipynb\"\n",
        "%run \"/content/drive/My Drive/Colab Notebooks/Plot_fcts.ipynb\""
      ],
      "execution_count": null,
      "outputs": [
        {
          "output_type": "stream",
          "text": [
            "Collecting pip\n",
            "\u001b[?25l  Downloading https://files.pythonhosted.org/packages/ac/cf/0cc542fc93de2f3b9b53cb979c7d1118cffb93204afb46299a9f858e113f/pip-21.1-py3-none-any.whl (1.5MB)\n",
            "\r\u001b[K     |▏                               | 10kB 16.8MB/s eta 0:00:01\r\u001b[K     |▍                               | 20kB 22.7MB/s eta 0:00:01\r\u001b[K     |▋                               | 30kB 25.9MB/s eta 0:00:01\r\u001b[K     |▉                               | 40kB 20.0MB/s eta 0:00:01\r\u001b[K     |█                               | 51kB 16.6MB/s eta 0:00:01\r\u001b[K     |█▎                              | 61kB 18.1MB/s eta 0:00:01\r\u001b[K     |█▌                              | 71kB 15.1MB/s eta 0:00:01\r\u001b[K     |█▊                              | 81kB 13.3MB/s eta 0:00:01\r\u001b[K     |██                              | 92kB 13.7MB/s eta 0:00:01\r\u001b[K     |██▏                             | 102kB 12.9MB/s eta 0:00:01\r\u001b[K     |██▎                             | 112kB 12.9MB/s eta 0:00:01\r\u001b[K     |██▌                             | 122kB 12.9MB/s eta 0:00:01\r\u001b[K     |██▊                             | 133kB 12.9MB/s eta 0:00:01\r\u001b[K     |███                             | 143kB 12.9MB/s eta 0:00:01\r\u001b[K     |███▏                            | 153kB 12.9MB/s eta 0:00:01\r\u001b[K     |███▍                            | 163kB 12.9MB/s eta 0:00:01\r\u001b[K     |███▋                            | 174kB 12.9MB/s eta 0:00:01\r\u001b[K     |███▉                            | 184kB 12.9MB/s eta 0:00:01\r\u001b[K     |████                            | 194kB 12.9MB/s eta 0:00:01\r\u001b[K     |████▎                           | 204kB 12.9MB/s eta 0:00:01\r\u001b[K     |████▌                           | 215kB 12.9MB/s eta 0:00:01\r\u001b[K     |████▋                           | 225kB 12.9MB/s eta 0:00:01\r\u001b[K     |████▉                           | 235kB 12.9MB/s eta 0:00:01\r\u001b[K     |█████                           | 245kB 12.9MB/s eta 0:00:01\r\u001b[K     |█████▎                          | 256kB 12.9MB/s eta 0:00:01\r\u001b[K     |█████▌                          | 266kB 12.9MB/s eta 0:00:01\r\u001b[K     |█████▊                          | 276kB 12.9MB/s eta 0:00:01\r\u001b[K     |██████                          | 286kB 12.9MB/s eta 0:00:01\r\u001b[K     |██████▏                         | 296kB 12.9MB/s eta 0:00:01\r\u001b[K     |██████▍                         | 307kB 12.9MB/s eta 0:00:01\r\u001b[K     |██████▋                         | 317kB 12.9MB/s eta 0:00:01\r\u001b[K     |██████▊                         | 327kB 12.9MB/s eta 0:00:01\r\u001b[K     |███████                         | 337kB 12.9MB/s eta 0:00:01\r\u001b[K     |███████▏                        | 348kB 12.9MB/s eta 0:00:01\r\u001b[K     |███████▍                        | 358kB 12.9MB/s eta 0:00:01\r\u001b[K     |███████▋                        | 368kB 12.9MB/s eta 0:00:01\r\u001b[K     |███████▉                        | 378kB 12.9MB/s eta 0:00:01\r\u001b[K     |████████                        | 389kB 12.9MB/s eta 0:00:01\r\u001b[K     |████████▎                       | 399kB 12.9MB/s eta 0:00:01\r\u001b[K     |████████▌                       | 409kB 12.9MB/s eta 0:00:01\r\u001b[K     |████████▊                       | 419kB 12.9MB/s eta 0:00:01\r\u001b[K     |█████████                       | 430kB 12.9MB/s eta 0:00:01\r\u001b[K     |█████████                       | 440kB 12.9MB/s eta 0:00:01\r\u001b[K     |█████████▎                      | 450kB 12.9MB/s eta 0:00:01\r\u001b[K     |█████████▌                      | 460kB 12.9MB/s eta 0:00:01\r\u001b[K     |█████████▊                      | 471kB 12.9MB/s eta 0:00:01\r\u001b[K     |██████████                      | 481kB 12.9MB/s eta 0:00:01\r\u001b[K     |██████████▏                     | 491kB 12.9MB/s eta 0:00:01\r\u001b[K     |██████████▍                     | 501kB 12.9MB/s eta 0:00:01\r\u001b[K     |██████████▋                     | 512kB 12.9MB/s eta 0:00:01\r\u001b[K     |██████████▉                     | 522kB 12.9MB/s eta 0:00:01\r\u001b[K     |███████████                     | 532kB 12.9MB/s eta 0:00:01\r\u001b[K     |███████████▎                    | 542kB 12.9MB/s eta 0:00:01\r\u001b[K     |███████████▍                    | 552kB 12.9MB/s eta 0:00:01\r\u001b[K     |███████████▋                    | 563kB 12.9MB/s eta 0:00:01\r\u001b[K     |███████████▉                    | 573kB 12.9MB/s eta 0:00:01\r\u001b[K     |████████████                    | 583kB 12.9MB/s eta 0:00:01\r\u001b[K     |████████████▎                   | 593kB 12.9MB/s eta 0:00:01\r\u001b[K     |████████████▌                   | 604kB 12.9MB/s eta 0:00:01\r\u001b[K     |████████████▊                   | 614kB 12.9MB/s eta 0:00:01\r\u001b[K     |█████████████                   | 624kB 12.9MB/s eta 0:00:01\r\u001b[K     |█████████████▏                  | 634kB 12.9MB/s eta 0:00:01\r\u001b[K     |█████████████▍                  | 645kB 12.9MB/s eta 0:00:01\r\u001b[K     |█████████████▌                  | 655kB 12.9MB/s eta 0:00:01\r\u001b[K     |█████████████▊                  | 665kB 12.9MB/s eta 0:00:01\r\u001b[K     |██████████████                  | 675kB 12.9MB/s eta 0:00:01\r\u001b[K     |██████████████▏                 | 686kB 12.9MB/s eta 0:00:01\r\u001b[K     |██████████████▍                 | 696kB 12.9MB/s eta 0:00:01\r\u001b[K     |██████████████▋                 | 706kB 12.9MB/s eta 0:00:01\r\u001b[K     |██████████████▉                 | 716kB 12.9MB/s eta 0:00:01\r\u001b[K     |███████████████                 | 727kB 12.9MB/s eta 0:00:01\r\u001b[K     |███████████████▎                | 737kB 12.9MB/s eta 0:00:01\r\u001b[K     |███████████████▌                | 747kB 12.9MB/s eta 0:00:01\r\u001b[K     |███████████████▊                | 757kB 12.9MB/s eta 0:00:01\r\u001b[K     |███████████████▉                | 768kB 12.9MB/s eta 0:00:01\r\u001b[K     |████████████████                | 778kB 12.9MB/s eta 0:00:01\r\u001b[K     |████████████████▎               | 788kB 12.9MB/s eta 0:00:01\r\u001b[K     |████████████████▌               | 798kB 12.9MB/s eta 0:00:01\r\u001b[K     |████████████████▊               | 808kB 12.9MB/s eta 0:00:01\r\u001b[K     |█████████████████               | 819kB 12.9MB/s eta 0:00:01\r\u001b[K     |█████████████████▏              | 829kB 12.9MB/s eta 0:00:01\r\u001b[K     |█████████████████▍              | 839kB 12.9MB/s eta 0:00:01\r\u001b[K     |█████████████████▋              | 849kB 12.9MB/s eta 0:00:01\r\u001b[K     |█████████████████▉              | 860kB 12.9MB/s eta 0:00:01\r\u001b[K     |██████████████████              | 870kB 12.9MB/s eta 0:00:01\r\u001b[K     |██████████████████▏             | 880kB 12.9MB/s eta 0:00:01\r\u001b[K     |██████████████████▍             | 890kB 12.9MB/s eta 0:00:01\r\u001b[K     |██████████████████▋             | 901kB 12.9MB/s eta 0:00:01\r\u001b[K     |██████████████████▉             | 911kB 12.9MB/s eta 0:00:01\r\u001b[K     |███████████████████             | 921kB 12.9MB/s eta 0:00:01\r\u001b[K     |███████████████████▎            | 931kB 12.9MB/s eta 0:00:01\r\u001b[K     |███████████████████▌            | 942kB 12.9MB/s eta 0:00:01\r\u001b[K     |███████████████████▊            | 952kB 12.9MB/s eta 0:00:01\r\u001b[K     |████████████████████            | 962kB 12.9MB/s eta 0:00:01\r\u001b[K     |████████████████████▏           | 972kB 12.9MB/s eta 0:00:01\r\u001b[K     |████████████████████▎           | 983kB 12.9MB/s eta 0:00:01\r\u001b[K     |████████████████████▌           | 993kB 12.9MB/s eta 0:00:01\r\u001b[K     |████████████████████▊           | 1.0MB 12.9MB/s eta 0:00:01\r\u001b[K     |█████████████████████           | 1.0MB 12.9MB/s eta 0:00:01\r\u001b[K     |█████████████████████▏          | 1.0MB 12.9MB/s eta 0:00:01\r\u001b[K     |█████████████████████▍          | 1.0MB 12.9MB/s eta 0:00:01\r\u001b[K     |█████████████████████▋          | 1.0MB 12.9MB/s eta 0:00:01\r\u001b[K     |█████████████████████▉          | 1.1MB 12.9MB/s eta 0:00:01\r\u001b[K     |██████████████████████          | 1.1MB 12.9MB/s eta 0:00:01\r\u001b[K     |██████████████████████▎         | 1.1MB 12.9MB/s eta 0:00:01\r\u001b[K     |██████████████████████▌         | 1.1MB 12.9MB/s eta 0:00:01\r\u001b[K     |██████████████████████▋         | 1.1MB 12.9MB/s eta 0:00:01\r\u001b[K     |██████████████████████▉         | 1.1MB 12.9MB/s eta 0:00:01\r\u001b[K     |███████████████████████         | 1.1MB 12.9MB/s eta 0:00:01\r\u001b[K     |███████████████████████▎        | 1.1MB 12.9MB/s eta 0:00:01\r\u001b[K     |███████████████████████▌        | 1.1MB 12.9MB/s eta 0:00:01\r\u001b[K     |███████████████████████▊        | 1.1MB 12.9MB/s eta 0:00:01\r\u001b[K     |████████████████████████        | 1.2MB 12.9MB/s eta 0:00:01\r\u001b[K     |████████████████████████▏       | 1.2MB 12.9MB/s eta 0:00:01\r\u001b[K     |████████████████████████▍       | 1.2MB 12.9MB/s eta 0:00:01\r\u001b[K     |████████████████████████▋       | 1.2MB 12.9MB/s eta 0:00:01\r\u001b[K     |████████████████████████▉       | 1.2MB 12.9MB/s eta 0:00:01\r\u001b[K     |█████████████████████████       | 1.2MB 12.9MB/s eta 0:00:01\r\u001b[K     |█████████████████████████▏      | 1.2MB 12.9MB/s eta 0:00:01\r\u001b[K     |█████████████████████████▍      | 1.2MB 12.9MB/s eta 0:00:01\r\u001b[K     |█████████████████████████▋      | 1.2MB 12.9MB/s eta 0:00:01\r\u001b[K     |█████████████████████████▉      | 1.2MB 12.9MB/s eta 0:00:01\r\u001b[K     |██████████████████████████      | 1.3MB 12.9MB/s eta 0:00:01\r\u001b[K     |██████████████████████████▎     | 1.3MB 12.9MB/s eta 0:00:01\r\u001b[K     |██████████████████████████▌     | 1.3MB 12.9MB/s eta 0:00:01\r\u001b[K     |██████████████████████████▊     | 1.3MB 12.9MB/s eta 0:00:01\r\u001b[K     |███████████████████████████     | 1.3MB 12.9MB/s eta 0:00:01\r\u001b[K     |███████████████████████████     | 1.3MB 12.9MB/s eta 0:00:01\r\u001b[K     |███████████████████████████▎    | 1.3MB 12.9MB/s eta 0:00:01\r\u001b[K     |███████████████████████████▌    | 1.3MB 12.9MB/s eta 0:00:01\r\u001b[K     |███████████████████████████▊    | 1.3MB 12.9MB/s eta 0:00:01\r\u001b[K     |████████████████████████████    | 1.4MB 12.9MB/s eta 0:00:01\r\u001b[K     |████████████████████████████▏   | 1.4MB 12.9MB/s eta 0:00:01\r\u001b[K     |████████████████████████████▍   | 1.4MB 12.9MB/s eta 0:00:01\r\u001b[K     |████████████████████████████▋   | 1.4MB 12.9MB/s eta 0:00:01\r\u001b[K     |████████████████████████████▉   | 1.4MB 12.9MB/s eta 0:00:01\r\u001b[K     |█████████████████████████████   | 1.4MB 12.9MB/s eta 0:00:01\r\u001b[K     |█████████████████████████████▎  | 1.4MB 12.9MB/s eta 0:00:01\r\u001b[K     |█████████████████████████████▍  | 1.4MB 12.9MB/s eta 0:00:01\r\u001b[K     |█████████████████████████████▋  | 1.4MB 12.9MB/s eta 0:00:01\r\u001b[K     |█████████████████████████████▉  | 1.4MB 12.9MB/s eta 0:00:01\r\u001b[K     |██████████████████████████████  | 1.5MB 12.9MB/s eta 0:00:01\r\u001b[K     |██████████████████████████████▎ | 1.5MB 12.9MB/s eta 0:00:01\r\u001b[K     |██████████████████████████████▌ | 1.5MB 12.9MB/s eta 0:00:01\r\u001b[K     |██████████████████████████████▊ | 1.5MB 12.9MB/s eta 0:00:01\r\u001b[K     |███████████████████████████████ | 1.5MB 12.9MB/s eta 0:00:01\r\u001b[K     |███████████████████████████████▏| 1.5MB 12.9MB/s eta 0:00:01\r\u001b[K     |███████████████████████████████▍| 1.5MB 12.9MB/s eta 0:00:01\r\u001b[K     |███████████████████████████████▋| 1.5MB 12.9MB/s eta 0:00:01\r\u001b[K     |███████████████████████████████▊| 1.5MB 12.9MB/s eta 0:00:01\r\u001b[K     |████████████████████████████████| 1.5MB 12.9MB/s eta 0:00:01\r\u001b[K     |████████████████████████████████| 1.6MB 12.9MB/s \n",
            "\u001b[?25hInstalling collected packages: pip\n",
            "  Found existing installation: pip 19.3.1\n",
            "    Uninstalling pip-19.3.1:\n",
            "      Successfully uninstalled pip-19.3.1\n",
            "Successfully installed pip-21.1\n",
            "\u001b[33mWARNING: Value for scheme.platlib does not match. Please report this to <https://github.com/pypa/pip/issues/9617>\n",
            "distutils: /usr/local/lib/python3.7/dist-packages\n",
            "sysconfig: /usr/lib/python3.7/site-packages\u001b[0m\n",
            "\u001b[33mWARNING: Value for scheme.purelib does not match. Please report this to <https://github.com/pypa/pip/issues/9617>\n",
            "distutils: /usr/local/lib/python3.7/dist-packages\n",
            "sysconfig: /usr/lib/python3.7/site-packages\u001b[0m\n",
            "\u001b[33mWARNING: Value for scheme.headers does not match. Please report this to <https://github.com/pypa/pip/issues/9617>\n",
            "distutils: /usr/local/include/python3.7/UNKNOWN\n",
            "sysconfig: /usr/include/python3.7m\u001b[0m\n",
            "\u001b[33mWARNING: Value for scheme.scripts does not match. Please report this to <https://github.com/pypa/pip/issues/9617>\n",
            "distutils: /usr/local/bin\n",
            "sysconfig: /usr/bin\u001b[0m\n",
            "\u001b[33mWARNING: Value for scheme.data does not match. Please report this to <https://github.com/pypa/pip/issues/9617>\n",
            "distutils: /usr/local\n",
            "sysconfig: /usr\u001b[0m\n",
            "\u001b[33mWARNING: Additional context:\n",
            "user = False\n",
            "home = None\n",
            "root = None\n",
            "prefix = None\u001b[0m\n",
            "\u001b[K     |████████████████████████████████| 4.0 MB 13.2 MB/s \n",
            "\u001b[?25h  Building wheel for qmcpy (setup.py) ... \u001b[?25l\u001b[?25hdone\n",
            "\u001b[33m  WARNING: Value for scheme.platlib does not match. Please report this to <https://github.com/pypa/pip/issues/9617>\n",
            "  distutils: /usr/local/lib/python3.7/dist-packages\n",
            "  sysconfig: /usr/lib/python3.7/site-packages\u001b[0m\n",
            "\u001b[33m  WARNING: Value for scheme.purelib does not match. Please report this to <https://github.com/pypa/pip/issues/9617>\n",
            "  distutils: /usr/local/lib/python3.7/dist-packages\n",
            "  sysconfig: /usr/lib/python3.7/site-packages\u001b[0m\n",
            "\u001b[33m  WARNING: Value for scheme.headers does not match. Please report this to <https://github.com/pypa/pip/issues/9617>\n",
            "  distutils: /usr/local/include/python3.7/qmcpy\n",
            "  sysconfig: /usr/include/python3.7m/qmcpy\u001b[0m\n",
            "\u001b[33m  WARNING: Value for scheme.scripts does not match. Please report this to <https://github.com/pypa/pip/issues/9617>\n",
            "  distutils: /usr/local/bin\n",
            "  sysconfig: /usr/bin\u001b[0m\n",
            "\u001b[33m  WARNING: Value for scheme.data does not match. Please report this to <https://github.com/pypa/pip/issues/9617>\n",
            "  distutils: /usr/local\n",
            "  sysconfig: /usr\u001b[0m\n",
            "\u001b[33m  WARNING: Additional context:\n",
            "  user = False\n",
            "  home = None\n",
            "  root = None\n",
            "  prefix = None\u001b[0m\n",
            "\u001b[33mWARNING: Value for scheme.platlib does not match. Please report this to <https://github.com/pypa/pip/issues/9617>\n",
            "distutils: /usr/local/lib/python3.7/dist-packages\n",
            "sysconfig: /usr/lib/python3.7/site-packages\u001b[0m\n",
            "\u001b[33mWARNING: Value for scheme.purelib does not match. Please report this to <https://github.com/pypa/pip/issues/9617>\n",
            "distutils: /usr/local/lib/python3.7/dist-packages\n",
            "sysconfig: /usr/lib/python3.7/site-packages\u001b[0m\n",
            "\u001b[33mWARNING: Value for scheme.headers does not match. Please report this to <https://github.com/pypa/pip/issues/9617>\n",
            "distutils: /usr/local/include/python3.7/UNKNOWN\n",
            "sysconfig: /usr/include/python3.7m\u001b[0m\n",
            "\u001b[33mWARNING: Value for scheme.scripts does not match. Please report this to <https://github.com/pypa/pip/issues/9617>\n",
            "distutils: /usr/local/bin\n",
            "sysconfig: /usr/bin\u001b[0m\n",
            "\u001b[33mWARNING: Value for scheme.data does not match. Please report this to <https://github.com/pypa/pip/issues/9617>\n",
            "distutils: /usr/local\n",
            "sysconfig: /usr\u001b[0m\n",
            "\u001b[33mWARNING: Additional context:\n",
            "user = False\n",
            "home = None\n",
            "root = None\n",
            "prefix = None\u001b[0m\n",
            "\u001b[33mWARNING: Running pip as root will break packages and permissions. You should install packages reliably by using venv: https://pip.pypa.io/warnings/venv\u001b[0m\n",
            "\u001b[33mWARNING: Value for scheme.platlib does not match. Please report this to <https://github.com/pypa/pip/issues/9617>\n",
            "distutils: /usr/local/lib/python3.7/dist-packages\n",
            "sysconfig: /usr/lib/python3.7/site-packages\u001b[0m\n",
            "\u001b[33mWARNING: Value for scheme.purelib does not match. Please report this to <https://github.com/pypa/pip/issues/9617>\n",
            "distutils: /usr/local/lib/python3.7/dist-packages\n",
            "sysconfig: /usr/lib/python3.7/site-packages\u001b[0m\n",
            "\u001b[33mWARNING: Value for scheme.headers does not match. Please report this to <https://github.com/pypa/pip/issues/9617>\n",
            "distutils: /usr/local/include/python3.7/UNKNOWN\n",
            "sysconfig: /usr/include/python3.7m\u001b[0m\n",
            "\u001b[33mWARNING: Value for scheme.scripts does not match. Please report this to <https://github.com/pypa/pip/issues/9617>\n",
            "distutils: /usr/local/bin\n",
            "sysconfig: /usr/bin\u001b[0m\n",
            "\u001b[33mWARNING: Value for scheme.data does not match. Please report this to <https://github.com/pypa/pip/issues/9617>\n",
            "distutils: /usr/local\n",
            "sysconfig: /usr\u001b[0m\n",
            "\u001b[33mWARNING: Additional context:\n",
            "user = False\n",
            "home = None\n",
            "root = None\n",
            "prefix = None\u001b[0m\n",
            "\u001b[33m  WARNING: Value for scheme.platlib does not match. Please report this to <https://github.com/pypa/pip/issues/9617>\n",
            "  distutils: /usr/local/lib/python3.7/dist-packages\n",
            "  sysconfig: /usr/lib/python3.7/site-packages\u001b[0m\n",
            "\u001b[33m  WARNING: Value for scheme.purelib does not match. Please report this to <https://github.com/pypa/pip/issues/9617>\n",
            "  distutils: /usr/local/lib/python3.7/dist-packages\n",
            "  sysconfig: /usr/lib/python3.7/site-packages\u001b[0m\n",
            "\u001b[33m  WARNING: Value for scheme.headers does not match. Please report this to <https://github.com/pypa/pip/issues/9617>\n",
            "  distutils: /usr/local/include/python3.7/pytictoc\n",
            "  sysconfig: /usr/include/python3.7m/pytictoc\u001b[0m\n",
            "\u001b[33m  WARNING: Value for scheme.scripts does not match. Please report this to <https://github.com/pypa/pip/issues/9617>\n",
            "  distutils: /usr/local/bin\n",
            "  sysconfig: /usr/bin\u001b[0m\n",
            "\u001b[33m  WARNING: Value for scheme.data does not match. Please report this to <https://github.com/pypa/pip/issues/9617>\n",
            "  distutils: /usr/local\n",
            "  sysconfig: /usr\u001b[0m\n",
            "\u001b[33m  WARNING: Additional context:\n",
            "  user = False\n",
            "  home = None\n",
            "  root = None\n",
            "  prefix = None\u001b[0m\n",
            "\u001b[33mWARNING: Value for scheme.platlib does not match. Please report this to <https://github.com/pypa/pip/issues/9617>\n",
            "distutils: /usr/local/lib/python3.7/dist-packages\n",
            "sysconfig: /usr/lib/python3.7/site-packages\u001b[0m\n",
            "\u001b[33mWARNING: Value for scheme.purelib does not match. Please report this to <https://github.com/pypa/pip/issues/9617>\n",
            "distutils: /usr/local/lib/python3.7/dist-packages\n",
            "sysconfig: /usr/lib/python3.7/site-packages\u001b[0m\n",
            "\u001b[33mWARNING: Value for scheme.headers does not match. Please report this to <https://github.com/pypa/pip/issues/9617>\n",
            "distutils: /usr/local/include/python3.7/UNKNOWN\n",
            "sysconfig: /usr/include/python3.7m\u001b[0m\n",
            "\u001b[33mWARNING: Value for scheme.scripts does not match. Please report this to <https://github.com/pypa/pip/issues/9617>\n",
            "distutils: /usr/local/bin\n",
            "sysconfig: /usr/bin\u001b[0m\n",
            "\u001b[33mWARNING: Value for scheme.data does not match. Please report this to <https://github.com/pypa/pip/issues/9617>\n",
            "distutils: /usr/local\n",
            "sysconfig: /usr\u001b[0m\n",
            "\u001b[33mWARNING: Additional context:\n",
            "user = False\n",
            "home = None\n",
            "root = None\n",
            "prefix = None\u001b[0m\n",
            "\u001b[33mWARNING: Running pip as root will break packages and permissions. You should install packages reliably by using venv: https://pip.pypa.io/warnings/venv\u001b[0m\n",
            "\u001b[33mWARNING: Value for scheme.platlib does not match. Please report this to <https://github.com/pypa/pip/issues/9617>\n",
            "distutils: /usr/local/lib/python3.7/dist-packages\n",
            "sysconfig: /usr/lib/python3.7/site-packages\u001b[0m\n",
            "\u001b[33mWARNING: Value for scheme.purelib does not match. Please report this to <https://github.com/pypa/pip/issues/9617>\n",
            "distutils: /usr/local/lib/python3.7/dist-packages\n",
            "sysconfig: /usr/lib/python3.7/site-packages\u001b[0m\n",
            "\u001b[33mWARNING: Value for scheme.headers does not match. Please report this to <https://github.com/pypa/pip/issues/9617>\n",
            "distutils: /usr/local/include/python3.7/UNKNOWN\n",
            "sysconfig: /usr/include/python3.7m\u001b[0m\n",
            "\u001b[33mWARNING: Value for scheme.scripts does not match. Please report this to <https://github.com/pypa/pip/issues/9617>\n",
            "distutils: /usr/local/bin\n",
            "sysconfig: /usr/bin\u001b[0m\n",
            "\u001b[33mWARNING: Value for scheme.data does not match. Please report this to <https://github.com/pypa/pip/issues/9617>\n",
            "distutils: /usr/local\n",
            "sysconfig: /usr\u001b[0m\n",
            "\u001b[33mWARNING: Additional context:\n",
            "user = False\n",
            "home = None\n",
            "root = None\n",
            "prefix = None\u001b[0m\n",
            "\u001b[K     |████████████████████████████████| 430 kB 14.0 MB/s \n",
            "\u001b[33m  WARNING: Value for scheme.platlib does not match. Please report this to <https://github.com/pypa/pip/issues/9617>\n",
            "  distutils: /usr/local/lib/python3.7/dist-packages\n",
            "  sysconfig: /usr/lib/python3.7/site-packages\u001b[0m\n",
            "\u001b[33m  WARNING: Value for scheme.purelib does not match. Please report this to <https://github.com/pypa/pip/issues/9617>\n",
            "  distutils: /usr/local/lib/python3.7/dist-packages\n",
            "  sysconfig: /usr/lib/python3.7/site-packages\u001b[0m\n",
            "\u001b[33m  WARNING: Value for scheme.headers does not match. Please report this to <https://github.com/pypa/pip/issues/9617>\n",
            "  distutils: /usr/local/include/python3.7/POT\n",
            "  sysconfig: /usr/include/python3.7m/POT\u001b[0m\n",
            "\u001b[33m  WARNING: Value for scheme.scripts does not match. Please report this to <https://github.com/pypa/pip/issues/9617>\n",
            "  distutils: /usr/local/bin\n",
            "  sysconfig: /usr/bin\u001b[0m\n",
            "\u001b[33m  WARNING: Value for scheme.data does not match. Please report this to <https://github.com/pypa/pip/issues/9617>\n",
            "  distutils: /usr/local\n",
            "  sysconfig: /usr\u001b[0m\n",
            "\u001b[33m  WARNING: Additional context:\n",
            "  user = False\n",
            "  home = None\n",
            "  root = None\n",
            "  prefix = None\u001b[0m\n",
            "\u001b[33mWARNING: Value for scheme.platlib does not match. Please report this to <https://github.com/pypa/pip/issues/9617>\n",
            "distutils: /usr/local/lib/python3.7/dist-packages\n",
            "sysconfig: /usr/lib/python3.7/site-packages\u001b[0m\n",
            "\u001b[33mWARNING: Value for scheme.purelib does not match. Please report this to <https://github.com/pypa/pip/issues/9617>\n",
            "distutils: /usr/local/lib/python3.7/dist-packages\n",
            "sysconfig: /usr/lib/python3.7/site-packages\u001b[0m\n",
            "\u001b[33mWARNING: Value for scheme.headers does not match. Please report this to <https://github.com/pypa/pip/issues/9617>\n",
            "distutils: /usr/local/include/python3.7/UNKNOWN\n",
            "sysconfig: /usr/include/python3.7m\u001b[0m\n",
            "\u001b[33mWARNING: Value for scheme.scripts does not match. Please report this to <https://github.com/pypa/pip/issues/9617>\n",
            "distutils: /usr/local/bin\n",
            "sysconfig: /usr/bin\u001b[0m\n",
            "\u001b[33mWARNING: Value for scheme.data does not match. Please report this to <https://github.com/pypa/pip/issues/9617>\n",
            "distutils: /usr/local\n",
            "sysconfig: /usr\u001b[0m\n",
            "\u001b[33mWARNING: Additional context:\n",
            "user = False\n",
            "home = None\n",
            "root = None\n",
            "prefix = None\u001b[0m\n",
            "\u001b[33mWARNING: Running pip as root will break packages and permissions. You should install packages reliably by using venv: https://pip.pypa.io/warnings/venv\u001b[0m\n",
            "\u001b[?25h"
          ],
          "name": "stdout"
        }
      ]
    },
    {
      "cell_type": "markdown",
      "metadata": {
        "id": "BnrYr27imebu"
      },
      "source": [
        "Set path for saving the results (adjust if necessary):"
      ]
    },
    {
      "cell_type": "code",
      "metadata": {
        "id": "1jAap2wimiYe"
      },
      "source": [
        "path = '/content/drive/My Drive/Colab Notebooks/Paper/Inference/'"
      ],
      "execution_count": null,
      "outputs": []
    },
    {
      "cell_type": "markdown",
      "metadata": {
        "id": "QJ27l7qq76LI"
      },
      "source": [
        "## Sinkhorn divergence convergence for varying $n$"
      ]
    },
    {
      "cell_type": "code",
      "metadata": {
        "id": "9l-c34P160eQ"
      },
      "source": [
        "np.random.seed(11)"
      ],
      "execution_count": null,
      "outputs": []
    },
    {
      "cell_type": "markdown",
      "metadata": {
        "id": "h8NS5lkg64lx"
      },
      "source": [
        "Set parameters:"
      ]
    },
    {
      "cell_type": "code",
      "metadata": {
        "id": "62mV95-_63ov"
      },
      "source": [
        "n = [ 2**j for j in range(3,14) ]          # number of simulated samples - powers of 2\n",
        "num = 25                                   # numbers of repetitions for MC and RQMC\n",
        "theta = np.array([3,1,1,-np.log(2),0.1])   # true theta\n",
        "d = 1                                      # dimensions of data\n",
        "p = theta.shape[0]                         # dimensions of parameter space\n",
        "e = 5*d                                    # parameter for Sinkhorn divergence\n",
        "inv = True                                 # True: use inverse transform, False: use Box-Muller transform\n",
        "method = 'sinkhorn_stabilized'             # 'sinkhorn' or 'sinkhorn_stabilized' or 'sinkhorn_epsilon_scaling'\n",
        "cost = 'sqeuclidean'                       # distance used for ground cost ('euclidean', 'sqeuclidean',‘minkowski’ or ‘cityblock’)"
      ],
      "execution_count": null,
      "outputs": []
    },
    {
      "cell_type": "markdown",
      "metadata": {
        "id": "981kzzXW_ial"
      },
      "source": [
        "Define the QMC sequence:"
      ]
    },
    {
      "cell_type": "code",
      "metadata": {
        "id": "PlbLuNMm_frv"
      },
      "source": [
        "if inv:\n",
        "  qmc = qmcpy.Halton(d)\n",
        "else:  \n",
        "  qmc = qmcpy.Halton(d+1)"
      ],
      "execution_count": null,
      "outputs": []
    },
    {
      "cell_type": "markdown",
      "metadata": {
        "id": "Kt4rY5gj8NcW"
      },
      "source": [
        "Calculate Sinkhorn divergencee for varying $n$:"
      ]
    },
    {
      "cell_type": "code",
      "metadata": {
        "colab": {
          "base_uri": "https://localhost:8080/"
        },
        "id": "JZEo0ov48AJm",
        "outputId": "8e450a77-2554-4731-fe44-af3a064bed8a"
      },
      "source": [
        "if inv:\n",
        "  sink_mc,sink_qmc,sink_rqmc,sink_min_mc,sink_max_mc,sink_min_rqmc,sink_max_rqmc = sink_conv_inv('mvgandk',n,num,d,e,theta,s=2, method=method,cost=cost)\n",
        "else:\n",
        "  sink_mc,sink_qmc,sink_rqmc,sink_min_mc,sink_max_mc,sink_min_rqmc,sink_max_rqmc = sink_conv('mvgandk',n,num,d,e,theta,s=2, method=method,cost=cost)"
      ],
      "execution_count": null,
      "outputs": [
        {
          "output_type": "stream",
          "text": [
            "WARNING:absl:No GPU/TPU found, falling back to CPU. (Set TF_CPP_MIN_LOG_LEVEL=0 and rerun for more info.)\n"
          ],
          "name": "stderr"
        },
        {
          "output_type": "stream",
          "text": [
            "sample size:  8\n",
            "sample size:  16\n",
            "sample size:  32\n",
            "sample size:  64\n",
            "sample size:  128\n",
            "sample size:  256\n",
            "sample size:  512\n",
            "sample size:  1024\n",
            "sample size:  2048\n",
            "sample size:  4096\n",
            "sample size:  8192\n"
          ],
          "name": "stdout"
        },
        {
          "output_type": "stream",
          "text": [
            "/usr/local/lib/python3.7/dist-packages/ipykernel_launcher.py:55\n",
            "\tVisibleDeprecationWarning: Creating an ndarray from ragged nested sequences (which is a list-or-tuple of lists-or-tuples-or ndarrays with different lengths or shapes) is deprecated. If you meant to do this, you must specify 'dtype=object' when creating the ndarray\n",
            "/usr/local/lib/python3.7/dist-packages/ipykernel_launcher.py:60\n",
            "\tVisibleDeprecationWarning: Creating an ndarray from ragged nested sequences (which is a list-or-tuple of lists-or-tuples-or ndarrays with different lengths or shapes) is deprecated. If you meant to do this, you must specify 'dtype=object' when creating the ndarray\n",
            "/usr/local/lib/python3.7/dist-packages/ipykernel_launcher.py:61\n",
            "\tVisibleDeprecationWarning: Creating an ndarray from ragged nested sequences (which is a list-or-tuple of lists-or-tuples-or ndarrays with different lengths or shapes) is deprecated. If you meant to do this, you must specify 'dtype=object' when creating the ndarray\n"
          ],
          "name": "stderr"
        }
      ]
    },
    {
      "cell_type": "markdown",
      "metadata": {
        "id": "u_4KSvZw8UYi"
      },
      "source": [
        "Plot the Sinkhorn divergence against $n$:"
      ]
    },
    {
      "cell_type": "code",
      "metadata": {
        "id": "QPxnORlu8Y56",
        "colab": {
          "base_uri": "https://localhost:8080/",
          "height": 684
        },
        "outputId": "978481fd-e7d6-4ba2-e455-7dfd0f7ebc9e"
      },
      "source": [
        "plot_sink_conv(d,(16,8),sink_mc,sink_qmc,sink_rqmc,'MC','QMC','RQMC',sink_min_mc,sink_max_mc,sink_min_rqmc,sink_max_rqmc)"
      ],
      "execution_count": null,
      "outputs": [
        {
          "output_type": "stream",
          "text": [
            "/usr/local/lib/python3.7/dist-packages/ipykernel_launcher.py:7\n",
            "\tVisibleDeprecationWarning: Creating an ndarray from ragged nested sequences (which is a list-or-tuple of lists-or-tuples-or ndarrays with different lengths or shapes) is deprecated. If you meant to do this, you must specify 'dtype=object' when creating the ndarray\n",
            "/usr/local/lib/python3.7/dist-packages/ipykernel_launcher.py:9\n",
            "\tVisibleDeprecationWarning: Creating an ndarray from ragged nested sequences (which is a list-or-tuple of lists-or-tuples-or ndarrays with different lengths or shapes) is deprecated. If you meant to do this, you must specify 'dtype=object' when creating the ndarray\n",
            "/usr/local/lib/python3.7/dist-packages/numpy/core/_asarray.py:83\n",
            "\tVisibleDeprecationWarning: Creating an ndarray from ragged nested sequences (which is a list-or-tuple of lists-or-tuples-or ndarrays with different lengths or shapes) is deprecated. If you meant to do this, you must specify 'dtype=object' when creating the ndarray\n"
          ],
          "name": "stderr"
        },
        {
          "output_type": "display_data",
          "data": {
            "image/png": "[encoded data removed]",
            "text/plain": [
              "<Figure size 1152x576 with 1 Axes>"
            ]
          },
          "metadata": {
            "tags": [],
            "needs_background": "light"
          }
        }
      ]
    },
    {
      "cell_type": "code",
      "metadata": {
        "id": "7JC4KSXTmf1b",
        "colab": {
          "base_uri": "https://localhost:8080/"
        },
        "outputId": "dc8e1153-6b41-4097-c3ca-54dca12a0950"
      },
      "source": [
        "np.savez(path+\"mvgandk_sink_n_d=%s_%s.npz\" %(d,cost), sink_mc=sink_mc,sink_min_mc=sink_min_mc,sink_max_mc=sink_max_mc,sink_rqmc=sink_rqmc,sink_min_rqmc=sink_min_rqmc,sink_max_rqmc=sink_max_rqmc,sink_qmc=sink_qmc)"
      ],
      "execution_count": null,
      "outputs": [
        {
          "output_type": "stream",
          "text": [
            "/usr/local/lib/python3.7/dist-packages/numpy/core/_asarray.py:136\n",
            "\tVisibleDeprecationWarning: Creating an ndarray from ragged nested sequences (which is a list-or-tuple of lists-or-tuples-or ndarrays with different lengths or shapes) is deprecated. If you meant to do this, you must specify 'dtype=object' when creating the ndarray\n"
          ],
          "name": "stderr"
        }
      ]
    },
    {
      "cell_type": "markdown",
      "metadata": {
        "id": "YWLQ7CseoIwf"
      },
      "source": [
        "## Sinkhorn divergence for varying $d$"
      ]
    },
    {
      "cell_type": "markdown",
      "metadata": {
        "id": "spbypZwHm7xO"
      },
      "source": [
        "Calculate Sinkhorn divergence for varying $d$:"
      ]
    },
    {
      "cell_type": "code",
      "metadata": {
        "id": "7JIjVacTnE6w"
      },
      "source": [
        "np.random.seed(11)"
      ],
      "execution_count": null,
      "outputs": []
    },
    {
      "cell_type": "code",
      "metadata": {
        "id": "JddDt093nI45"
      },
      "source": [
        "n = 2**12                                   # number of simulated samples\n",
        "d = [1,5,10,15,20,25,50,75,100,150,200,300] # dimensions of data\n",
        "num = 25                                    # numbers of repetitions for MC and RQMC\n",
        "theta = np.array([3,1,1,-np.log(2),0.1])    # true theta\n",
        "p = theta.shape[0]                          # dimensions of parameter space\n",
        "e = 5                                       # parameter for Sinkhorn divergence\n",
        "inv = True                                  # True: use inverse transform, False: use Box-Muller transform\n",
        "eadapt = True                               # True: e is proportional to d\n",
        "method = 'sinkhorn_stabilized'              # 'sinkhorn' or 'sinkhorn_stabilized' or 'sinkhorn_epsilon_scaling'\n",
        "cost = 'sqeuclidean'                         # distance used for ground cost ('euclidean', 'sqeuclidean',‘minkowski’ or ‘cityblock’)"
      ],
      "execution_count": null,
      "outputs": []
    },
    {
      "cell_type": "markdown",
      "metadata": {
        "id": "VGLTyb3nn6a0"
      },
      "source": [
        "Define the QMC sequence:"
      ]
    },
    {
      "cell_type": "code",
      "metadata": {
        "id": "ZVGHlL9bn6bG"
      },
      "source": [
        "if inv:\n",
        "  qmc = qmcpy.Halton(np.max(d))\n",
        "else:  \n",
        "  qmc = qmcpy.Halton(np.max(d)+1)"
      ],
      "execution_count": null,
      "outputs": []
    },
    {
      "cell_type": "markdown",
      "metadata": {
        "id": "kA5ZLlYYoCqZ"
      },
      "source": [
        "Calculate Sinkhorn divergence for varying $d$:"
      ]
    },
    {
      "cell_type": "code",
      "metadata": {
        "id": "xtwq5ac8oHDR"
      },
      "source": [
        "if inv:\n",
        "  sink_mc,sink_qmc,sink_rqmc,sink_min_mc,sink_max_mc,sink_min_rqmc,sink_max_rqmc = sink_conv_inv_d('mvgandk',n,num,d,e,theta,s=2,eadapt=eadapt,method=method,cost=cost)\n",
        "else:\n",
        "  sink_mc,sink_qmc,sink_rqmc,sink_min_mc,sink_max_mc,sink_min_rqmc,sink_max_rqmc = sink_conv_d('mvgandk',n,num,d,e,theta,s=2,eadapt=eadapt,method=method,cost=cost)"
      ],
      "execution_count": null,
      "outputs": []
    },
    {
      "cell_type": "markdown",
      "metadata": {
        "id": "lwEeCtKeoN4u"
      },
      "source": [
        "Plot Sinkhorn divergence for varying $d$:"
      ]
    },
    {
      "cell_type": "code",
      "metadata": {
        "id": "A0nWCd8poLZl"
      },
      "source": [
        "plot_sink_conv_d(d,(16,8),sink_mc,sink_qmc,sink_rqmc,'MC','QMC','RQMC',sink_min_mc,sink_max_mc,sink_min_rqmc,sink_max_rqmc)"
      ],
      "execution_count": null,
      "outputs": []
    },
    {
      "cell_type": "code",
      "metadata": {
        "id": "5mqITXO9oca2"
      },
      "source": [
        "np.savez(path+\"mvgandk_sink_d_n=8192_%s.npz\" %cost, sink_mc=sink_mc,sink_min_mc=sink_min_mc,sink_max_mc=sink_max_mc,sink_rqmc=sink_rqmc,sink_min_rqmc=sink_min_rqmc,sink_max_rqmc=sink_max_rqmc,sink_qmc=sink_qmc)"
      ],
      "execution_count": null,
      "outputs": []
    }
  ]
}