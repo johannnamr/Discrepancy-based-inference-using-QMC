{
  "nbformat": 4,
  "nbformat_minor": 0,
  "metadata": {
    "colab": {
      "name": "vae_times.ipynb",
      "provenance": [],
      "collapsed_sections": [],
      "machine_shape": "hm",
      "authorship_tag": "ABX9TyMeZG2QwW7oV1MgW5Pbinbz",
      "include_colab_link": true
    },
    "kernelspec": {
      "name": "python3",
      "display_name": "Python 3"
    },
    "language_info": {
      "name": "python"
    },
    "accelerator": "GPU"
  },
  "cells": [
    {
      "cell_type": "markdown",
      "metadata": {
        "id": "view-in-github",
        "colab_type": "text"
      },
      "source": [
        "<a href=\"https://colab.research.google.com/github/johannnamr/Discrepancy-based-inference-using-QMC/blob/main/Inference/VAE/vae_times.ipynb\" target=\"_parent\"><img src=\"https://colab.research.google.com/assets/colab-badge.svg\" alt=\"Open In Colab\"/></a>"
      ]
    },
    {
      "cell_type": "markdown",
      "metadata": {
        "id": "cplPVklkvTHX"
      },
      "source": [
        "# Sampling from a VAE using MC and RQMC\n",
        "\n",
        "Notebook comparing the computational time needed for sampling from a VAE using MC and RQMC"
      ]
    },
    {
      "cell_type": "markdown",
      "metadata": {
        "id": "QDG0HORGvoZk"
      },
      "source": [
        "## Mount drive"
      ]
    },
    {
      "cell_type": "code",
      "metadata": {
        "colab": {
          "base_uri": "https://localhost:8080/"
        },
        "id": "V6VUXJc7vu9c",
        "outputId": "b8d240e4-9045-484b-8ea9-650ed491d36b"
      },
      "source": [
        "# mount my drive\n",
        "from google.colab import drive\n",
        "drive.mount(\"/content/drive\")"
      ],
      "execution_count": 1,
      "outputs": [
        {
          "output_type": "stream",
          "name": "stdout",
          "text": [
            "Mounted at /content/drive\n"
          ]
        }
      ]
    },
    {
      "cell_type": "markdown",
      "metadata": {
        "id": "BnrYr27imebu"
      },
      "source": [
        "Set path for saving the results (adjust if necessary):"
      ]
    },
    {
      "cell_type": "code",
      "metadata": {
        "id": "1jAap2wimiYe"
      },
      "source": [
        "path = '/content/drive/My Drive/Colab Notebooks/Paper/Inference/'"
      ],
      "execution_count": 2,
      "outputs": []
    },
    {
      "cell_type": "markdown",
      "metadata": {
        "id": "1TxiAHFXvmTC"
      },
      "source": [
        "## Imports"
      ]
    },
    {
      "cell_type": "code",
      "metadata": {
        "colab": {
          "base_uri": "https://localhost:8080/"
        },
        "id": "EwR_kUqzvLuT",
        "outputId": "735b8057-e925-4502-9670-ff77df6302dd"
      },
      "source": [
        "! pip install tensorflow==1.15.0\n",
        "! pip install --upgrade scipy # update scipy to latest version"
      ],
      "execution_count": 3,
      "outputs": [
        {
          "output_type": "stream",
          "name": "stdout",
          "text": [
            "Collecting tensorflow==1.15.0\n",
            "  Downloading tensorflow-1.15.0-cp37-cp37m-manylinux2010_x86_64.whl (412.3 MB)\n",
            "\u001b[K     |████████████████████████████████| 412.3 MB 23 kB/s \n",
            "\u001b[?25hRequirement already satisfied: wrapt>=1.11.1 in /usr/local/lib/python3.7/dist-packages (from tensorflow==1.15.0) (1.14.0)\n",
            "Requirement already satisfied: six>=1.10.0 in /usr/local/lib/python3.7/dist-packages (from tensorflow==1.15.0) (1.15.0)\n",
            "Collecting gast==0.2.2\n",
            "  Downloading gast-0.2.2.tar.gz (10 kB)\n",
            "Requirement already satisfied: keras-preprocessing>=1.0.5 in /usr/local/lib/python3.7/dist-packages (from tensorflow==1.15.0) (1.1.2)\n",
            "Requirement already satisfied: absl-py>=0.7.0 in /usr/local/lib/python3.7/dist-packages (from tensorflow==1.15.0) (1.0.0)\n",
            "Requirement already satisfied: protobuf>=3.6.1 in /usr/local/lib/python3.7/dist-packages (from tensorflow==1.15.0) (3.17.3)\n",
            "Requirement already satisfied: astor>=0.6.0 in /usr/local/lib/python3.7/dist-packages (from tensorflow==1.15.0) (0.8.1)\n",
            "Requirement already satisfied: numpy<2.0,>=1.16.0 in /usr/local/lib/python3.7/dist-packages (from tensorflow==1.15.0) (1.21.5)\n",
            "Requirement already satisfied: termcolor>=1.1.0 in /usr/local/lib/python3.7/dist-packages (from tensorflow==1.15.0) (1.1.0)\n",
            "Collecting keras-applications>=1.0.8\n",
            "  Downloading Keras_Applications-1.0.8-py3-none-any.whl (50 kB)\n",
            "\u001b[K     |████████████████████████████████| 50 kB 7.9 MB/s \n",
            "\u001b[?25hCollecting tensorboard<1.16.0,>=1.15.0\n",
            "  Downloading tensorboard-1.15.0-py3-none-any.whl (3.8 MB)\n",
            "\u001b[K     |████████████████████████████████| 3.8 MB 72.1 MB/s \n",
            "\u001b[?25hCollecting tensorflow-estimator==1.15.1\n",
            "  Downloading tensorflow_estimator-1.15.1-py2.py3-none-any.whl (503 kB)\n",
            "\u001b[K     |████████████████████████████████| 503 kB 76.4 MB/s \n",
            "\u001b[?25hRequirement already satisfied: google-pasta>=0.1.6 in /usr/local/lib/python3.7/dist-packages (from tensorflow==1.15.0) (0.2.0)\n",
            "Requirement already satisfied: grpcio>=1.8.6 in /usr/local/lib/python3.7/dist-packages (from tensorflow==1.15.0) (1.44.0)\n",
            "Requirement already satisfied: wheel>=0.26 in /usr/local/lib/python3.7/dist-packages (from tensorflow==1.15.0) (0.37.1)\n",
            "Requirement already satisfied: opt-einsum>=2.3.2 in /usr/local/lib/python3.7/dist-packages (from tensorflow==1.15.0) (3.3.0)\n",
            "Requirement already satisfied: h5py in /usr/local/lib/python3.7/dist-packages (from keras-applications>=1.0.8->tensorflow==1.15.0) (3.1.0)\n",
            "Requirement already satisfied: setuptools>=41.0.0 in /usr/local/lib/python3.7/dist-packages (from tensorboard<1.16.0,>=1.15.0->tensorflow==1.15.0) (57.4.0)\n",
            "Requirement already satisfied: werkzeug>=0.11.15 in /usr/local/lib/python3.7/dist-packages (from tensorboard<1.16.0,>=1.15.0->tensorflow==1.15.0) (1.0.1)\n",
            "Requirement already satisfied: markdown>=2.6.8 in /usr/local/lib/python3.7/dist-packages (from tensorboard<1.16.0,>=1.15.0->tensorflow==1.15.0) (3.3.6)\n",
            "Requirement already satisfied: importlib-metadata>=4.4 in /usr/local/lib/python3.7/dist-packages (from markdown>=2.6.8->tensorboard<1.16.0,>=1.15.0->tensorflow==1.15.0) (4.11.3)\n",
            "Requirement already satisfied: zipp>=0.5 in /usr/local/lib/python3.7/dist-packages (from importlib-metadata>=4.4->markdown>=2.6.8->tensorboard<1.16.0,>=1.15.0->tensorflow==1.15.0) (3.7.0)\n",
            "Requirement already satisfied: typing-extensions>=3.6.4 in /usr/local/lib/python3.7/dist-packages (from importlib-metadata>=4.4->markdown>=2.6.8->tensorboard<1.16.0,>=1.15.0->tensorflow==1.15.0) (3.10.0.2)\n",
            "Requirement already satisfied: cached-property in /usr/local/lib/python3.7/dist-packages (from h5py->keras-applications>=1.0.8->tensorflow==1.15.0) (1.5.2)\n",
            "Building wheels for collected packages: gast\n",
            "  Building wheel for gast (setup.py) ... \u001b[?25l\u001b[?25hdone\n",
            "  Created wheel for gast: filename=gast-0.2.2-py3-none-any.whl size=7554 sha256=a390c2e7eaaaacb577e704c142a35a9d4330f0fa1c69b27dc0eea7888fbad4ce\n",
            "  Stored in directory: /root/.cache/pip/wheels/21/7f/02/420f32a803f7d0967b48dd823da3f558c5166991bfd204eef3\n",
            "Successfully built gast\n",
            "Installing collected packages: tensorflow-estimator, tensorboard, keras-applications, gast, tensorflow\n",
            "  Attempting uninstall: tensorflow-estimator\n",
            "    Found existing installation: tensorflow-estimator 2.8.0\n",
            "    Uninstalling tensorflow-estimator-2.8.0:\n",
            "      Successfully uninstalled tensorflow-estimator-2.8.0\n",
            "  Attempting uninstall: tensorboard\n",
            "    Found existing installation: tensorboard 2.8.0\n",
            "    Uninstalling tensorboard-2.8.0:\n",
            "      Successfully uninstalled tensorboard-2.8.0\n",
            "  Attempting uninstall: gast\n",
            "    Found existing installation: gast 0.5.3\n",
            "    Uninstalling gast-0.5.3:\n",
            "      Successfully uninstalled gast-0.5.3\n",
            "  Attempting uninstall: tensorflow\n",
            "    Found existing installation: tensorflow 2.8.0\n",
            "    Uninstalling tensorflow-2.8.0:\n",
            "      Successfully uninstalled tensorflow-2.8.0\n",
            "\u001b[31mERROR: pip's dependency resolver does not currently take into account all the packages that are installed. This behaviour is the source of the following dependency conflicts.\n",
            "tensorflow-probability 0.16.0 requires gast>=0.3.2, but you have gast 0.2.2 which is incompatible.\n",
            "kapre 0.3.7 requires tensorflow>=2.0.0, but you have tensorflow 1.15.0 which is incompatible.\u001b[0m\n",
            "Successfully installed gast-0.2.2 keras-applications-1.0.8 tensorboard-1.15.0 tensorflow-1.15.0 tensorflow-estimator-1.15.1\n",
            "Requirement already satisfied: scipy in /usr/local/lib/python3.7/dist-packages (1.4.1)\n",
            "Collecting scipy\n",
            "  Downloading scipy-1.7.3-cp37-cp37m-manylinux_2_12_x86_64.manylinux2010_x86_64.whl (38.1 MB)\n",
            "\u001b[K     |████████████████████████████████| 38.1 MB 1.4 MB/s \n",
            "\u001b[?25hRequirement already satisfied: numpy<1.23.0,>=1.16.5 in /usr/local/lib/python3.7/dist-packages (from scipy) (1.21.5)\n",
            "Installing collected packages: scipy\n",
            "  Attempting uninstall: scipy\n",
            "    Found existing installation: scipy 1.4.1\n",
            "    Uninstalling scipy-1.4.1:\n",
            "      Successfully uninstalled scipy-1.4.1\n",
            "\u001b[31mERROR: pip's dependency resolver does not currently take into account all the packages that are installed. This behaviour is the source of the following dependency conflicts.\n",
            "kapre 0.3.7 requires tensorflow>=2.0.0, but you have tensorflow 1.15.0 which is incompatible.\n",
            "albumentations 0.1.12 requires imgaug<0.2.7,>=0.2.5, but you have imgaug 0.2.9 which is incompatible.\u001b[0m\n",
            "Successfully installed scipy-1.7.3\n"
          ]
        }
      ]
    },
    {
      "cell_type": "code",
      "metadata": {
        "id": "0EWZWCs0v78x"
      },
      "source": [
        "import time\n",
        "import numpy as np\n",
        "import tensorflow as tf\n",
        "from scipy.stats import qmc\n",
        "import matplotlib.pyplot as plt"
      ],
      "execution_count": 4,
      "outputs": []
    },
    {
      "cell_type": "markdown",
      "metadata": {
        "id": "2XfT1HfUjiP0"
      },
      "source": [
        "## Parameters"
      ]
    },
    {
      "cell_type": "code",
      "metadata": {
        "id": "OMAo8_TBnq4q"
      },
      "source": [
        "np.random.seed(11)"
      ],
      "execution_count": 5,
      "outputs": []
    },
    {
      "cell_type": "markdown",
      "metadata": {
        "id": "2ARTAhZdph7r"
      },
      "source": [
        "Set parameters:"
      ]
    },
    {
      "cell_type": "code",
      "metadata": {
        "id": "luwU-LOpjkfT"
      },
      "source": [
        "n = [ 2**j for j in range(4,20) ]         # sample size                              \n",
        "num = 500                                # numbers of repetitions for MC and RQMC\n",
        "seed = 3                                  # seed\n",
        "runall = False                             # True: run all simulations, False: load saved simulations"
      ],
      "execution_count": 6,
      "outputs": []
    },
    {
      "cell_type": "markdown",
      "metadata": {
        "id": "5hAPGI1ytJy7"
      },
      "source": [
        "## Define useful functions"
      ]
    },
    {
      "cell_type": "code",
      "metadata": {
        "id": "4XQN-2yVWwrB"
      },
      "source": [
        "# define some useful functions\n",
        "\n",
        "def init_xavier(n_in,n_out):\n",
        "    '''Create a convolution filter variable with the specified name and shape,\n",
        "    and initialize it using Xavier initialition.'''\n",
        "    initializer = tf.contrib.layers.xavier_initializer()\n",
        "    variable = tf.Variable(initializer(shape=[n_in,n_out]))\n",
        "    return variable\n",
        "\n",
        "def cost_mat(X,Y,N,M):\n",
        "    XX = tf.reduce_sum(tf.multiply(X,X),axis=1)\n",
        "    YY = tf.reduce_sum(tf.multiply(Y,Y),axis=1)\n",
        "    C1 = tf.transpose(tf.reshape(tf.tile(XX,[M]),[M,N]))\n",
        "    C2 = tf.reshape(tf.tile(YY,[N]),[N,M])\n",
        "    C3 = tf.transpose(tf.matmul(Y,tf.transpose(X)))\n",
        "    C = C1 + C2 - 2*C3;\n",
        "    return C\n",
        "\n",
        "def K_tild(u,v,C,N,M,epsilon):\n",
        "    C_tild = C - tf.transpose(tf.reshape(tf.tile(u[:,0],[M]),[M,N])) - tf.reshape(tf.tile(v[:,0],[N]),[N,M])\n",
        "    K_tild = tf.exp(-C_tild/epsilon)\n",
        "    return K_tild\n",
        "\n",
        "def sinkhorn_step_log(j,u,v,C, N,M,epsilon,Lambda = 1):\n",
        "    mu = tf.cast(1/N, tf.float32)\n",
        "    nu = tf.cast(1/M, tf.float32)\n",
        "    Ku = tf.reshape( tf.reduce_sum(K_tild(u,v,C,N,M,epsilon),axis = 1) ,[N,1] )\n",
        "    u = Lambda * ( epsilon*(tf.log(mu) - tf.log(Ku +10**(-6))) + u )\n",
        "    Kv = tf.reshape( tf.reduce_sum(K_tild(u,v,C,N,M,epsilon),axis = 0), [M,1] )\n",
        "    v = Lambda * ( epsilon*(tf.log(nu) - tf.log(Kv +10**(-6))) + v )\n",
        "    j += 1\n",
        "    return j,u,v,C,N,M,epsilon\n",
        "\n",
        "def sinkhorn_loss(X,Y):\n",
        "    epsilon = tf.constant(1.) # smoothing sinkhorn\n",
        "    Lambda = tf.constant(1.) # unbalanced parameter\n",
        "    k = tf.constant(50) # number of iterations for sinkhorn\n",
        "    N = tf.shape(X)[0] # sample size from mu_theta\n",
        "    M = tf.shape(Y)[0] # sample size from \\hat nu\n",
        "    D = tf.shape(Y)[1] # dimension of the obervation space\n",
        "    C = cost_mat(X,Y,N,M)\n",
        "    K = tf.exp(-C/epsilon)\n",
        "    #sinkhorn iterations\n",
        "    j0 = tf.constant(0)\n",
        "    u0 = tf.zeros([N,1])\n",
        "    v0 = tf.zeros([M,1])\n",
        "    cond_iter = lambda j, u, v, C, N, M, epsilon: j < k\n",
        "    j,u,v,C,N,M,epsilon = tf.while_loop(\n",
        "    cond_iter, sinkhorn_step_log, loop_vars=[j0, u0, v0,C, N,M,epsilon])\n",
        "    gamma_log = K_tild(u,v,C,N,M,epsilon)\n",
        "    final_cost = tf.reduce_sum(gamma_log*C)\n",
        "    return final_cost"
      ],
      "execution_count": 7,
      "outputs": []
    },
    {
      "cell_type": "markdown",
      "metadata": {
        "id": "2mEy3dhGthy3"
      },
      "source": [
        "## Define variational autoencoder class "
      ]
    },
    {
      "cell_type": "code",
      "metadata": {
        "id": "MuidZwbkXxLI"
      },
      "source": [
        "# Variational Autoencoder class\n",
        "\n",
        "\n",
        "class VariationalAutoencoder(object):\n",
        "    \n",
        "    def __init__(self, network_architecture, transfer_fct=tf.nn.softplus, \n",
        "                 learning_rate=0.001, batch_size=100):\n",
        "        self.network_architecture = network_architecture\n",
        "        self.transfer_fct = transfer_fct\n",
        "        self.learning_rate = learning_rate\n",
        "        self.batch_size = batch_size\n",
        "        \n",
        "        # tf Graph input\n",
        "        self.x = tf.placeholder(tf.float32, [batch_size, network_architecture[\"n_input\"]])\n",
        "      \n",
        "        # Create autoencoder network\n",
        "        self._create_network()\n",
        "        # Define loss function based variational upper-bound and \n",
        "        # corresponding optimizer\n",
        "        self._create_loss_optimizer()\n",
        "        \n",
        "        # Initializing the tensor flow variables\n",
        "        init = tf.global_variables_initializer()\n",
        "\n",
        "        # Launch the session\n",
        "        self.sess = tf.Session()\n",
        "        self.sess.run(init)\n",
        "    \n",
        "    def _create_network(self):\n",
        "        # Initialize autoencode network weights and biases\n",
        "        self.network_weights = self._initialize_weights(**self.network_architecture)\n",
        "\n",
        "        # Draw one sample z from uniform in latent space\n",
        "        n_z = self.network_architecture[\"n_z\"]\n",
        "        self.z = tf.random_uniform((self.batch_size, n_z), dtype=tf.float32)\n",
        "        \n",
        "        # Use generator to determine mean of\n",
        "        # Bernoulli distribution of reconstructed input\n",
        "        self.x_reconstr =   self._generator_network(self.network_weights[\"weights_gener\"],\n",
        "                                    self.network_weights[\"biases_gener\"])\n",
        "    \n",
        "    def _initialize_weights(self, n_hidden_gener_1,  n_hidden_gener_2, \n",
        "                            n_input, n_z):\n",
        "        all_weights = dict()\n",
        "        all_weights['weights_gener'] = {\n",
        "            'h1': init_xavier(n_z, n_hidden_gener_1),\n",
        "            'h2': init_xavier(n_hidden_gener_1, n_hidden_gener_2),\n",
        "            'out_var': init_xavier(n_hidden_gener_2, n_input)}\n",
        "        all_weights['biases_gener'] = {\n",
        "            'b1': tf.Variable(tf.zeros([n_hidden_gener_1], dtype=tf.float32)),\n",
        "            'b2': tf.Variable(tf.zeros([n_hidden_gener_2], dtype=tf.float32)),\n",
        "            'out_var': tf.Variable(tf.zeros([n_input], dtype=tf.float32))}\n",
        "        return all_weights        \n",
        "   \n",
        "\n",
        "    def _generator_network(self, weights, biases):\n",
        "        # Generate probabilistic decoder (decoder network), which\n",
        "        # maps points in latent space onto a Bernoulli distribution in data space.\n",
        "        # The transformation is parametrized and can be learned.\n",
        "        layer_1 = self.transfer_fct(tf.add(tf.matmul(self.z, weights['h1']), \n",
        "                                           biases['b1'])) \n",
        "        layer_2 = self.transfer_fct(tf.add(tf.matmul(layer_1, weights['h2']), \n",
        "                                           biases['b2'])) \n",
        "        x_reconstr = tf.nn.sigmoid(tf.add(tf.matmul(layer_2, weights['out_var']), \n",
        "                                 biases['out_var']))\n",
        "        return x_reconstr\n",
        "            \n",
        "    def _create_loss_optimizer(self):\n",
        "        # Sinkhorn loss\n",
        "        self.cost = sinkhorn_loss(self.x, self.x_reconstr)   # average over batch\n",
        "        # Use ADAM optimizer\n",
        "        self.optimizer = tf.train.AdamOptimizer(learning_rate=self.learning_rate).minimize(self.cost)\n",
        "        \n",
        "    def partial_fit(self, X):\n",
        "        \"\"\"Train model based on mini-batch of input data.\n",
        "        \n",
        "        Return cost of mini-batch.\n",
        "        \"\"\"\n",
        "        opt, cost = self.sess.run((self.optimizer, self.cost), \n",
        "                                  feed_dict={self.x: X})\n",
        "        return cost    \n",
        "   \n",
        "    def generate(self, n, z_sample):\n",
        "        \"\"\" Generate data by sampling from latent space.\n",
        "        \n",
        "        If z_mu is not None, data for this point in latent space is\n",
        "        generated. Otherwise, z_mu is drawn from prior in latent \n",
        "        space.        \n",
        "        \"\"\"\n",
        "        \n",
        "        zz = tf.placeholder(tf.float32, [n, network_architecture[\"n_z\"]])\n",
        "\n",
        "        \n",
        "        weights = self.network_weights[\"weights_gener\"]\n",
        "        biases = self.network_weights[\"biases_gener\"]\n",
        "        \n",
        "        layer_1 = self.transfer_fct(tf.add(tf.matmul(zz, weights['h1']), \n",
        "                                           biases['b1'])) \n",
        "        layer_2 = self.transfer_fct(tf.add(tf.matmul(layer_1, weights['h2']), \n",
        "                                           biases['b2'])) \n",
        "        x_reconstr = tf.nn.sigmoid(tf.add(tf.matmul(layer_2, weights['out_var']), \n",
        "                                 biases['out_var']))\n",
        "        \n",
        "        return self.sess.run(x_reconstr,feed_dict={zz: np.reshape(z_sample,[n,network_architecture[\"n_z\"]])})"
      ],
      "execution_count": 8,
      "outputs": []
    },
    {
      "cell_type": "markdown",
      "metadata": {
        "id": "_w1sMar5ycG_"
      },
      "source": [
        "## Initialise the model"
      ]
    },
    {
      "cell_type": "code",
      "metadata": {
        "id": "I5wGvuJcW4VY"
      },
      "source": [
        "# initialise the model\n",
        "\n",
        "network_architecture =     dict(n_hidden_gener_1=500, # 1st layer decoder neurons\n",
        "         n_hidden_gener_2=500, # 2nd layer decoder neurons\n",
        "         n_input=784, # MNIST data input (img shape: 28*28)\n",
        "         n_z=2)  # dimensionality of latent space\n",
        "\n",
        "vae = VariationalAutoencoder(network_architecture, learning_rate=0.005, batch_size=300)"
      ],
      "execution_count": null,
      "outputs": []
    },
    {
      "cell_type": "markdown",
      "metadata": {
        "id": "ZL69j0wrXvbS"
      },
      "source": [
        "## Sampling\n",
        "\n",
        "Use `vae.generate()` with either MC or QMC samples as input"
      ]
    },
    {
      "cell_type": "markdown",
      "metadata": {
        "id": "RBjLhJ8RK_VF"
      },
      "source": [
        "Sampling using RQMC:"
      ]
    },
    {
      "cell_type": "code",
      "metadata": {
        "id": "rJ7dg-pg0UsV"
      },
      "source": [
        "# RQMC\n",
        "\n",
        "if runall:\n",
        "  times_rqmc = np.zeros((len(n),num))\n",
        "  for i in range(len(n)):\n",
        "    print(i)\n",
        "    for rep in range(num):\n",
        "      start_rqmc = time.time()\n",
        "      sampler = qmc.Sobol(d=2, scramble=True, seed = seed)\n",
        "      z_rqmc = sampler.random(n[i])                 \n",
        "      y_rqmc = vae.generate(n[i],z_rqmc)\n",
        "      end_rqmc = time.time()\n",
        "      times_rqmc[i,rep] = end_rqmc - start_rqmc\n",
        "\n",
        "  print(\"RQMC:\")    \n",
        "  print(np.mean(times_rqmc,axis=1))\n",
        "  np.savez(path+\"vae_times_rqmc.npz\",times=times_rqmc)"
      ],
      "execution_count": null,
      "outputs": []
    },
    {
      "cell_type": "markdown",
      "metadata": {
        "id": "9SDBHdmlLCTc"
      },
      "source": [
        "Sampling using MC:"
      ]
    },
    {
      "cell_type": "code",
      "metadata": {
        "id": "K_X4lImNIt3P"
      },
      "source": [
        "# MC\n",
        "\n",
        "if runall:\n",
        "  times_mc = np.zeros((len(n),num))\n",
        "  for i in range(len(n)):\n",
        "    print(i)\n",
        "    for rep in range(num):\n",
        "      start_mc = time.time()\n",
        "      z_mc = np.random.rand(n[i],2)        \n",
        "      y_mc = vae.generate(n[i],z_mc)\n",
        "      end_mc = time.time()\n",
        "      times_mc[i,rep] = end_mc - start_mc\n",
        "\n",
        "  print(\"MC:\")    \n",
        "  print(np.mean(times_mc,axis=1))\n",
        "  np.savez(path+\"vae_times_mc.npz\",times=times_mc)"
      ],
      "execution_count": null,
      "outputs": []
    },
    {
      "cell_type": "markdown",
      "metadata": {
        "id": "u8qrHjZzjvIb"
      },
      "source": [
        "## Plot sample size against computational cost"
      ]
    },
    {
      "cell_type": "code",
      "metadata": {
        "id": "ZuHKAXOajzJD"
      },
      "source": [
        "if runall==False:\n",
        "  times_mc = np.load(path+'vae_times_mc.npz')\n",
        "  times_rqmc = np.load(path+'vae_times_rqmc.npz')\n",
        "\n",
        "  times_mc = times_mc['times']\n",
        "  times_rqmc = times_rqmc['times']"
      ],
      "execution_count": 10,
      "outputs": []
    },
    {
      "cell_type": "code",
      "metadata": {
        "id": "3ltWfEj4lr4E"
      },
      "source": [
        "SMALL_SIZE = 28\n",
        "MEDIUM_SIZE = 32\n",
        "BIGGER_SIZE = 32\n",
        "\n",
        "plt.rc('font', size=MEDIUM_SIZE)          # controls default text sizes\n",
        "plt.rc('axes', titlesize=MEDIUM_SIZE)     # fontsize of the axes title\n",
        "plt.rc('axes', labelsize=BIGGER_SIZE)     # fontsize of the x and y labels\n",
        "plt.rc('xtick', labelsize=MEDIUM_SIZE)    # fontsize of the tick labels\n",
        "plt.rc('ytick', labelsize=MEDIUM_SIZE)    # fontsize of the tick labels\n",
        "plt.rc('legend', fontsize=BIGGER_SIZE)    # legend fontsize\n",
        "plt.rc('figure', titlesize=BIGGER_SIZE)   # fontsize of the figure title"
      ],
      "execution_count": 17,
      "outputs": []
    },
    {
      "cell_type": "code",
      "metadata": {
        "id": "BLBThFc7lxly",
        "colab": {
          "base_uri": "https://localhost:8080/",
          "height": 532
        },
        "outputId": "d375b82b-750d-4d12-d7fe-1cb8bd4d260f"
      },
      "source": [
        "if runall==False:\n",
        "  plt.figure(figsize=(16,7))\n",
        "  cmap = plt.get_cmap(\"tab10\")\n",
        "\n",
        "  plt.plot(n, np.mean(times_mc,axis=1), label=\"MC\", color=cmap(0))\n",
        "  plt.errorbar(n, np.mean(times_mc,axis=1), yerr=[np.mean(times_mc,axis=1)-np.min(times_mc,axis=1),np.max(times_mc,axis=1)-np.mean(times_mc,axis=1)], fmt='.', color=cmap(0), capsize=10, elinewidth=1.5)\n",
        "  plt.plot(n, np.mean(times_rqmc,axis=1), label=\"RQMC\", color=cmap(2))\n",
        "  plt.errorbar(n, np.mean(times_rqmc,axis=1), yerr=[np.mean(times_rqmc,axis=1)-np.min(times_rqmc,axis=1),np.max(times_rqmc,axis=1)-np.mean(times_rqmc,axis=1)], fmt='.', color=cmap(2), capsize=10, elinewidth=1.5)\n",
        "  plt.xscale('log', basex=2)\n",
        "  plt.xlabel('n')\n",
        "  plt.yscale('log', basey=10)\n",
        "  plt.ylabel('computational cost [seconds]')\n",
        "  plt.legend(loc='lower right')\n",
        "\n",
        "  plt.savefig('vae_mc_vs_qmc_time.png',bbox_inches = 'tight', pad_inches = .1)\n",
        "  plt.show()"
      ],
      "execution_count": 19,
      "outputs": [
        {
          "output_type": "display_data",
          "data": {
            "text/plain": [
              "<Figure size 1152x504 with 1 Axes>"
            ],
            "image/png": "[encoded data removed]"
          },
          "metadata": {
            "needs_background": "light"
          }
        }
      ]
    }
  ]
}