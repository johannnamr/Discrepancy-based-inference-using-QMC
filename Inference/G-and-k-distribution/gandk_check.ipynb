{
  "nbformat": 4,
  "nbformat_minor": 0,
  "metadata": {
    "colab": {
      "name": "gandk_check.ipynb",
      "provenance": [],
      "collapsed_sections": [],
      "authorship_tag": "ABX9TyPvV6jbCIlpbM83PpEnp8TM",
      "include_colab_link": true
    },
    "kernelspec": {
      "name": "python3",
      "display_name": "Python 3"
    }
  },
  "cells": [
    {
      "cell_type": "markdown",
      "metadata": {
        "id": "view-in-github",
        "colab_type": "text"
      },
      "source": [
        "<a href=\"https://colab.research.google.com/github/johannnamr/Discrepancy-based-inference-using-QMC/blob/main/Inference/G-and-k-distribution/gandk_check.ipynb\" target=\"_parent\"><img src=\"https://colab.research.google.com/assets/colab-badge.svg\" alt=\"Open In Colab\"/></a>"
      ]
    },
    {
      "cell_type": "markdown",
      "metadata": {
        "id": "eAgqDlxLZjVG"
      },
      "source": [
        "# G-and k distribution\n",
        "\n",
        "Notebook for the check of gradients"
      ]
    },
    {
      "cell_type": "markdown",
      "metadata": {
        "id": "l9gFgq4hwYgD"
      },
      "source": [
        "### Mount Drive"
      ]
    },
    {
      "cell_type": "code",
      "metadata": {
        "id": "rD-DsqPqbigO",
        "colab": {
          "base_uri": "https://localhost:8080/"
        },
        "outputId": "59f475d6-2cac-4b79-b3c8-b17ffb340224"
      },
      "source": [
        "# mount my drive\n",
        "from google.colab import drive\n",
        "drive.mount(\"/content/drive\")"
      ],
      "execution_count": null,
      "outputs": [
        {
          "output_type": "stream",
          "text": [
            "Mounted at /content/drive\n"
          ],
          "name": "stdout"
        }
      ]
    },
    {
      "cell_type": "markdown",
      "metadata": {
        "id": "9BYKBIZb_qUU"
      },
      "source": [
        "The following path has to be adjusted if necessary:"
      ]
    },
    {
      "cell_type": "code",
      "metadata": {
        "id": "TJpwV_lRBM2n",
        "colab": {
          "base_uri": "https://localhost:8080/"
        },
        "outputId": "36eb21df-06aa-481c-ce7f-871adebe9ea9"
      },
      "source": [
        "%run \"/content/drive/My Drive/Colab Notebooks/Utils.ipynb\"\n",
        "%run \"/content/drive/My Drive/Colab Notebooks/Plot_fcts.ipynb\""
      ],
      "execution_count": null,
      "outputs": [
        {
          "output_type": "stream",
          "text": [
            "Collecting pip\n",
            "\u001b[?25l  Downloading https://files.pythonhosted.org/packages/fe/ef/60d7ba03b5c442309ef42e7d69959f73aacccd0d86008362a681c4698e83/pip-21.0.1-py3-none-any.whl (1.5MB)\n",
            "\u001b[K     |████████████████████████████████| 1.5MB 5.9MB/s \n",
            "\u001b[?25hInstalling collected packages: pip\n",
            "  Found existing installation: pip 19.3.1\n",
            "    Uninstalling pip-19.3.1:\n",
            "      Successfully uninstalled pip-19.3.1\n",
            "Successfully installed pip-21.0.1\n",
            "\u001b[K     |████████████████████████████████| 4.0 MB 6.3 MB/s \n",
            "\u001b[?25h  Building wheel for qmcpy (setup.py) ... \u001b[?25l\u001b[?25hdone\n",
            "\u001b[K     |████████████████████████████████| 430 kB 5.0 MB/s \n",
            "\u001b[?25h"
          ],
          "name": "stdout"
        }
      ]
    },
    {
      "cell_type": "markdown",
      "metadata": {
        "id": "H_APd5qRZ3e7"
      },
      "source": [
        "### Imports"
      ]
    },
    {
      "cell_type": "code",
      "metadata": {
        "id": "SFT0Q7VmwdFW"
      },
      "source": [
        "import numpy as np\n",
        "import qmcpy\n",
        "\n",
        "from copy import deepcopy\n",
        "\n",
        "import jax.numpy as jnp\n",
        "from jax import jacfwd\n",
        "from jax import ops\n",
        "from jax import lax"
      ],
      "execution_count": null,
      "outputs": []
    },
    {
      "cell_type": "markdown",
      "metadata": {
        "id": "sl1gEGM_w14Y"
      },
      "source": [
        "### Sampling"
      ]
    },
    {
      "cell_type": "code",
      "metadata": {
        "id": "ctXEBmnljQG8"
      },
      "source": [
        "np.random.seed(111)"
      ],
      "execution_count": null,
      "outputs": []
    },
    {
      "cell_type": "markdown",
      "metadata": {
        "id": "OfThjZ83Z6oi"
      },
      "source": [
        "Set parameters:"
      ]
    },
    {
      "cell_type": "code",
      "metadata": {
        "id": "aSQOkDAZvKsL"
      },
      "source": [
        "m = 1500                                  # number of simulated samples\n",
        "n = 1000                                  # number of true samples\n",
        "theta = np.array([3,1,1,-np.log(2)])      # true theta\n",
        "d = 1                                     # dimensions of data\n",
        "p = len(theta)                            # dimensions of parameter space\n",
        "l = 1.5                                   # lengthscale (l=-1 for median heuristic)\n",
        "c = 0\n",
        "b = 0\n",
        "nu = 0\n",
        "kernel = 'gaussian'                       # 'gaussian', 'imq' or 'matern'\n",
        "stat_type = 'v'                           # 'u' for U-statistic, 'v' for v-statistic"
      ],
      "execution_count": null,
      "outputs": []
    },
    {
      "cell_type": "markdown",
      "metadata": {
        "id": "-pkxoIT_3hZV"
      },
      "source": [
        "Define QMC sequence:"
      ]
    },
    {
      "cell_type": "code",
      "metadata": {
        "id": "X54i8VJpwK6K"
      },
      "source": [
        "qmc = qmcpy.Halton(d+1)"
      ],
      "execution_count": null,
      "outputs": []
    },
    {
      "cell_type": "markdown",
      "metadata": {
        "id": "68gxnKGA3j2d"
      },
      "source": [
        "Sample from the g-and-k distribution:"
      ]
    },
    {
      "cell_type": "code",
      "metadata": {
        "id": "gjmgZE7rZWIf"
      },
      "source": [
        "y,_ = sample_gandk('MC',m,d,theta)\n",
        "x,z = sample_gandk('MC',n,d,theta)"
      ],
      "execution_count": null,
      "outputs": []
    },
    {
      "cell_type": "markdown",
      "metadata": {
        "id": "IWUi7eyz3nMN"
      },
      "source": [
        "Plot samples and generator:"
      ]
    },
    {
      "cell_type": "code",
      "metadata": {
        "id": "4dxOh95Skg-L",
        "colab": {
          "base_uri": "https://localhost:8080/",
          "height": 843
        },
        "outputId": "280a9ee1-a7d1-4104-a0c3-a9d356f4d900"
      },
      "source": [
        "plot_gandk(y,(10,6),theta)"
      ],
      "execution_count": null,
      "outputs": [
        {
          "output_type": "display_data",
          "data": {
            "image/png": "[encoded data removed]",
            "text/plain": [
              "<Figure size 720x432 with 1 Axes>"
            ]
          },
          "metadata": {
            "tags": [],
            "needs_background": "light"
          }
        },
        {
          "output_type": "display_data",
          "data": {
            "image/png": "[encoded data removed]",
            "text/plain": [
              "<Figure size 720x432 with 1 Axes>"
            ]
          },
          "metadata": {
            "tags": [],
            "needs_background": "light"
          }
        }
      ]
    },
    {
      "cell_type": "markdown",
      "metadata": {
        "id": "6lfF0zBU8n1x"
      },
      "source": [
        "### Check generator gradient"
      ]
    },
    {
      "cell_type": "code",
      "metadata": {
        "id": "mxfmnJIn8rLI",
        "colab": {
          "base_uri": "https://localhost:8080/"
        },
        "outputId": "0b667ed4-8035-42d5-f602-98def02dd054"
      },
      "source": [
        "print('gradient of the generator:')\n",
        "grad_gen_gandk(z,theta[:4])[:,:,0]"
      ],
      "execution_count": null,
      "outputs": [
        {
          "output_type": "stream",
          "text": [
            "gradient of the generator:\n"
          ],
          "name": "stdout"
        },
        {
          "output_type": "execute_result",
          "data": {
            "text/plain": [
              "array([[1.   , 1.066, 0.207, 0.417]])"
            ]
          },
          "metadata": {
            "tags": []
          },
          "execution_count": 110
        }
      ]
    },
    {
      "cell_type": "code",
      "metadata": {
        "id": "UhPPuZSibUDF"
      },
      "source": [
        "# check gradient\n",
        "def gen_test(z, theta):\n",
        "    a = theta[0]\n",
        "    b = theta[1]\n",
        "    g = theta[2]\n",
        "    k = theta[3]\n",
        "    x = a+b*(1+0.8*((1-jnp.exp(-g*z))/(1+jnp.exp(-g*z))))*((1+z**2)**(k))*z\n",
        "    return x\n",
        "grad_test = jacfwd(gen_test,1)\n",
        "theta_test = deepcopy(theta)\n",
        "theta_test[3] = np.exp(theta[3])"
      ],
      "execution_count": null,
      "outputs": []
    },
    {
      "cell_type": "code",
      "metadata": {
        "id": "39qBwAMEbkZc",
        "colab": {
          "base_uri": "https://localhost:8080/"
        },
        "outputId": "a012cfdb-33b6-4b77-9244-9c8a3b6d8bdb"
      },
      "source": [
        "print('check gradient using autodifferentiation:')\n",
        "print(grad_gen_gandk(z,theta)[:,:,0])\n",
        "print(grad_test(z,theta_test)[0])"
      ],
      "execution_count": null,
      "outputs": [
        {
          "output_type": "stream",
          "text": [
            "check gradient using autodifferatiation:\n",
            "[[1.    1.066 0.207 0.417]]\n",
            "[[1.    1.066 0.207 0.417]]\n"
          ],
          "name": "stdout"
        }
      ]
    },
    {
      "cell_type": "markdown",
      "metadata": {
        "id": "1ZB0UN5H0UmY"
      },
      "source": [
        "### Check kernel"
      ]
    },
    {
      "cell_type": "code",
      "metadata": {
        "id": "r4PYUwNj1O0W"
      },
      "source": [
        "kxx = k(x,x,kernel,l,c,b,nu)\n",
        "kxy = k(x,y,kernel,l,c,b,nu)\n",
        "kyy = k(y,y,kernel,l,c,b,nu)\n",
        "k1xx = kxx[1]\n",
        "k1xy = kxy[1]\n",
        "k21xx = kxx[2]"
      ],
      "execution_count": null,
      "outputs": []
    },
    {
      "cell_type": "code",
      "metadata": {
        "id": "NpLt-vLa0BqI",
        "colab": {
          "base_uri": "https://localhost:8080/"
        },
        "outputId": "77a0f634-eee9-47fb-f6e9-a97225801050"
      },
      "source": [
        "print('kernel:')\n",
        "print(kxy[0][1,1])\n",
        "print('\\nderivative w.r.t. the first element:')\n",
        "print(kxy[1][:,1,1])\n",
        "print('\\nderivative w.r.t. the second and first element:')\n",
        "print(kxy[2][:,:,1,1])"
      ],
      "execution_count": null,
      "outputs": [
        {
          "output_type": "stream",
          "text": [
            "kernel:\n",
            "0.9753028053358747\n",
            "\n",
            "derivative w.r.t. the first element:\n",
            "[-0.145]\n",
            "\n",
            "derivative w.r.t. the second and first element:\n",
            "[[0.412]]\n"
          ],
          "name": "stdout"
        }
      ]
    },
    {
      "cell_type": "code",
      "metadata": {
        "id": "QHs0Vf1H0-QI",
        "colab": {
          "base_uri": "https://localhost:8080/"
        },
        "outputId": "d7349a5e-a65e-46ef-e291-7f9ce6e36916"
      },
      "source": [
        "#check derivatives using finite differences\n",
        "print('check first derivative w.r.t. the first element:')\n",
        "print((k(x+0.00000001,y,kernel,l,c,b,nu)[0][1,1]-kxy[0][1,1])/0.00000001)\n",
        "print(np.sum(kxy[1][:,1,1]))\n",
        "print('\\ncheck second derivative w.r.t. the second and first element:')\n",
        "print((-k(x+0.00000001,y,kernel,l,c,b,nu)[1][:,1,1]+kxy[1][:,1,1])/0.00000001)\n",
        "print(np.sum(kxy[2][:,:,1,1],axis=0))"
      ],
      "execution_count": null,
      "outputs": [
        {
          "output_type": "stream",
          "text": [
            "check first derivative w.r.t. the first element:\n",
            "-0.14541073900531387\n",
            "-0.14541074453420008\n",
            "\n",
            "check second derivative w.r.t. the second and first element:\n",
            "[0.412]\n",
            "[0.412]\n"
          ],
          "name": "stdout"
        }
      ]
    },
    {
      "cell_type": "markdown",
      "metadata": {
        "id": "pgBjL5lf1Gwn"
      },
      "source": [
        "### Check the MMD$^2$ gradient $\\hat{J}$"
      ]
    },
    {
      "cell_type": "code",
      "metadata": {
        "id": "e7h2MWxe2Dhy",
        "colab": {
          "base_uri": "https://localhost:8080/"
        },
        "outputId": "153d1b14-bfd8-4655-cd05-5db47c18939a"
      },
      "source": [
        "print('MMD^2 approximation:')\n",
        "MMD_approx(n,m,kxx[0],kxy[0],kyy[0],stat_type)"
      ],
      "execution_count": null,
      "outputs": [
        {
          "output_type": "stream",
          "text": [
            "MMD^2 approximation:\n"
          ],
          "name": "stdout"
        },
        {
          "output_type": "execute_result",
          "data": {
            "text/plain": [
              "0.0011101088298280937"
            ]
          },
          "metadata": {
            "tags": []
          },
          "execution_count": 175
        }
      ]
    },
    {
      "cell_type": "code",
      "metadata": {
        "id": "sqo255MY1KQ6",
        "colab": {
          "base_uri": "https://localhost:8080/"
        },
        "outputId": "9469b07d-1c48-4ac7-806d-73e0aa878e59"
      },
      "source": [
        "grad_g = grad_gen_gandk(z, theta)\n",
        "print('gradient of the MMD^2 approximation:')\n",
        "grad_MMD(p,n,m,grad_g,k1xx,k1xy,stat_type)"
      ],
      "execution_count": null,
      "outputs": [
        {
          "output_type": "stream",
          "text": [
            "gradient of the MMD^2 approximation:\n"
          ],
          "name": "stdout"
        },
        {
          "output_type": "execute_result",
          "data": {
            "text/plain": [
              "array([ 0.015,  0.007, -0.   ,  0.004])"
            ]
          },
          "metadata": {
            "tags": []
          },
          "execution_count": 176
        }
      ]
    },
    {
      "cell_type": "code",
      "metadata": {
        "id": "HACwrDir1sjM",
        "colab": {
          "base_uri": "https://localhost:8080/"
        },
        "outputId": "c43b0d79-474a-4d81-a565-79ffbd629caa"
      },
      "source": [
        "# check gradient using finite differences\n",
        "par = 1\n",
        "theta_check = deepcopy(theta)\n",
        "theta_check[par] = theta_check[par] + 0.00000001\n",
        "x_check = gen_gandk(z,theta_check)\n",
        "print('check gradient of the MMD^2 approximation:')\n",
        "print((MMD_approx(n,m,k(x_check,x_check,kernel,l,c,b,nu)[0],k(x_check,y,kernel,l,c,b,nu)[0],kyy[0],stat_type)-MMD_approx(n,m,kxx[0],kxy[0],kyy[0],stat_type))/0.00000001)\n",
        "print(grad_MMD(p,n,m,grad_g,k1xx,k1xy,stat_type)[par])"
      ],
      "execution_count": null,
      "outputs": [
        {
          "output_type": "stream",
          "text": [
            "check gradient of the MMD^2 approximation:\n",
            "0.0072234662695791485\n",
            "0.007223462111478729\n"
          ],
          "name": "stdout"
        }
      ]
    },
    {
      "cell_type": "markdown",
      "metadata": {
        "id": "2FYq1xMj2UQy"
      },
      "source": [
        "### Test information metric $g_U(\\theta)$"
      ]
    },
    {
      "cell_type": "code",
      "metadata": {
        "id": "q2WxIKma2HzZ",
        "colab": {
          "base_uri": "https://localhost:8080/"
        },
        "outputId": "3dfaac66-4e05-48ba-c603-4746813fa1ca"
      },
      "source": [
        "# test function\n",
        "print('approximation of information metric g:')\n",
        "g_approx(p,n,grad_g,k21xx)"
      ],
      "execution_count": null,
      "outputs": [
        {
          "output_type": "stream",
          "text": [
            "approximation of information metric g:\n"
          ],
          "name": "stdout"
        },
        {
          "output_type": "execute_result",
          "data": {
            "text/plain": [
              "array([[ 0.115, -0.042,  0.013, -0.041],\n",
              "       [-0.042, -0.048, -0.031, -0.078],\n",
              "       [ 0.013, -0.031,  0.003, -0.031],\n",
              "       [-0.041, -0.078, -0.031, -0.118]])"
            ]
          },
          "metadata": {
            "tags": []
          },
          "execution_count": 178
        }
      ]
    },
    {
      "cell_type": "markdown",
      "metadata": {
        "id": "7hqY5_9yoZmI"
      },
      "source": [
        "## Sampling from $d=2$ model:"
      ]
    },
    {
      "cell_type": "code",
      "metadata": {
        "id": "x1f071qBKWmR"
      },
      "source": [
        "from matplotlib.lines import Line2D"
      ],
      "execution_count": null,
      "outputs": []
    },
    {
      "cell_type": "code",
      "metadata": {
        "id": "rFBU-sQ0p5DV"
      },
      "source": [
        "np.random.seed(133)"
      ],
      "execution_count": null,
      "outputs": []
    },
    {
      "cell_type": "code",
      "metadata": {
        "id": "BIEpyK-BpnRx"
      },
      "source": [
        "d = 2\n",
        "m = 2**20\n",
        "n = 2**6\n",
        "theta = np.array([3,1,1,-np.log(2)])"
      ],
      "execution_count": null,
      "outputs": []
    },
    {
      "cell_type": "code",
      "metadata": {
        "id": "Z-qj_6wWCQc7"
      },
      "source": [
        "qmc = qmcpy.Halton(d,seed=7)"
      ],
      "execution_count": null,
      "outputs": []
    },
    {
      "cell_type": "code",
      "metadata": {
        "id": "Jy6cRucqtMhD"
      },
      "source": [
        "SMALL_SIZE = 20\n",
        "MEDIUM_SIZE = 32\n",
        "BIGGER_SIZE = 32\n",
        "\n",
        "plt.rc('font', size=MEDIUM_SIZE)          # controls default text sizes\n",
        "plt.rc('axes', titlesize=MEDIUM_SIZE)     # fontsize of the axes title\n",
        "plt.rc('axes', labelsize=MEDIUM_SIZE)     # fontsize of the x and y labels\n",
        "plt.rc('xtick', labelsize=MEDIUM_SIZE)    # fontsize of the tick labels\n",
        "plt.rc('ytick', labelsize=MEDIUM_SIZE)    # fontsize of the tick labels\n",
        "plt.rc('legend', fontsize=MEDIUM_SIZE)    # legend fontsize\n",
        "plt.rc('figure', titlesize=BIGGER_SIZE)   # fontsize of the figure title"
      ],
      "execution_count": null,
      "outputs": []
    },
    {
      "cell_type": "code",
      "metadata": {
        "id": "r2t4nk3toeW3"
      },
      "source": [
        "y,_ = sample_gandk_inv('QMC',m,d,theta)\n",
        "x_mc,_ = sample_gandk_inv('MC',n,d,theta)\n",
        "x_rqmc,_ = sample_gandk_inv('RQMC',n,d,theta)"
      ],
      "execution_count": null,
      "outputs": []
    },
    {
      "cell_type": "code",
      "metadata": {
        "id": "Yt5MLudMFsDW"
      },
      "source": [
        "rng_min = np.min(y)\n",
        "rng_max = np.max(y)\n",
        "num_bins = 100"
      ],
      "execution_count": null,
      "outputs": []
    },
    {
      "cell_type": "code",
      "metadata": {
        "id": "s8kTYKs4FREo"
      },
      "source": [
        "y1 = np.arange(rng_min, rng_max, (rng_max-rng_min)/num_bins)\n",
        "y2 = np.arange(rng_min, rng_max, (rng_max-rng_min)/num_bins)\n",
        "\n",
        "Y1, Y2 = np.meshgrid(y1, y2)"
      ],
      "execution_count": null,
      "outputs": []
    },
    {
      "cell_type": "code",
      "metadata": {
        "id": "JHd1D1FeBP8v"
      },
      "source": [
        "hist,_,_ =np.histogram2d(y[:,0],y[:,1], bins=num_bins, density=True)"
      ],
      "execution_count": null,
      "outputs": []
    },
    {
      "cell_type": "code",
      "metadata": {
        "id": "2AoJOkkeos-u"
      },
      "source": [
        "fig,(ax1,ax2) = plt.subplots(1,2,sharey=True, sharex=True, figsize=(15,7))\n",
        "cmap = plt.get_cmap(\"tab10\")\n",
        "cmap2 = plt.get_cmap('Greys')\n",
        "\n",
        "ax1.contour(Y1,Y2,hist,levels=(0.00025,0.002,0.005,0.01,0.02,0.04,0.06,0.1,0.17),colors='darkslategrey')\n",
        "ax1.scatter(x_mc[:,0],x_mc[:,1],color=cmap(0),s=100)\n",
        "ax1.set_ylim((-1,22))\n",
        "ax1.set_xlim((-1,22))\n",
        "ax1.set_xlabel(r'$x_1$')\n",
        "ax1.set_ylabel(r'$x_2$')\n",
        "ax1.set_xticks([0,10,20])\n",
        "ax1.set_xticklabels([0,10,20])\n",
        "\n",
        "ax2.contour(Y1,Y2,hist,levels=(0.00025,0.002,0.005,0.01,0.02,0.04,0.06,0.1,0.17),colors='darkslategrey')\n",
        "ax2.scatter(x_rqmc[:,0],x_rqmc[:,1],color=cmap(2),s=100)\n",
        "ax2.set_xlabel(r'$x_1$')\n",
        "\n",
        "\n",
        "dots = [Line2D([0], [0], marker='o', color='w', label='Scatter',markerfacecolor=cmap(0), markersize=15),Line2D([0], [0], marker='o', color='w', label='Scatter',markerfacecolor=cmap(2), markersize=15)]\n",
        "ax2.legend(handles=dots, labels=['MC','QMC'])\n",
        "\n",
        "plt.subplots_adjust(wspace=0.05, hspace=0.05)\n",
        "\n",
        "plt.savefig('gandk_d=2_scatter.png',bbox_inches = 'tight', pad_inches = .1)\n",
        "plt.show()"
      ],
      "execution_count": null,
      "outputs": []
    },
    {
      "cell_type": "markdown",
      "metadata": {
        "id": "dYdlanwMQdR7"
      },
      "source": [
        "Sampling from $d=1$ model:"
      ]
    },
    {
      "cell_type": "code",
      "metadata": {
        "id": "3O-755PrUnw8"
      },
      "source": [
        "from scipy.spatial import distance\n",
        "from scipy.linalg import norm\n",
        "from scipy.stats import entropy"
      ],
      "execution_count": null,
      "outputs": []
    },
    {
      "cell_type": "code",
      "metadata": {
        "id": "taJtDk9NQSdG"
      },
      "source": [
        "np.random.seed(2)"
      ],
      "execution_count": null,
      "outputs": []
    },
    {
      "cell_type": "code",
      "metadata": {
        "id": "KctOBGXpTYhK"
      },
      "source": [
        "d = 1\n",
        "n = 2**11\n",
        "m = 2**20\n",
        "theta = np.array([3,1,1,-np.log(2)])"
      ],
      "execution_count": null,
      "outputs": []
    },
    {
      "cell_type": "code",
      "metadata": {
        "id": "Gy7_P4udTmF_"
      },
      "source": [
        "qmc = qmcpy.Halton(d,seed=7)"
      ],
      "execution_count": null,
      "outputs": []
    },
    {
      "cell_type": "code",
      "metadata": {
        "id": "r8rlwV_rTeBC"
      },
      "source": [
        "y = sample_gandk_inv('QMC',m,d,theta)\n",
        "x_mc = sample_gandk_inv('MC',n,d,theta)\n",
        "x_rqmc = sample_gandk_inv('RQMC',n,d,theta)"
      ],
      "execution_count": null,
      "outputs": []
    },
    {
      "cell_type": "code",
      "metadata": {
        "id": "fPShw7b1o45f"
      },
      "source": [
        "rng_min = -1\n",
        "rng_max = 25\n",
        "num_bins =20"
      ],
      "execution_count": null,
      "outputs": []
    },
    {
      "cell_type": "code",
      "metadata": {
        "id": "hvuTfOwHpVFl"
      },
      "source": [
        "y_hist,_ = np.histogram(np.squeeze(y[0]),density=True, bins=num_bins,range=(rng_min,rng_max))\n",
        "x_mc_hist,_ = np.histogram(np.squeeze(x_mc[0]),density=True, bins=num_bins,range=(rng_min,rng_max))\n",
        "x_rqmc_hist,_ = np.histogram(np.squeeze(x_rqmc[0]),density=True, bins=num_bins,range=(rng_min,rng_max))"
      ],
      "execution_count": null,
      "outputs": []
    },
    {
      "cell_type": "code",
      "metadata": {
        "id": "Lu3EzRllriPj"
      },
      "source": [
        "def hellinger(p, q):\n",
        "    return norm(np.sqrt(p) - np.sqrt(q)) / np.sqrt(2)"
      ],
      "execution_count": null,
      "outputs": []
    },
    {
      "cell_type": "code",
      "metadata": {
        "id": "5c65HQF6xhy2"
      },
      "source": [
        "y_hist[y_hist==0] = 1e-16\n",
        "x_mc_hist[x_mc_hist==0] = 1e-16\n",
        "x_rqmc_hist[x_rqmc_hist==0] = 1e-16"
      ],
      "execution_count": null,
      "outputs": []
    },
    {
      "cell_type": "code",
      "metadata": {
        "id": "sTo1KT_tpt1t"
      },
      "source": [
        "dist_l2_mc = np.squeeze(distance.cdist(np.expand_dims(y_hist,0),np.expand_dims(x_mc_hist,0),'euclidean'))\n",
        "dist_l2_rqmc = np.squeeze(distance.cdist(np.expand_dims(y_hist,0),np.expand_dims(x_rqmc_hist,0),'euclidean'))\n",
        "dist_kl_mc = entropy(pk=y_hist,qk=x_mc_hist)\n",
        "dist_kl_rqmc = entropy(pk=y_hist,qk=x_rqmc_hist)\n",
        "dist_h_mc = hellinger(p=y_hist,q=x_mc_hist)\n",
        "dist_h_rqmc = hellinger(p=y_hist,q=x_rqmc_hist)"
      ],
      "execution_count": null,
      "outputs": []
    },
    {
      "cell_type": "code",
      "metadata": {
        "colab": {
          "base_uri": "https://localhost:8080/",
          "height": 635
        },
        "id": "Sdvln1z3Uzci",
        "outputId": "3f577f97-0e2d-4486-bee6-c5980f92e495"
      },
      "source": [
        "plt.figure(figsize=(14,10))\n",
        "cmap = plt.get_cmap(\"tab10\")\n",
        "plt.hist([np.squeeze(x_mc[0]),np.squeeze(y[0]),np.squeeze(x_rqmc[0])], bins=num_bins, range=(rng_min, rng_max),density=True,color = [cmap(0),cmap(1),cmap(2)], label=['MC','Ground truth','RQMC'])\n",
        "plt.yscale('log', nonposy='clip')\n",
        "plt.ylabel('density')\n",
        "plt.xlabel('x')\n",
        "plt.legend(loc='upper right')\n",
        "plt.table(cellText=((str(np.round(dist_kl_mc,4)),str(np.round(dist_kl_rqmc,4))),(str(np.round(dist_l2_mc,4)),str(np.round(dist_l2_rqmc,4))),(str(np.round(dist_h_mc,4)),str(np.round(dist_h_rqmc,4)))), rowLabels=('KL divergence','L2 norm','Hellinger dist.     '), colLabels=('MC','RQMC'),loc='bottom', bbox=[0.285,-0.65,0.8,0.4],cellLoc='center',colColours=(cmap(0),cmap(2)))\n",
        "plt.subplots_adjust(bottom=0.4)\n",
        "plt.savefig('gandk_d=1_hist.png',bbox_inches = 'tight', pad_inches = .1)\n",
        "plt.show()"
      ],
      "execution_count": null,
      "outputs": [
        {
          "output_type": "stream",
          "text": [
            "/usr/local/lib/python3.7/dist-packages/numpy/core/_asarray.py:83\n",
            "\tVisibleDeprecationWarning: Creating an ndarray from ragged nested sequences (which is a list-or-tuple of lists-or-tuples-or ndarrays with different lengths or shapes) is deprecated. If you meant to do this, you must specify 'dtype=object' when creating the ndarray\n"
          ],
          "name": "stderr"
        },
        {
          "output_type": "display_data",
          "data": {
            "image/png": "[encoded data removed]",
            "text/plain": [
              "<Figure size 1008x720 with 1 Axes>"
            ]
          },
          "metadata": {
            "tags": [],
            "needs_background": "light"
          }
        }
      ]
    }
  ]
}