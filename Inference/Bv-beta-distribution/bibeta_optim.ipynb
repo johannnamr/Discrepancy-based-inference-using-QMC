{
  "nbformat": 4,
  "nbformat_minor": 0,
  "metadata": {
    "colab": {
      "name": "bibeta_optim.ipynb",
      "provenance": [],
      "collapsed_sections": [],
      "machine_shape": "hm",
      "authorship_tag": "ABX9TyNSBcvecFHPaecwzB7c3ZL5",
      "include_colab_link": true
    },
    "kernelspec": {
      "display_name": "Python 3",
      "name": "python3"
    },
    "language_info": {
      "name": "python"
    }
  },
  "cells": [
    {
      "cell_type": "markdown",
      "metadata": {
        "id": "view-in-github",
        "colab_type": "text"
      },
      "source": [
        "<a href=\"https://colab.research.google.com/github/johannnamr/Discrepancy-based-inference-using-QMC/blob/main/Inference/Bv-beta-distribution/bibeta_optim.ipynb\" target=\"_parent\"><img src=\"https://colab.research.google.com/assets/colab-badge.svg\" alt=\"Open In Colab\"/></a>"
      ]
    },
    {
      "cell_type": "markdown",
      "metadata": {
        "id": "ddq-LCw80Iqx"
      },
      "source": [
        "# Bivariate Beta distribution"
      ]
    },
    {
      "cell_type": "markdown",
      "metadata": {
        "id": "l9gFgq4hwYgD"
      },
      "source": [
        "### Mount Drive"
      ]
    },
    {
      "cell_type": "code",
      "metadata": {
        "colab": {
          "base_uri": "https://localhost:8080/"
        },
        "id": "rD-DsqPqbigO",
        "outputId": "73796af0-cc5b-445c-f1eb-afb68373a784"
      },
      "source": [
        "# mount my drive\n",
        "from google.colab import drive\n",
        "drive.mount(\"/content/drive\")"
      ],
      "execution_count": null,
      "outputs": [
        {
          "output_type": "stream",
          "text": [
            "Drive already mounted at /content/drive; to attempt to forcibly remount, call drive.mount(\"/content/drive\", force_remount=True).\n"
          ],
          "name": "stdout"
        }
      ]
    },
    {
      "cell_type": "markdown",
      "metadata": {
        "id": "9BYKBIZb_qUU"
      },
      "source": [
        "The following path has to be adjusted if necessary:"
      ]
    },
    {
      "cell_type": "code",
      "metadata": {
        "colab": {
          "base_uri": "https://localhost:8080/"
        },
        "id": "TJpwV_lRBM2n",
        "outputId": "b6558d51-4641-4807-de4b-e22366a1acfe"
      },
      "source": [
        "%run \"/content/drive/My Drive/Colab Notebooks/Utils.ipynb\"\n",
        "%run \"/content/drive/My Drive/Colab Notebooks/Plot_fcts.ipynb\"\n",
        "%run \"/content/drive/My Drive/Colab Notebooks/ot_slicedW.ipynb\""
      ],
      "execution_count": null,
      "outputs": [
        {
          "output_type": "stream",
          "text": [
            "Requirement already satisfied: pip in /usr/local/lib/python3.7/dist-packages (21.1.2)\n",
            "\u001b[33mWARNING: Running pip as root will break packages and permissions. You should install packages reliably by using venv: https://pip.pypa.io/warnings/venv\u001b[0m\n",
            "\u001b[33mWARNING: Running pip as root will break packages and permissions. You should install packages reliably by using venv: https://pip.pypa.io/warnings/venv\u001b[0m\n",
            "\u001b[33mWARNING: Running pip as root will break packages and permissions. You should install packages reliably by using venv: https://pip.pypa.io/warnings/venv\u001b[0m\n",
            "\u001b[33mWARNING: Running pip as root will break packages and permissions. You should install packages reliably by using venv: https://pip.pypa.io/warnings/venv\u001b[0m\n",
            "\u001b[33mWARNING: Running pip as root will break packages and permissions. You should install packages reliably by using venv: https://pip.pypa.io/warnings/venv\u001b[0m\n"
          ],
          "name": "stdout"
        }
      ]
    },
    {
      "cell_type": "markdown",
      "metadata": {
        "id": "BnrYr27imebu"
      },
      "source": [
        "Set path for saving the results (adjust if necessary):"
      ]
    },
    {
      "cell_type": "code",
      "metadata": {
        "id": "1jAap2wimiYe"
      },
      "source": [
        "path = '/content/drive/My Drive/Colab Notebooks/Paper/Inference/'"
      ],
      "execution_count": null,
      "outputs": []
    },
    {
      "cell_type": "markdown",
      "metadata": {
        "id": "3aqvF-sY1Hlo"
      },
      "source": [
        "Imports:"
      ]
    },
    {
      "cell_type": "code",
      "metadata": {
        "id": "RPZR8w4Y1JtI"
      },
      "source": [
        "import numpy as np\n",
        "from scipy import optimize"
      ],
      "execution_count": null,
      "outputs": []
    },
    {
      "cell_type": "markdown",
      "metadata": {
        "id": "Bly5p6KnCV8H"
      },
      "source": [
        "## Sampling"
      ]
    },
    {
      "cell_type": "code",
      "metadata": {
        "id": "xannlwjeCvrz"
      },
      "source": [
        "m = 2**16             # number of true samples\n",
        "m_sub = 2**10         # number of subsamples\n",
        "n = np.round((2**9)**(3/4),0).astype(int)     # number of simulated samples\n",
        "#n = 2**9              # number of simulated samples\n",
        "theta = (1,1,1,1,1)   # true theta\n",
        "d = 2                 # data dimensions\n",
        "l =1.5*d**(1/2)       # lengthscale of the Gaussian kernel for MMD^2\n",
        "e = 5*d               # regularisation parameter for Sinkhorn divergence\n",
        "maxiter = 3000        # maximum number of optimisation iterations\n",
        "div_type = 'mmd2'     # 'mmd2', 'wasserstein', 'sliced_wasserstein' or 'sinkhorn'\n",
        "method = 'RQMC'         # 'MC' or 'RQMC'\n",
        "rep = 7               # repetition no."
      ],
      "execution_count": null,
      "outputs": []
    },
    {
      "cell_type": "code",
      "metadata": {
        "id": "qG-Ncw4ZBmow"
      },
      "source": [
        "seed = [133,134,135,123,124,125,113,114,115,103]"
      ],
      "execution_count": null,
      "outputs": []
    },
    {
      "cell_type": "code",
      "metadata": {
        "id": "phMQDbQjCQHp"
      },
      "source": [
        "np.random.seed(seed[rep])"
      ],
      "execution_count": null,
      "outputs": []
    },
    {
      "cell_type": "code",
      "metadata": {
        "id": "wAsmawaeC1TE"
      },
      "source": [
        "i_theta,_ = divmod(theta,np.ones(5)) \n",
        "i_theta.astype(int)\n",
        "qmc = qmcpy.Halton(np.sum(i_theta.astype(int)),seed=7)"
      ],
      "execution_count": null,
      "outputs": []
    },
    {
      "cell_type": "code",
      "metadata": {
        "id": "M6_p-UP-fIFE"
      },
      "source": [
        "y = sample_bibeta('MC',m,theta)"
      ],
      "execution_count": null,
      "outputs": []
    },
    {
      "cell_type": "markdown",
      "metadata": {
        "id": "ib8X-Va2-zgR"
      },
      "source": [
        "MMD$^2_V$ function dependent on $\\theta$:"
      ]
    },
    {
      "cell_type": "code",
      "metadata": {
        "id": "ZzzOttM6Baxa"
      },
      "source": [
        "def opt_sample_qmc_gamma(alpha,n):\n",
        "\n",
        "  'Function to simulate from a gamma distribution with \\alpha<1 and \\beta=1 using QMC points'\n",
        "\n",
        "  # get b\n",
        "  b = (alpha+np.e)/np.e\n",
        "\n",
        "  # fix QMC sequence\n",
        "  qmc = qmcpy.Halton(3)\n",
        "\n",
        "  # generate samples\n",
        "  i = 0\n",
        "  num = 0\n",
        "  gamma = np.array([])\n",
        "  while num < n:\n",
        "    # get qmc samples\n",
        "    omega = np.squeeze(qmc.gen_samples(n_min=i,n_max=i+1))\n",
        "    # accept-reject algorihtm\n",
        "    y = b*omega[0]\n",
        "    if y<=1:\n",
        "      x = y**(1/alpha)\n",
        "      if omega[1]<=np.e**(-x):\n",
        "        gamma = np.append(gamma,x)\n",
        "        num += 1 # counts accepted points\n",
        "    else:\n",
        "      x = -np.log((b-y)/alpha)\n",
        "      if omega[2]<=x**(alpha-1):\n",
        "        gamma = np.append(gamma,x)\n",
        "        num += 1 # counts accepted points\n",
        "    i += 1 # counts number of simulated points\n",
        "\n",
        "  return gamma"
      ],
      "execution_count": null,
      "outputs": []
    },
    {
      "cell_type": "code",
      "metadata": {
        "id": "bDdc7QXxBPxp"
      },
      "source": [
        "def opt_sample_bibeta(theta, *params):\n",
        "\n",
        "  _,method,_,n,_,_,_ = params\n",
        "\n",
        "  # split theta into integer and decimal parts\n",
        "  i_theta,d_theta = divmod(theta,np.ones(5)) \n",
        "  i_theta = i_theta.astype(int)\n",
        "  p = np.sum(i_theta)\n",
        "\n",
        "  # sample uniforms\n",
        "  if method == 'MC':\n",
        "    unif = np.random.rand(n,p)\n",
        "  if method == 'QMC':\n",
        "    unif = qmc.gen_samples(n)\n",
        "  if method == 'RQMC':\n",
        "    unif = qmcpy.Halton(p).gen_samples(n)\n",
        "\n",
        "  # initialise\n",
        "  utild = np.zeros([n,5])\n",
        "  x = np.zeros((n,2))\n",
        "\n",
        "  # logs on uniforms\n",
        "  logunif = np.log(unif)\n",
        "\n",
        "  # get \\tilde{u}\n",
        "  j=0\n",
        "  for i in range(5):\n",
        "    sum = np.zeros(n)\n",
        "    if i_theta[i]!=0:\n",
        "      for k in range(i_theta[i]):\n",
        "        sum[:] += logunif[:,k+j]\n",
        "      utild[:,i] = -sum\n",
        "    if d_theta[i]!=0:\n",
        "      if method=='QMC' or method=='RQMC':\n",
        "        utild[:,i] += opt_sample_qmc_gamma(d_theta[i],n)\n",
        "      else:\n",
        "        utild[:,i] += np.random.gamma(d_theta[i],1,n)\n",
        "    j += i_theta[i]\n",
        "\n",
        "  # generator\n",
        "  x1 = np.sum(np.vstack([utild[:,0],utild[:,2]]),axis=0)/np.sum(np.vstack([utild[:,0],utild[:,2],utild[:,3],utild[:,4]]),axis=0)\n",
        "  x2 = np.sum(np.vstack([utild[:,1],utild[:,3]]),axis=0)/np.sum(np.vstack([utild[:,1],utild[:,2],utild[:,3],utild[:,4]]),axis=0)\n",
        "\n",
        "  return np.vstack([x1,x2]).T"
      ],
      "execution_count": null,
      "outputs": []
    },
    {
      "cell_type": "code",
      "metadata": {
        "id": "z7uxwzlTkuyC"
      },
      "source": [
        "def opt_mmd2(theta,*params):\n",
        "\n",
        "  _,_,m,n,y,l,_ = params\n",
        "\n",
        "  # subsample from the true data\n",
        "  sub = np.random.choice(np.arange(y.shape[0]),m)\n",
        "  y_sub = y[sub,:]\n",
        "\n",
        "  # generate samples\n",
        "  x = opt_sample_bibeta(theta,*params)\n",
        "\n",
        "  # gaussian kernel\n",
        "  r = distance.cdist(x,x,'sqeuclidean')\n",
        "  kxx = np.exp(-(1/(2*l**2))*r)\n",
        "  r = distance.cdist(x,y_sub,'sqeuclidean')\n",
        "  kxy = np.exp(-(1/(2*l**2))*r)\n",
        "  r = distance.cdist(y_sub,y_sub,'sqeuclidean')\n",
        "  kyy = np.exp(-(1/(2*l**2))*r)\n",
        "\n",
        "  # first sum\n",
        "  sum1 = np.sum(kxx)\n",
        "  # second sum\n",
        "  sum2 = np.sum(kxy)\n",
        "  # third sum\n",
        "  sum3 = np.sum(kyy)\n",
        "  \n",
        "  mmd2 = (1/n**2)*sum1-(2/(m*n))*sum2+(1/m**2)*sum3\n",
        "\n",
        "  return mmd2"
      ],
      "execution_count": null,
      "outputs": []
    },
    {
      "cell_type": "code",
      "metadata": {
        "id": "y-PkJnp0mbjz"
      },
      "source": [
        "def opt_w(theta,*params):\n",
        "\n",
        "  _,_,m,n,y,_,_ = params\n",
        "\n",
        "  # subsample from the true data\n",
        "  sub = np.random.choice(np.arange(y.shape[0]),m)\n",
        "  y_sub = y[sub,:]\n",
        "\n",
        "  # generate samples\n",
        "  x = opt_sample_bibeta(theta,*params)\n",
        "\n",
        "  # equal weights\n",
        "  a = np.ones((n,)) / n \n",
        "  b = np.ones((m,)) / m\n",
        "    \n",
        "  #MC and RQMC\n",
        "  M = ot.dist(x, y_sub, 'euclidean')\n",
        "  M /= M.max()\n",
        "  w = ot.emd2(a, b, M)\n",
        "\n",
        "  return w"
      ],
      "execution_count": null,
      "outputs": []
    },
    {
      "cell_type": "code",
      "metadata": {
        "id": "IFzSrXlYbsJa"
      },
      "source": [
        "def opt_sw(theta,*params):\n",
        "\n",
        "  _,_,m,n,y,_,_ = params\n",
        "\n",
        "  # subsample from the true data\n",
        "  sub = np.random.choice(np.arange(y.shape[0]),m)\n",
        "  y_sub = y[sub,:]\n",
        "\n",
        "  # generate samples\n",
        "  x = opt_sample_bibeta(theta,*params)\n",
        "\n",
        "  # equal weights\n",
        "  a = np.ones((n,)) / n \n",
        "  b = np.ones((m,)) / m\n",
        "    \n",
        "  #MC and RQMC\n",
        "  sw = sliced_wasserstein_distance(x,y_sub, 'euclidean', a, b, n_projections=100)\n",
        "\n",
        "  return sw"
      ],
      "execution_count": null,
      "outputs": []
    },
    {
      "cell_type": "code",
      "metadata": {
        "id": "-XBjxQtgmgGf"
      },
      "source": [
        "def opt_sink(theta,*params):\n",
        "\n",
        "  _,_,m,n,y,_,e = params\n",
        "\n",
        "  # subsample from the true data\n",
        "  sub = np.random.choice(np.arange(y.shape[0]),m)\n",
        "  y_sub = y[sub,:]\n",
        "\n",
        "  # generate samples\n",
        "  x = opt_sample_bibeta(theta,*params)\n",
        "\n",
        "  # sinkhorn divergence (equal weights by default)\n",
        "  sink = ot.bregman.empirical_sinkhorn_divergence(x, y_sub, e, cost='seuclidean', method='sinkhorn')\n",
        "\n",
        "  return sink"
      ],
      "execution_count": null,
      "outputs": []
    },
    {
      "cell_type": "code",
      "metadata": {
        "id": "L74txOPXlMdm"
      },
      "source": [
        "def opt_bibeta(theta,*params):\n",
        "\n",
        "  div_type,_,_,_,_,_,_ = params\n",
        "\n",
        "  # calculate divergence\n",
        "  if div_type=='mmd2':\n",
        "    div = opt_mmd2(theta,*params)\n",
        "  if div_type=='wasserstein':\n",
        "    div = opt_w(theta,*params)\n",
        "  if div_type=='sliced_wasserstein':\n",
        "    div = opt_sw(theta,*params)\n",
        "  if div_type=='sinkhorn':\n",
        "    div = opt_sink(theta,*params)  \n",
        "  \n",
        "  return div"
      ],
      "execution_count": null,
      "outputs": []
    },
    {
      "cell_type": "markdown",
      "metadata": {
        "id": "SIhHaiCU7A7I"
      },
      "source": [
        "Start optimisation using differential evolution:"
      ]
    },
    {
      "cell_type": "code",
      "metadata": {
        "id": "Qls_xllNAWPH"
      },
      "source": [
        "params = (div_type,method,m_sub,n,y,l,e)\n",
        "minimizer_kwargs =  { 'args': params }\n",
        "bounds = ((0,2),(0,2),(0,2),(0,2),(0,2))"
      ],
      "execution_count": null,
      "outputs": []
    },
    {
      "cell_type": "code",
      "metadata": {
        "id": "MdM90WWvdHD7"
      },
      "source": [
        "t = TicToc()\n",
        "t.tic()\n",
        "opt = optimize.differential_evolution(opt_bibeta, bounds, args=params, maxiter=maxiter)\n",
        "time = t.tocvalue()"
      ],
      "execution_count": null,
      "outputs": []
    },
    {
      "cell_type": "code",
      "metadata": {
        "id": "HQs5AthtM-3M",
        "colab": {
          "base_uri": "https://localhost:8080/"
        },
        "outputId": "457a02fe-cfb3-4713-edb9-25c812957a36"
      },
      "source": [
        "time"
      ],
      "execution_count": null,
      "outputs": [
        {
          "output_type": "execute_result",
          "data": {
            "text/plain": [
              "10677.739475998"
            ]
          },
          "metadata": {
            "tags": []
          },
          "execution_count": 19
        }
      ]
    },
    {
      "cell_type": "code",
      "metadata": {
        "id": "9HTY9ECc-Jp4",
        "colab": {
          "base_uri": "https://localhost:8080/"
        },
        "outputId": "9cc5400d-92ce-4aaa-ac69-b2c0bff73344"
      },
      "source": [
        "time/60**2"
      ],
      "execution_count": null,
      "outputs": [
        {
          "output_type": "execute_result",
          "data": {
            "text/plain": [
              "2.9660387433327777"
            ]
          },
          "metadata": {
            "tags": []
          },
          "execution_count": 20
        }
      ]
    },
    {
      "cell_type": "code",
      "metadata": {
        "id": "Eed10zc_NAMg",
        "colab": {
          "base_uri": "https://localhost:8080/"
        },
        "outputId": "a1c17fd4-0cb1-4647-e22f-6c3f9c8be41b"
      },
      "source": [
        "opt"
      ],
      "execution_count": null,
      "outputs": [
        {
          "output_type": "execute_result",
          "data": {
            "text/plain": [
              "     fun: 3.125200466191913e-07\n",
              " message: 'Maximum number of iterations has been exceeded.'\n",
              "    nfev: 225201\n",
              "     nit: 3000\n",
              " success: False\n",
              "       x: array([0.61 , 1.936, 1.221, 0.592, 1.242])"
            ]
          },
          "metadata": {
            "tags": []
          },
          "execution_count": 21
        }
      ]
    },
    {
      "cell_type": "markdown",
      "metadata": {
        "id": "4Go1a_hY136t"
      },
      "source": [
        "Calculate the precise loss for the estimated parameters:"
      ]
    },
    {
      "cell_type": "code",
      "metadata": {
        "id": "vEhghnBEOmRE"
      },
      "source": [
        "params_precise = params[:3] + (2**14,) + params[4:]"
      ],
      "execution_count": null,
      "outputs": []
    },
    {
      "cell_type": "code",
      "metadata": {
        "id": "SmlXb2HI2C1F"
      },
      "source": [
        "loss = opt_bibeta(opt.x,*params_precise)"
      ],
      "execution_count": null,
      "outputs": []
    },
    {
      "cell_type": "markdown",
      "metadata": {
        "id": "fya3RtYCmvWv"
      },
      "source": [
        "Save the results:"
      ]
    },
    {
      "cell_type": "code",
      "metadata": {
        "id": "oX6jHuH5mwru"
      },
      "source": [
        "np.savez(path+\"bibeta_optim_%s_%s_n=%s_%s.npz\" %(params[0],params[1],n,rep),time=time,loss=loss,theta=opt.x,optloss=opt.fun)"
      ],
      "execution_count": null,
      "outputs": []
    }
  ]
}