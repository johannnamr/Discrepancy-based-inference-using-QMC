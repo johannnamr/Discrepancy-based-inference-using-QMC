{
  "nbformat": 4,
  "nbformat_minor": 0,
  "metadata": {
    "colab": {
      "name": "bibeta_conv.ipynb",
      "provenance": [],
      "collapsed_sections": [],
      "machine_shape": "hm",
      "authorship_tag": "ABX9TyOVFRnxOrPzx9Ov9WsJ6FqG",
      "include_colab_link": true
    },
    "kernelspec": {
      "name": "python3",
      "display_name": "Python 3"
    }
  },
  "cells": [
    {
      "cell_type": "markdown",
      "metadata": {
        "id": "view-in-github",
        "colab_type": "text"
      },
      "source": [
        "<a href=\"https://colab.research.google.com/github/johannnamr/Discrepancy-based-inference-using-QMC/blob/main/Inference/Bv-beta-distribution/bibeta_conv_mmd2.ipynb\" target=\"_parent\"><img src=\"https://colab.research.google.com/assets/colab-badge.svg\" alt=\"Open In Colab\"/></a>"
      ]
    },
    {
      "cell_type": "markdown",
      "metadata": {
        "id": "eAgqDlxLZjVG"
      },
      "source": [
        "# Bivariate Beta Model\n",
        "\n",
        "Notebook for the convergence of the MMD$^2$ approximation"
      ]
    },
    {
      "cell_type": "markdown",
      "metadata": {
        "id": "l9gFgq4hwYgD"
      },
      "source": [
        "### Mount Drive"
      ]
    },
    {
      "cell_type": "code",
      "metadata": {
        "id": "rD-DsqPqbigO",
        "colab": {
          "base_uri": "https://localhost:8080/"
        },
        "outputId": "2b942d68-5c3d-424c-c64a-115c4ed0257d"
      },
      "source": [
        "# mount my drive\n",
        "from google.colab import drive\n",
        "drive.mount(\"/content/drive\")"
      ],
      "execution_count": null,
      "outputs": [
        {
          "output_type": "stream",
          "text": [
            "Drive already mounted at /content/drive; to attempt to forcibly remount, call drive.mount(\"/content/drive\", force_remount=True).\n"
          ],
          "name": "stdout"
        }
      ]
    },
    {
      "cell_type": "markdown",
      "metadata": {
        "id": "9BYKBIZb_qUU"
      },
      "source": [
        "The following path has to be adjusted if necessary:"
      ]
    },
    {
      "cell_type": "code",
      "metadata": {
        "id": "o9Rix2jWAT_B",
        "colab": {
          "base_uri": "https://localhost:8080/"
        },
        "outputId": "8f6e1e24-5961-467d-d1fd-c27855eb90d3"
      },
      "source": [
        "%run \"/content/drive/My Drive/Colab Notebooks/Utils.ipynb\"\n",
        "%run \"/content/drive/My Drive/Colab Notebooks/Plot_fcts.ipynb\""
      ],
      "execution_count": null,
      "outputs": [
        {
          "output_type": "stream",
          "text": [
            "Requirement already satisfied: pip in /usr/local/lib/python3.7/dist-packages (21.0.1)\n"
          ],
          "name": "stdout"
        }
      ]
    },
    {
      "cell_type": "markdown",
      "metadata": {
        "id": "CwfMLpb8yMpN"
      },
      "source": [
        "Define saving path (adjust if necessary):"
      ]
    },
    {
      "cell_type": "code",
      "metadata": {
        "id": "6zpnd3bSyFLZ"
      },
      "source": [
        "path = '/content/drive/My Drive/Colab Notebooks/Paper/Inference/'"
      ],
      "execution_count": null,
      "outputs": []
    },
    {
      "cell_type": "markdown",
      "metadata": {
        "id": "H_APd5qRZ3e7"
      },
      "source": [
        "### Imports"
      ]
    },
    {
      "cell_type": "code",
      "metadata": {
        "id": "SFT0Q7VmwdFW"
      },
      "source": [
        "import numpy as np"
      ],
      "execution_count": null,
      "outputs": []
    },
    {
      "cell_type": "markdown",
      "metadata": {
        "id": "e7-2gUpaS-Xi"
      },
      "source": [
        "### MMD$^2$ convergence"
      ]
    },
    {
      "cell_type": "markdown",
      "metadata": {
        "id": "amZYobSgcTg9"
      },
      "source": [
        "Calculate MMD$^2$ approximation for fixed $d=2$ and varying $n$:"
      ]
    },
    {
      "cell_type": "code",
      "metadata": {
        "id": "9l-c34P160eQ"
      },
      "source": [
        "np.random.seed(11)"
      ],
      "execution_count": null,
      "outputs": []
    },
    {
      "cell_type": "markdown",
      "metadata": {
        "id": "h8NS5lkg64lx"
      },
      "source": [
        "Set parameters:"
      ]
    },
    {
      "cell_type": "code",
      "metadata": {
        "id": "62mV95-_63ov"
      },
      "source": [
        "n = [ 2**j for j in range(3,15) ]       # number of simulated samples - powers of 2\n",
        "m = 2**15                               # number of true samples\n",
        "num = 25                                # numbers of repetitions for MC and RQMC\n",
        "theta = (1.5,1.5,1.5,1.5,1.5)                     # true theta\n",
        "d = 2                                    # data dimensions\n",
        "kernel = 'gaussian'                     # 'gaussian' or 'imq' or 'matern'\n",
        "l = 1.5*d**(1/2)                        # lengthscale for Gaussian kernel (l=-1 for median heuristic)\n",
        "c = 1                                   # parameter c for IMQ kernel\n",
        "b = -0.5                                # parameter beta for IMQ kernel\n",
        "nu = 7/2                                # parameter nu for Matern kernel\n",
        "stat_type = 'v'                         # 'v' for V-statistic, 'u' for U-statistic"
      ],
      "execution_count": null,
      "outputs": []
    },
    {
      "cell_type": "markdown",
      "metadata": {
        "id": "t312sw-lKp51"
      },
      "source": [
        "Define QMC sequence:"
      ]
    },
    {
      "cell_type": "code",
      "metadata": {
        "id": "kcYkpegjKpeZ"
      },
      "source": [
        "i_theta,_ = divmod(theta,np.ones(5)) \n",
        "i_theta.astype(int)\n",
        "qmc = qmcpy.Halton(np.sum(i_theta.astype(int)),seed=7)"
      ],
      "execution_count": null,
      "outputs": []
    },
    {
      "cell_type": "markdown",
      "metadata": {
        "id": "Kt4rY5gj8NcW"
      },
      "source": [
        "Calculate MMD$^2$ approximation for varying $n$:"
      ]
    },
    {
      "cell_type": "code",
      "metadata": {
        "id": "JZEo0ov48AJm",
        "colab": {
          "base_uri": "https://localhost:8080/"
        },
        "outputId": "f3e8e367-3a5b-4903-be36-f16e8b04016e"
      },
      "source": [
        "mmd_mc,mmd_qmc,mmd_rqmc,mmd_min_mc,mmd_max_mc,mmd_min_rqmc,mmd_max_rqmc = mmd_conv('bibeta',n,num,2,l,c,b,nu,kernel,stat_type,theta)"
      ],
      "execution_count": null,
      "outputs": [
        {
          "output_type": "stream",
          "text": [
            "sample size:  8\n",
            "sample size:  16\n",
            "sample size:  32\n",
            "sample size:  64\n",
            "sample size:  128\n",
            "sample size:  256\n",
            "sample size:  512\n",
            "sample size:  1024\n",
            "sample size:  2048\n",
            "sample size:  4096\n",
            "sample size:  8192\n",
            "sample size:  16384\n"
          ],
          "name": "stdout"
        }
      ]
    },
    {
      "cell_type": "markdown",
      "metadata": {
        "id": "u_4KSvZw8UYi"
      },
      "source": [
        "Plot the MMD$^2$ approximation against $n$:"
      ]
    },
    {
      "cell_type": "code",
      "metadata": {
        "id": "QPxnORlu8Y56",
        "colab": {
          "base_uri": "https://localhost:8080/",
          "height": 522
        },
        "outputId": "7e2d408e-ac32-4fe5-aff6-5df7e2513a61"
      },
      "source": [
        "plot_mmd_conv(2,(16,8),mmd_mc,mmd_qmc,mmd_rqmc,'MC','QMC','RQMC',mmd_min_mc,mmd_max_mc,mmd_min_rqmc,mmd_max_rqmc,'bibeta',stat_type)"
      ],
      "execution_count": null,
      "outputs": [
        {
          "output_type": "display_data",
          "data": {
            "image/png": "[encoded data removed]",
            "text/plain": [
              "<Figure size 1152x576 with 1 Axes>"
            ]
          },
          "metadata": {
            "tags": [],
            "needs_background": "light"
          }
        }
      ]
    },
    {
      "cell_type": "code",
      "metadata": {
        "id": "U7eeOn0KmBVy"
      },
      "source": [
        "#np.savez(path+\"bibeta_mmd2_n_%sstat_k%s_int.npz\" %(stat_type,kernel), mmd_mc=mmd_mc,mmd_min_mc=mmd_min_mc,mmd_max_mc=mmd_max_mc,mmd_rqmc=mmd_rqmc,mmd_min_rqmc=mmd_min_rqmc,mmd_max_rqmc=mmd_max_rqmc,mmd_qmc=mmd_qmc)\n",
        "np.savez(path+\"bibeta_mmd2_n_%sstat_k%s_noint.npz\" %(stat_type,kernel), mmd_mc=mmd_mc,mmd_min_mc=mmd_min_mc,mmd_max_mc=mmd_max_mc,mmd_rqmc=mmd_rqmc,mmd_min_rqmc=mmd_min_rqmc,mmd_max_rqmc=mmd_max_rqmc,mmd_qmc=mmd_qmc)"
      ],
      "execution_count": null,
      "outputs": []
    }
  ]
}